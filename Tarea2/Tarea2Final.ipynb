{
 "cells": [
  {
   "cell_type": "markdown",
   "metadata": {},
   "source": [
    "## 1. Ejercicios libro guia:"
   ]
  },
  {
   "cell_type": "markdown",
   "metadata": {},
   "source": [
    "**2.1** Let $C \\in R^n$ be a convex set, with $x_1,...,x_k \\in C$, and let $\\theta_1, ... ,\\theta_k \\in R$ satisfy $\\theta_i \\geq 0$, $\\theta_1 + ... + \\theta_k = 1$. Show that $\\theta_1x_1 + ... + \\theta_k x_k \\in C$ ( The  deﬁnition  of  convexity  is  that this  holds  for  $k  =  2$;  you  must  show  it  for  arbitrary  k) Hint. Use induction on $k$."
   ]
  },
  {
   "cell_type": "markdown",
   "metadata": {},
   "source": [
    "\n",
    "Usemos inducción sobre $k$:\n",
    "\n",
    "Para $k=2$ se tiene por definición\n",
    "\n",
    "* Suponga que el enunciado se cumple para k.\n",
    "\n",
    "* Sean $x_1,\\cdots,x_{k+1}\\in C$ cualesquiera y $\\theta_1,\\dots,\\theta_{k+1}\\in \\mathbb{R}$ tales que $\\sum_{i=1}^k \\theta =1$, veamos dos casos:\n",
    "    1. Algún $\\theta_i=1$, entonces todo $\\theta_j\\neq\\theta_i$ cumple que $\\theta_j=0$.\n",
    "\n",
    "    2. De lo contrario podemos expresar la combinación convexa de la siguiente manera:\n",
    "  $$\\sum_{i=1}^k\\theta_ix_i=\\theta_1x_1 +\\sum_{i=2}^k\\theta_ix_i=\\theta_1x_1 +(1-\\theta_1)\\sum_{i=2}^k\\left(\\frac{\\theta_i}{1-\\theta_1}\\right)x_i$$"
   ]
  },
  {
   "cell_type": "markdown",
   "metadata": {},
   "source": [
    "**2.3** Midpoint convexity. A set $C$ is *midpoint convex* if whenever two points $a,b$ are in $C$, the average or midpoint $\\frac{(a+b)}{2}$ is in C. Obviously a convex set is midpoint convex. It can be proved that under mild conditions midpoint convexity implies convexity. As a simple case, prove that if $C$ is closed and midpoint convex, then $C$ is convex."
   ]
  },
  {
   "cell_type": "markdown",
   "metadata": {},
   "source": [
    "Sea $C$ un conjunto convexo por punto medio (midpoint) y cerrado. Entonces tome $x,y\\in C$,$\\theta\\in [0,1]$ cualesquiera, veamos ahora que $z=x\\theta+y(1-\\theta)\\in C$. Definamos por recursión la siguiente familia de conjuntos:\n",
    "\n",
    "$$A_0=\\{x,y\\}\\quad A_{n+1}=\\{\\frac{a+b}{2}|a,b\\in A_n\\}\\cup A_n$$\n",
    "\n",
    "Note que como todos los elementos de $A_i$ son puntos medios de dos elementos de $C$, entonces $A_i\\subseteq C$ y además $A_i$ es finito. Fijemos ahora $s_n\\in A_n$ un elemento tal que $|s_n-z|=\\min\\{|a-z||a\\in A_n\\}$. Veamos que  $\\{s_n\\}_{n\\in \\mathbb{N}}$ es una sucesión que converge a $z$, para verlo al tomar un $\\epsilon>0$ tomamos $N\\in\\mathbb{N}$ tal que $\\frac{|x-y|}{2^N}<\\epsilon$, como en efecto si $k\\geq N$ tenemos que $|s_k-z|\\leq \\frac{|x-y|}{2^N}$ dada la construcción de los $A_n$. Como $C$ es cerrado y $\\lim_{n\\to \\infty}s_n=z$, entonces $z\\in C$."
   ]
  },
  {
   "cell_type": "markdown",
   "metadata": {},
   "source": [
    "**2.4** Show  that  the  convex  hull  of  a  set  $S$   is  the  intersection  of  all  convex  sets  that  contain  $S$. (The  same  method  can  be  used  to  show  that  the  conic,  or  affine,  or  linear  hull  of  a  set  S is  the  intersection  of  all  conic  sets,  or  aﬃne  sets,  or  subspaces  that  contain  S.)"
   ]
  },
  {
   "cell_type": "markdown",
   "metadata": {},
   "source": [
    "Definamos el conjunto $C_S=\\{S\\subseteq C| C\\textsf{ es convexo}\\}$. Veamos que $\\textsf{conv}S =\\bigcap C_S$:\n",
    "\n",
    "$\\textsf{conv}S\\subseteq \\bigcap C_S$\\\\\n",
    "Sea $x\\in \\textsf{conv}S$ cualquiera, entonces $x=\\sum_{i=1}^nx_i\\theta_i$ para algunos $x_i\\in S$. Ahora, si tomamos $C\\in C_S$ cualquiera, dado que $S\\subseteq C$ tenemos que $x_i\\in C$ y por convexidad $x\\in C$. Así $x\\in \\bigcap C_S$.\n",
    "$\\textsf{conv}S\\supseteq \\bigcap C_S$\\\\\n",
    "Sea $x\\in \\bigcap C_S$ cualquiera, entonces para todo $C\\in C_S$ se tiene que $x\\in C$, en particular $S\\subseteq \\textsf{conv} S$ y $\\textsf{conv}S$ es convexo, entonces $x\\in \\textsf{conv}S$."
   ]
  },
  {
   "cell_type": "markdown",
   "metadata": {},
   "source": [
    "**2.5** What   is   the   distance   between   two   parallel   hyperplanes $\\{x \\in R^n | a^Tx=b_1\\}$ y $\\{ x \\in R^n | a^Tx = b_2\\}"
   ]
  },
  {
   "cell_type": "markdown",
   "metadata": {},
   "source": [
    "Si $H_1=\\{x \\in R^n | a^Tx=b_1\\}$ y $H_2=\\{x \\in R^n | a^Tx = b_2\\}$, al tomar un $x_1\\in H_1$ fijo podemos obtener la ecuación de una recta en dirección al vector normal del hiperplano $a$ que pase por el punto $x_1$ de la siguiente forma $$f(x)=x_1+ax$$, después la interseccón de la recta y $H_2$ cumple que: \n",
    "$$a^T(x_1+ax)=b_2\\quad \\Rightarrow \\quad a^Tax=b_2-a^Tx_1\\quad  \\Rightarrow\\quad  x=\\frac{b_2-a^Tx_1}{a^Ta}$$\n",
    "Ahora el punto de intersección con $H_2$ es:\n",
    "\n",
    "$$x_2=x_1+a\\left(\\frac{b_2-a^Tx_1}{a^Ta}\\right)$$\n",
    "\n",
    "Como $x_1\\in H_1$ entonces $a^Tx_1=b_1$ y por la definición de la norma euclidiana $a^Ta=\\|a\\|^2$, tenemos que:\n",
    "\n",
    "$$x_2=x_1+a\\left(\\frac{b_2-b_1}{\\|a\\|^2}\\right)\\quad \\Rightarrow\\quad x_2-x_1=a\\left(\\frac{b_2-b_1}{\\|a\\|^2}\\right)$$\n",
    "\n",
    "Aplicando norma tenemos:\n",
    "\n",
    "$$\\|x_2-x_1\\|=\\|a\\|\\frac{|b_2-b_1|}{\\|a\\|^2}=\\frac{|b_2-b_1|}{\\|a\\|}$$\n",
    "\n",
    "Entonces la distancia entre los dos planos paralelos es $\\frac{|b_2-b_1|}{\\|a\\|}$.\\\\"
   ]
  },
  {
   "cell_type": "markdown",
   "metadata": {},
   "source": [
    "**2.8** Which   of   the   following   sets   $S$    are   polyhedra?      If   possible,   express   $S$    in   the   form  $S = \\{ x| Ax \\preceq b, Fx = g\\}$"
   ]
  },
  {
   "cell_type": "markdown",
   "metadata": {},
   "source": [
    ">**(a)** $S = \\{ y_1a_1 + y_2a_2 | -1 \\leq y_1 \\leq 1, -1 \\leq y_2 \\leq 1\\}$, where $a_1, a_2 \\in R^n$"
   ]
  },
  {
   "cell_type": "markdown",
   "metadata": {},
   "source": [
    ">Si es un poliedro, note que la figura es un paralelogramo con esquinas $\\pm a_1\\pm a_2 $ de esta manera es la intersección de 4 semiespacios:\n",
    "$$\\{x|n_1^Tx\\leq |n_1^Ta_2| \\}\\quad\\{x|-n_1^Tx\\leq |n_1^Ta_2| \\}\\quad\\{x|n_2^Tx\\leq |n_2^Ta_2| \\}\\quad\\{x|-n_2^Tx\\leq |n_2Ta_2| \\}$$\n",
    "Donde $n_1=a_2-\\frac{a_2^Ta_1}{\\|a_1\\|^2}a_1$ es el vector normal perpendicular a $a_1$ y analogamente $n_2=a_1-\\frac{a_1^Ta_2}{\\|a_2\\|^2}a_2$ es el vector normal perpendicular a $a_2$."
   ]
  },
  {
   "cell_type": "markdown",
   "metadata": {},
   "source": [
    ">**(b)** $S = \\{x \\in R^n | x\\succeq 0, 1^Tx = 1, \\sum_{i=1}^n x_ia_i = b_1, \\sum_{i=1}^n x_ia_i^2 = b_2\\}$, where $a_1,...,a_n \\in R$ and $b_1, b_2 \\in R$"
   ]
  },
  {
   "cell_type": "markdown",
   "metadata": {},
   "source": [
    ">Es poliedro, podemos tomar las siguientes matrices y vectores para caracterizarlo:\n",
    "$$A=I_n \\quad b=0 \\quad F=\\begin{pmatrix}\n",
    "a_1 & \\cdots & a_n\\\\\n",
    "a_1^2 & \\cdots & a_n^2\n",
    "\\end{pmatrix} \\quad g=\\begin{pmatrix}\n",
    "b_1\\\\b_2\n",
    "\\end{pmatrix}\n",
    "$$\n",
    "En efecto, $S=\\{x|Ax\\preceq b, Fx=g\\}$."
   ]
  },
  {
   "cell_type": "markdown",
   "metadata": {},
   "source": [
    ">**(c)** $S = \\{ x\\in R^n | x\\succeq 0, x^Ty\\leq 1 \\text{ for all } y \\text{ with } ||y||_2 = 1\\}$"
   ]
  },
  {
   "cell_type": "markdown",
   "metadata": {},
   "source": [
    ">No es poliedro, note que los vectores $y$ que cumplen las condiciones dadas son infinitos y forman un circulo de radio 1, por lo tanto no es posible representarlo en un numero finito de restricciones."
   ]
  },
  {
   "cell_type": "markdown",
   "metadata": {},
   "source": [
    ">**(d)** $S = \\{ x \\in R^n | x\\succeq 0, x^Ty \\leq 1 \\textsf{ for all } y \\text{ with } \\sum_{i=1}^n |y_i| = 1\\}$\n"
   ]
  },
  {
   "cell_type": "markdown",
   "metadata": {},
   "source": [
    ">Veamos que podemos reducir estas restricciones a $2n$ inequaciones de la forma:\n",
    "\n",
    ">$$-x_ik\\leq 0\\quad -x_ik\\leq 0 \\quad,1\\leq i\\leq n$$\n",
    "\n",
    ">Entonces veamos que $x$ cumple la condicion $(x^Ty \\leq 1 )\\forall y : \\sum_{i=1}^n |y_i| = 1$ si y solo si $|x_i|\\leq 1$\n",
    ">* Si $x$ cumple la condicion tomamos $y_k=\\pm 1$ si $\\pm x_k=|x_k|=\\max_i|x_i|$ y 0 para las demas componentes, así:\n",
    "$$x^T=\\sum_i x_iy_i=y_kx_k=\\max_i|x_i|\\leq 1$$\n",
    ">* Si $|x_i|\\leq 1$, despues:\n",
    "$$x^Ty\\leq\\sum_i|x_i||y_i|\\leq\\sum_i|y_i|=1$$\n",
    "\n",
    ">De manera que al reducir  el numero de restricciones a $2n$ entonces $S$ es poliedro"
   ]
  },
  {
   "cell_type": "markdown",
   "metadata": {},
   "source": [
    "**2.9** *Voronoi   sets   and   polyhedral   decomposition*. Let $x_0,...,x_K \\in R^n$. Consider the set of points that are closer (in Euclidean norm) to $x_0$ than the other $x_i$, *i.e*,\n",
    "$$ V = \\{ x \\in R^n | ||x - x_0||_2 \\leq ||x - x_i||_2, i = 1,...,K\\}$$\n",
    "\n",
    "$V$ is called the *Voronoi region* arround $x_0$ with respect to $x_1, ..., x_K$ "
   ]
  },
  {
   "cell_type": "markdown",
   "metadata": {},
   "source": [
    ">**(a)** Show that $V$ is a polyhedron. Express $V$ in the form $V = \\{ x | Ax \\preceq b\\}$"
   ]
  },
  {
   "cell_type": "markdown",
   "metadata": {},
   "source": [
    ">Veamos entonces una forma equivalente de ver la restricción elevando la desigualdad al cuadrado, entonces para cada $x_i$ tenemos que:\n",
    "$$$$\\begin{align*}\n",
    "    \\|x-x_0\\|^2& \\leq\\|x-x_i\\|^2\\\\\n",
    "    (x-x_0)^T(x-x_0)&\\leq (x-x_i)^T(x-x_i)\\\\\n",
    "    x^Tx-2x^Tx_0+x_0^Tx_0&\\leq x^Tx-2x^Tx_i+x_i^Tx_i\\\\\n",
    "    -2x^Tx_0+x_0^Tx_0&\\leq -2x^Tx_i+x_i^Tx_i\\\\\n",
    "    2x^Tx_i-2x^Tx_0&\\leq x_i^Tx_i-x_0^Tx_0\\\\\n",
    "    x^T2(x_i-x_0)&\\leq x_i^Tx_i-x_0^Tx_0\\\\\n",
    "    \\end{align*}$$$$\n",
    ">De esta manera podemos ver el conjunto de la forma $V=\\{x|Ax\\preceq b\\}$ donde \n",
    "$$A=\\begin{pmatrix}\n",
    "2(x_1-x_0)\\\\\n",
    "\\vdots\\\\\n",
    "2(x_K-x_0)\\\\\n",
    "\\end{pmatrix}\\quad b=\\begin{pmatrix}\n",
    "x_1^Tx_1-x_0^Tx_0\\\\\n",
    "\\vdots\\\\\n",
    "x_K^Tx_K-x_0^Tx_0\\\\\n",
    "\\end{pmatrix}$$"
   ]
  },
  {
   "cell_type": "markdown",
   "metadata": {},
   "source": [
    ">**(b)** Conversely,  given a polyhedron $P$  with nonempty interior,  show how to ﬁnd $x_0,...,x_K$ so that the polyhedron is the Voronoi region of $x_0$ with respect to $x_1,...,x_K$."
   ]
  },
  {
   "cell_type": "markdown",
   "metadata": {},
   "source": [
    ">Dado que $P$ tiene interior no vacío podemos verlo de la forma $P=\\{x|Ax\\preceq b\\}$, así fijamos un punto $x_0\\in \\textsf{int}(P)$ cualquiera y basta con reflejarlo con el límite lineal que representa cada desigualdad, es decir, el hiperplano $h_i={x|a_i^Tx=b_i}$. Entonces debemos construir un vector con la dirección del vector $a$ tal que tenga la misma distancia a $h_i$, entonces $x_i$ cumple que:\n",
    "$$x_i=x_0+\\lambda a_i \\quad  b_i-a_i^Tx_0=a_i^Tx_i-b_i$$\n",
    "\n",
    "$$$$\\begin{align*}\n",
    "    2b_i-a_i^Tx_0=a_i^Tx_i\\\\\n",
    "    2b_i-a_i^Tx_0=a_i^T(x_0+\\lambda a_i)\\\\\n",
    "    2b_i-a_i^Tx_0=a_i^Tx_0+\\lambda \\|a_i\\|^2\\\\\n",
    "    \\frac{2b_i-2a_i^Tx_0}{\\|a_i\\|^2}=\\lambda \\\\\n",
    "    \\end{align*}$$$$\n",
    ">De manera que el vector indicado es $x_i=x_0+\\left(\\frac{2(b_i-a_i^Tx_0)}{\\|a_i\\|^2}\\right)$."
   ]
  },
  {
   "cell_type": "markdown",
   "metadata": {},
   "source": [
    ">**(c)** We can also consider the sets \n",
    "$$ V_k = \\{ x \\in R^n  | ||x - x_k||_2 \\leq ||x-x_i||_2, i \\neq k\\}$$\n",
    "The set $V_k$ consists of points in $R^n$ for which the closest point in the set $\\{x_0,...,x_K\\}$ is $x_k$.\n",
    "The sets $V_0,...,V_K$ give a polyhedral decomposition of $R^n$. More precisely, the sets $V_k$ are polyhedra, $\\bigcup_{k=0}^K V_k = R^n$, and **int** $V_i \\cap$ **int** $V_j = \\emptyset$ for $i \\neq j$, *i.e*, $V_i$ and $V_j$ intersect at most along a boundary.\n",
    "Suppose that $P_1, ..., P_m$ are polyhedra such that $\\bigcup_{i=1}^m P_i = R^n$, and **int** $P_i \\cap$ **int** $P_j = \\emptyset$ for $i \\neq j$. Can this polyhedral decomposition of $R^n$ be described as the Voronoi regions generated by an appropriate set of points?"
   ]
  },
  {
   "cell_type": "markdown",
   "metadata": {},
   "source": [
    ">No, tome la siguiente partición de $\\mathbb{R}$,  $x=\\{[-3,3],[-4,-3],[3,4],[4,\\infty),(-\\infty,-4]\\}$, en efecto cada conjunto es un poliedro pues un intervalo cerrado puede verse de la forma: $$[a,b]=\\left\\{x:\\begin{pmatrix}-1\\\\ 1\\end{pmatrix}x=\\begin{pmatrix}a\\\\ b\\end{pmatrix}\\right\\}$$\n",
    "Ahora veamos que para cualquier elección de $x_0\\in (-3,3)$ no puede hacer parte de la representación en puntos por regiones de Voronoi, tomemos los siguientes casos:\n",
    "* $x_0\\geq 0$, entonces al reflejar con respecto a $-3$ obtenemos un valor $x_1$ tal que $-9< x_1\\leq-6$, sin embargo $x_1\\in (-4,-3)$ esto es una contradicción.\n",
    "* $x_0< 0$, haciendo un procedimiento análogo la reflexión con respecto a $3$ obtenemos un valor de $x_2$ entre 6 y 9, pero $x_2\\in (3,4)$ y obtenemos una contradicción."
   ]
  },
  {
   "cell_type": "markdown",
   "metadata": {},
   "source": [
    "**2.10** *Solution set of a quadratic inequality*. Let $C \\subseteq R^n$ be the solution set of a quadratic inequality,\n",
    "$$ C = \\{ x \\in R^n | x^TAx + b^Tx + c \\leq 0\\}$$,\n",
    "with $A\\in S^n, b\\in R^n$, and $c \\in R$."
   ]
  },
  {
   "cell_type": "markdown",
   "metadata": {},
   "source": [
    ">**(a)** Show that $C$ is convex if $A \\succeq 0$"
   ]
  },
  {
   "cell_type": "markdown",
   "metadata": {},
   "source": [
    ">Note que para que C sea convexo cualquier linea, es decir, un conjunto de la forma $\\{x+tv|t\\in \\mathbb{R}\\}$ en intersección con el conjunto debe ser convexa, esta intersección se puede ver como:\n",
    "\n",
    ">$$(x+tv)^TA(x+tv)+b^T(x+tv)+c=(v^TAv)t^2+(B^t+2x^TAv)t+c+b^T+x^TAx$$\n",
    "\n",
    ">Dado que $A$ es definida positiva el coeficiente de $t^2$ es positivo, y esto quiere decir que la intersección puede ser vista como el intervalo $[x_1,x_2]$ cuyos limites son las raices reales del polinomio o $\\emptyset$ si dichas raíces no existen. \n",
    "\n",
    ">Para ver que la reciproca es falsa tome el polinomio $-x^2-1<0$ este conjunto es convexo pues es igual a $\\mathbb{R}^n$ dado que la parabola esta debajo del eje $x$."
   ]
  },
  {
   "cell_type": "markdown",
   "metadata": {},
   "source": [
    ">**(b)** Show that the intersection of C and the hyperplane defined by $g^Tx+ h = 0$ (where $g \\neq 0$) is convex if $A + \\lambda gg^T \\succeq 0$ for some $\\lambda \\in R$ "
   ]
  },
  {
   "cell_type": "markdown",
   "metadata": {},
   "source": [
    ">Sea $B=A+\\lambda gg^T\\succeq 0$, despues $A=B-\\lambda gg^T$ y al reemplazar en las restricciones del conjunto tenemos:\n",
    "$$$$\\begin{align*}\n",
    " x^T(B-\\lambda gg^T)x + b^Tx + c \\leq 0\\\\\n",
    " x^TBx-\\lambda x^T gg^Tx + b^Tx + c \\leq 0\\\\\n",
    " x^TBx-\\lambda (g^Tx)^Tg^Tx + b^Tx + c \\leq 0\\\\\n",
    "\\end{align*}$$$$\n",
    "como $g^Tx+ h = 0$ y despues $g^Tx=-h$, al reemplazar en lo anterior:\n",
    "$$$$\\begin{align*}\n",
    " x^TBx-\\lambda h^2 + b^Tx + c \\leq 0\\\\\n",
    " x^TBx + b^Tx +( c-\\lambda h^2) \\leq 0\\\\\n",
    "\\end{align*}$$$$\n",
    "Como por hipotesis $B\\succeq 0$ entonces el conjunto $C$ es convexo y como $\\{g^Tx+ h = 0\\}$ es un hiperplano tambien es convexo, dado que ambos conjuntos son convexos su intersección tambien lo es."
   ]
  },
  {
   "cell_type": "markdown",
   "metadata": {},
   "source": [
    ">Are the converses of these statements true?|"
   ]
  },
  {
   "cell_type": "markdown",
   "metadata": {},
   "source": [
    "**2.13** *Conic hull of outer products*. Consider the set of rank-k *outer products*, defined as $\\{ XX^T | X \\in R^{n x k}, \\text{ rank} X = k\\}$. Describe its conic hull in simple terms."
   ]
  },
  {
   "cell_type": "markdown",
   "metadata": {},
   "source": [
    "Note que la una combinación conica del conjunto es de la forma $\\alpha A^TA+\\beta B^TB$ con $\\alpha,\\beta$ no negativos y $\\textsf{rank}A=\\textsf{rank}B=k$, como $\\textsf{rank}A=\\textsf{rank}A^TA$ los escalares no afectan el rango de las matrices a menos que sean 0 tenemos que ver los siguientes casos:\n",
    "\n",
    "* Los escalares son positivos, aqui basta con ver que $\\textsf{rank}(A+B)\\geq k$ . Tome $v\\in N(A+B)$ un vector en el espacio nulo de $A+B$, así tenemos que: $$0=(A+B)v=v^T(A+B)v=v^TAv+v^TBv$$ Así: $$v^TAv=0\\Leftrightarrow Av=0$$ $$v^TBv=0\\Leftrightarrow Bv=0$$ Entonces $v\\in N(A)$ y $v\\in N(A)$ por lo tanto $Null(A+B)\\geq Null(A)+Null(B) $ despues por el teorema de rango nulidad tenemos que $rank(A+B)\\geq k$. \n",
    "* Los escalares son 0 entonces el rango de las matrices es 0\n",
    "\n",
    "Entonces podemos caracterizar el conjunto como $\\{ XX^T | X \\in R^{n x k}, \\text{ rank} X \\geq k \\textsf{ o } \\text{ rank} X = 0\\}$"
   ]
  },
  {
   "cell_type": "markdown",
   "metadata": {},
   "source": [
    "**2.14** *Expanded and restricted sets.* Let $S \\subseteq R^n$, and let $||\\cdot||$ be a norm on $R^n$"
   ]
  },
  {
   "cell_type": "markdown",
   "metadata": {},
   "source": [
    ">**(a)** For $a \\geq 0$ we define $S_a$ as $\\{x| \\text{ dist}(x,S) \\leq a\\}$, where dist$(x,S) = inf_{y\\in S}||x-y||$. We refer to $S_a$ as $S$ *expanded or extended* by a. Show that if $S$ is convex, then $S_a$ is convex."
   ]
  },
  {
   "cell_type": "markdown",
   "metadata": {},
   "source": [
    ">Supongamos que $S$ es convexo, entonces tomemos $x,z\\in S_a$ y $\\theta \\in [0,1]$ cualesquiera, veamos que:\n",
    "$$$$\\begin{align*}\n",
    "    \\inf_{y\\in S}\\|\\theta x+(1-\\theta)z-y\\|&= \\inf_{y\\in S}\\|\\theta x+(1-\\theta)z-\\theta y-(1-\\theta)y\\|\\\\\n",
    "    &\\leq  \\inf_{y\\in S}\\|\\theta x-\\theta y\\|+\\|(1-\\theta)z-(1-\\theta)y\\|\\\\\n",
    "    &\\leq  \\theta\\inf_{y\\in S}\\| x-y\\|+(1-\\theta)\\inf_{y\\in S}\\|z-y\\|\\textsf{ por hipotesis tenemos}\\\\\n",
    "    &\\leq \\theta a+ (1-\\theta)a=a\n",
    "\\end{align*}$$$$\n",
    "Entonces $\\theta x+(1-\\theta)z\\in S_a$ y $S_a$ es convexo."
   ]
  },
  {
   "cell_type": "markdown",
   "metadata": {},
   "source": [
    ">**(b)** For $a \\geq 0$ we define $S_{-a} = \\{x | B(x,a) \\subseteq S\\}$, where $B(x,a)$ is the ball (in the norm $||\\cdot||$), centered at x, with radius a. We refer to $S_{-a}$ as $S$ *shrunk or restricted* by a, since $S_{-a}$ consists of all points that are at least a distance $a$ from $R^n \\backslash S$. Show that if $S$ is convex, then $S_{-a}$ is convex."
   ]
  },
  {
   "cell_type": "markdown",
   "metadata": {},
   "source": [
    ">Tome $x,y\\in S_{-a}$, para cualquier $\\|z\\|\\leq a$ tenemos que $x+z,y+z\\in S$, después por convexidad de $S$ tenemos que:\n",
    "$$\\theta(x+z)+(1-\\theta)(y+z)=\\theta x+(1-\\theta)y+z\\in S$$\n",
    "Como $\\|z\\|\\leq a$ entonces $\\theta x+(1-\\theta)y\\in S_{-a}$ y $S_{-a}$ es convexo."
   ]
  },
  {
   "cell_type": "markdown",
   "metadata": {},
   "source": [
    "**2.15** *Some sets of probability distributions.* Let $x$ be a real-valued random variable with **prob**$(x=a_i) = p_i, i = 1,...,n$, where $a_1 < a_2 < ... < a_n$. Of course $p \\in R^n$ lies in the standard probability simplex $P = \\{p | 1^Tp = 1 , p \\succeq 0 \\}$. Which of the following conditions are convex in p? (That is, for which of the following conditions is the set of $p \\in P$ that satisfy the condition convex?)."
   ]
  },
  {
   "cell_type": "markdown",
   "metadata": {},
   "source": [
    ">**(a)** $\\alpha \\leq \\textbf{E}f(x) \\leq \\beta$ where **E** $f(x)$ is the expected value of $f(x)$ *i.e.* **E**$f(x) = \\sum_{i=1}^n p_if(a_i).$ (The function $f: R \\rightarrow R$ is given)."
   ]
  },
  {
   "cell_type": "markdown",
   "metadata": {},
   "source": [
    ">Si satisface la condición, definamos $A=\\{p\\in P| \\alpha \\leq \\textbf{E}_pf(x) \\leq \\beta \\}$, tomemos $x,y \\in A$ entonces tenemos que:\n",
    "$$\\alpha \\leq \\sum_{i=1}^n x_i f(a_i)\\leq \\beta$$\n",
    "$$\\alpha \\leq \\sum_{i=1}^n y_i f(a_i)\\leq \\beta$$\n",
    "Después, multiplicando $\\theta$ y $(1-\\theta)$ en la primera y segunda inecuación respectivamente (es posible puesto que ambos valores son positivos) y posteriormente sumando cada inecuación.\n",
    "$$$$\n",
    "\\begin{align*}\n",
    "\\theta\\alpha+(1-\\theta)\\alpha \\leq \\theta\\sum_{i=1}^n x_i f(a_i)&+(1-\\theta)\\sum_{i=1}^n y_i f(a_i)\\leq \\theta\\beta+(1-\\theta)\\beta\\\\\n",
    "\\alpha \\leq \\sum_{i=1}^n \\theta x_i f(a_i)&+(1-\\theta) y_i f(a_i)\\leq \\beta\\\\\n",
    "\\alpha \\leq \\sum_{i=1}^n (\\theta x_i&+(1-\\theta) y_i) f(a_i)\\leq \\beta\\\\\n",
    "\\end{align*}\n",
    "$$$$\n",
    "Entonces $(\\theta x+(1-\\theta) y)\\in A$, en consecuencia $A$ es convexo."
   ]
  },
  {
   "cell_type": "markdown",
   "metadata": {},
   "source": [
    ">**(b)** **prob**$(x > \\alpha) \\leq \\beta$."
   ]
  },
  {
   "cell_type": "markdown",
   "metadata": {},
   "source": [
    ">Si satisface la condición, análogamente definamos $A=\\{p\\in P| \\textsf{prob}(x>\\alpha)\\leq \\beta\\}$, tomemos $x,y \\in A$ entonces tenemos que:\n",
    "$$\\sum_{a_i>\\alpha}x_i\\leq \\beta \\quad \\sum_{a_i>\\alpha}y_i\\leq \\beta $$\n",
    "Despues podemos hacer un procedimiento análogo\n",
    "$$$$\n",
    "\\begin{align*}\n",
    "\\theta\\sum_{a_i>\\alpha}x_i+(1-\\theta)\\sum_{a_i>\\alpha}y_i&\\leq \\theta\\beta+(1-\\theta)\\beta\\\\\n",
    "\\sum_{a_i>\\alpha}\\theta x_i+(1-\\theta)y_i&\\leq \\beta\n",
    "\\end{align*}\n",
    "$$$$\n",
    "Como $\\theta x+(1-\\theta)y\\in A$  entonces $A$ es convexo."
   ]
  },
  {
   "cell_type": "markdown",
   "metadata": {},
   "source": [
    ">**(c)** **E**$|x^3| \\leq \\alpha$ **E** $|x|$."
   ]
  },
  {
   "cell_type": "markdown",
   "metadata": {},
   "source": [
    ">Si satisface la condición, si $A=\\{p\\in P| E|x^3|\\leq \\alpha E|x| \\}$ y $x,y\\in A$ despues:\n",
    "$$\\sum_{i=0}^n x_i|a_i^3|\\leq \\alpha \\sum_{i=0}^n x_i|a_i| \\quad \\sum_{i=0}^n y_i|a_i^3|\\leq \\alpha \\sum_{i=0}^n y_i|a_i| $$\n",
    "De nuevo, hacemos una combinacion lineal con los valores de las desigualdades tenemos\n",
    "$$$$\n",
    "\\begin{align*}\n",
    "\\theta\\sum_{i=0}^n x_i|a_i^3| (1-\\theta)\\sum_{i=0}^n y_i|a_i^3|&\\leq \\theta\\alpha \\sum_{i=0}^n x_i|a_i|+(1-\\theta)\\alpha \\sum_{i=0}^n y_i|a_i|\\\\\n",
    "\\sum_{i=0}^n (\\theta x_i+(1-\\theta)y_i)|a_i^3|&\\leq \\sum_{i=0}^n \\theta\\alpha x_i|a_i|+(1-\\theta)\\alpha  y_i|a_i|\\\\\n",
    "&\\leq \\alpha\\sum_{i=0}^n (\\theta x_i+(1-\\theta)y_i)|a_i|\\\\\n",
    "\\end{align*}\n",
    "$$$$\n",
    "Así $\\theta x+(1-\\theta)y\\in A$ y $A$ es convexo."
   ]
  },
  {
   "cell_type": "markdown",
   "metadata": {},
   "source": [
    ">**(d)** **E**$x^2 \\leq \\alpha$."
   ]
  },
  {
   "cell_type": "markdown",
   "metadata": {},
   "source": [
    ">Si satisface la condición, si $A=\\{p\\in P| Ex^2\\leq \\alpha \\}$ y $x,y\\in A$ esto es:\n",
    "$$\\sum_{i=0}^n x_ia_i^2\\leq \\alpha \\quad \\sum_{i=0}^n x_ia_i^2\\leq \\alpha $$\n",
    "De nuevo, hacemos una combinacion lineal con los valores de las desigualdades y obtenemos:\n",
    "$$$$\n",
    "\\begin{align*}\n",
    "\\theta\\sum_{i=0}^n x_ia_i^2+(1-\\theta)\\sum_{i=0}^n y_ia_i^2&\\leq \\theta\\alpha +(1-\\theta)\\alpha \\\\\n",
    "\\sum_{i=0}^n (\\theta x_i+(1-\\theta) y_i)a_i^2&\\leq \\alpha  \\\\\n",
    "\\end{align*}\n",
    "$$$$\n",
    "En conclusion $\\theta x+(1-\\theta)y\\in A$ y $A$ es convexo."
   ]
  },
  {
   "cell_type": "markdown",
   "metadata": {},
   "source": [
    ">**(e)** **E**$x^2 \\geq \\alpha$."
   ]
  },
  {
   "cell_type": "markdown",
   "metadata": {},
   "source": [
    ">Si satisface la condición, el ejercicio analogo al anterior, dado que las operaciones conservan la desigualdad. Tome $x,y\\in\\{p\\in P| Ex^2\\geq \\alpha\\}$, entonces:\n",
    "$$$$\n",
    "\\begin{align*}\n",
    "\\theta\\sum_{i=0}^n x_ia_i^2+(1-\\theta)\\sum_{i=0}^n y_ia_i^2&\\geq \\theta\\alpha +(1-\\theta)\\alpha \\\\\n",
    "\\sum_{i=0}^n (\\theta x_i+(1-\\theta) y_i)a_i^2&\\geq \\alpha  \\\\\n",
    "\\end{align*}\n",
    "$$$$\n",
    "Finalmente $\\theta x+(1-\\theta) y\\in A$ y $A$ es convexo."
   ]
  },
  {
   "cell_type": "markdown",
   "metadata": {},
   "source": [
    ">**(f)** **var**$(x) \\leq \\alpha$, where **var**$(x) =$ **E**$(x - \\textbf{E}x)^2$ is the variance of x."
   ]
  },
  {
   "cell_type": "markdown",
   "metadata": {},
   "source": [
    ">No satisface la condición, tome $\\alpha=1/8$,  $a=(2,3)$ y las siguientes distribucuiones de probabilidad $x=(1,0),y=(0,1)$. En efecto:\n",
    "$$var(x)=(1(2^2))-(1(2))^2=0\\leq \\frac18 \\quad var(y)=(1(3^2))-(1(3))^2=0\\leq \\frac 18$$\n",
    "Al tomar $\\theta=\\frac12$:\n",
    "$$\\textsf{var}\\left(\\frac{x}{2}+\\frac{x}{2}\\right)=\\left(\\frac12(2^2)+\\frac12(3^2)\\right)-\\left(\\frac12(2)+\\frac12(3)\\right)^2=\\frac14>\\frac18$$"
   ]
  },
  {
   "cell_type": "markdown",
   "metadata": {},
   "source": [
    ">**(g)** **var**$(x) \\geq \\alpha$ "
   ]
  },
  {
   "cell_type": "markdown",
   "metadata": {},
   "source": [
    ">Note que podemos escribir las restricciones como:\n",
    "$$\\sum_{i=0}^n a_i^2p_i+\\left(\\sum_{i=0}^n a_i2p_i\\right)^2=b^Tp+p^TAp\\leq \\alpha$$\n",
    "Con $b_i=a_i^2$ y $A=aa^T$. Por el punto **10.(a)** el conjunto es convexo"
   ]
  },
  {
   "cell_type": "markdown",
   "metadata": {},
   "source": [
    ">**(h)** **quartile**$(x) \\geq \\alpha$, where **quartile**$(x) = inf\\{ \\beta | \\textbf{prob}(x\\leq \\beta) \\geq 0.25\\}$"
   ]
  },
  {
   "cell_type": "markdown",
   "metadata": {},
   "source": [
    ">Dado que la restriccion es  equivalente a:\n",
    "\n",
    ">$$(prob(x\\leq \\beta)<0.25 )\\forall \\beta<\\alpha$$\n",
    "\n",
    ">Ahora, como $k=\\max\\{i|a_i<\\alpha\\}$ no depende de la distribucion de probabilidad de la variable aleatoria tenemos que como podemos escribir esto como:\n",
    "\n",
    ">$$prob(x\\leq a_k)=\\sum_{i=0}^kp_i<0.25$$\n",
    "\n",
    ">Tenemos una restricción lineal, por lo tanto describe un semiespacio que es convexo."
   ]
  },
  {
   "cell_type": "markdown",
   "metadata": {},
   "source": [
    ">**(i)** **quartile**$(x) \\leq \\alpha$"
   ]
  },
  {
   "cell_type": "markdown",
   "metadata": {},
   "source": [
    ">De manera análoga al anterior punto y tomando el mismo valor $K$ la restricción puede verse como:\n",
    "\n",
    ">$$\\sum_{i=k+1}^np_i\\geq 0.25$$\n",
    "\n",
    ">Por lo tanto, la condición es convexa"
   ]
  },
  {
   "cell_type": "markdown",
   "metadata": {},
   "source": [
    "**2.16** Show that if $S_1$ and $S_2$ are convex sets in $R^{mxn}$, then so is their partial sum\n",
    "$$ S = \\{ (x, y_1+y_2) | x \\in R^m, y_1, y_2 \\in R^n, (x,y_1) \\in S_1, (x,y_2) \\in S_2\\}$$"
   ]
  },
  {
   "cell_type": "markdown",
   "metadata": {},
   "source": [
    "Sean $a,b\\in S$ cualesquiera, entonces existen $x_1,x_2\\in \\mathbb{R}^m$ y $y_1,y_2,y_3,y_4\\in \\mathbb{R}^n$ tales que $(x_1,y_1),(x_2,y_3)\\in S_1$, $(x_1,y_2),(x_2,y_4)\\in S_2$ y $a=(x_1,y_1+y_2),a=(x_2,y_3+y_4)$.\n",
    "Así por convexidad de $S_1$ y $S_2$:\n",
    "$$(\\theta x_1+ (1-\\theta)x_2,\\theta y_2+ (1-\\theta)y_4)\\in S_2$$\n",
    "$$(\\theta x_1+ (1-\\theta)x_2,\\theta y_1+ (1-\\theta)y_3)\\in S_1$$\n",
    "Después $c=(\\theta x_1+ (1-\\theta)x_2,\\theta y_1+ (1-\\theta)y_3+\\theta y_2+ \\theta)y_4)\\in S$:\n",
    "$$$$\n",
    "\\begin{align*}\n",
    "c=&(\\theta x_1+ (1-\\theta)x_2,\\theta y_1+ (1-\\theta)y_3+\\theta y_2+ \\theta)y_4)\\\\\n",
    "=&(\\theta x_1+ (1-\\theta)x_2,\\theta(y_1+y_2)+(1-\\theta)(y_3+y_4))\\\\\n",
    "=&\\theta a + (1-\\theta)b\n",
    "\\end{align*}\n",
    "$$$$\\\n",
    "Como $c=\\theta a + (1-\\theta)b$ entonces $S$ es convexo."
   ]
  },
  {
   "cell_type": "markdown",
   "metadata": {},
   "source": [
    "**2.17** *Image of polyhedral sets under perspective function*. In this problem we study the image of hyperplanes, halfspaces and polyhedra under the perspective function $P(x,t) = x/t$, with **dom**$P = R^n x R_{++}$. For each of the following sets $C$, give a simple description of\n",
    "\n",
    "$$P(C) = \\{v/t | (v,t) \\in C, t > 0\\}$$"
   ]
  },
  {
   "cell_type": "markdown",
   "metadata": {},
   "source": [
    ">**(a)** The polyhedron $C = \\textbf{conv}\\{(v_1,t_1),....,(v_K,t_K)\\}$ where $v_i \\in R^n$ and $t_i > 0$.\n"
   ]
  },
  {
   "cell_type": "markdown",
   "metadata": {},
   "source": [
    ">Para este poliedro $C$ la transformación reduce la dimensión del poliedro y escala cada vector aumentando o disminuyendo la norma de cada punto de la envolvente convexa así podemos ver el conjunto como:\n",
    "$$P(C)=\\textsf{conv}\\left\\{\\frac{v_1}{t_1},\\cdots,\\frac{v_1}{t_1}\\right\\}$$\n"
   ]
  },
  {
   "cell_type": "markdown",
   "metadata": {},
   "source": [
    ">**(b)** The hyperplane $C = \\{(v,t) | f^Tv + gt = h\\}$ (with $f$ and $g$ not both zero)."
   ]
  },
  {
   "cell_type": "markdown",
   "metadata": {},
   "source": [
    ">Al dividir la inecuación entre un $t>0$ arbitrario tenemos que el hyperplano depende del valor de $h$, entonces obtenemos lo siguiente.\n",
    "$$P(C)=\\left\\{\n",
    "\\begin{array}{c l} {z| f^Tz + g = 0},\\textsf{ si } h = 0 \\\\{z| f^Tz + g > 0},\\textsf{ si } h > 0 \\\\{z| f^Tz + g < 0},\\textsf{ si } h < 0 \\end{array}\\right.$$"
   ]
  },
  {
   "cell_type": "markdown",
   "metadata": {},
   "source": [
    ">**(c)** The halfspace $C = \\{(v,t) | f^Tv+ gt \\leq h\\}$ (with $f$ and $g$ not both zero)."
   ]
  },
  {
   "cell_type": "markdown",
   "metadata": {},
   "source": [
    ">De manera análoga al punto anterior el conjunto depende de $h$, con la particularidad que para el caso $h>0$ tomamos $\\mathbb{R}^n$ pues dado que $t>0$ es arbitrario tenemos que $h/t$ es tan grande como queramos, entonces:\n",
    "\n",
    "$$P(C)=\\left\\{\n",
    "\\begin{array}{c l}\n",
    "{z| f^Tz + g \\leq 0},\\textsf{ si } h = 0 \\\\\n",
    "\\mathbb{R}^n,\\textsf{ si } h > 0 \\\\\n",
    "{z| f^Tz + g < 0},\\textsf{ si } h < 0 \n",
    "\\end{array}\\right.$$"
   ]
  },
  {
   "cell_type": "markdown",
   "metadata": {},
   "source": [
    ">**(d)** The polyhedron $C = \\{(v,t) | Fv + gt \\preceq h\\}$"
   ]
  },
  {
   "cell_type": "markdown",
   "metadata": {},
   "source": [
    ">Tenemos que:\n",
    "$$P(C)=\\{z|Fz+g\\preceq h/t \\textsf{ para algun } t>0 \\}$$\n",
    "Las condiciones explicitas son:\n",
    "* $f_i^T+g_i\\leq 0$ si $h_i=0$\n",
    "* $f_i^T+g_i< 0$ si $h_i<0$\n",
    "* $(f_i^T+g_i)/h_i\\leq  (f_k^T+g_k)/h_k$ si $h_i>0$ y $h_k<0$ "
   ]
  },
  {
   "cell_type": "markdown",
   "metadata": {},
   "source": [
    "**2.18** *Invertible linear-fractional functions.* Let $f: R^n \\rightarrow R^n$ be the linear-fractional function \n",
    "\n",
    "$$f(x) = (Ax+b)/(c^Tx+d) \\qquad \\textbf{dom}f=\\{x | c^Tx+d > 0\\}$$\n",
    "\n",
    "Suppose the matrix \n",
    "\n",
    "$$ Q = \\begin{bmatrix} A & b \\\\ C^T & d  \\end{bmatrix}$$\n",
    "\n",
    "is nonsingular. Show that $f$ is invertible and that $f^{-1}$ is a linear-fractional mapping. Give an explicit expression for $f^{-1}$ and its domain in terms of $A,b,c$ and $d$. *Hint*. It may be easier to express $f^{-1}$ in terms of $Q$\n",
    "\n"
   ]
  },
  {
   "cell_type": "markdown",
   "metadata": {},
   "source": [
    "Dado que según el remark 2.2 del libro tenemos que $f(x)=\\mathcal{P}^{-1}(\\mathcal{Q}\\mathcal{P}(x))$ dado que la matriz es no singular existe $\\mathcal{Q}^{-1}$ la inversa de $\\mathcal{Q}$, después note que:\n",
    "$$$$\n",
    "\\begin{align*}\n",
    "\\mathcal{P}^{-1}(\\mathcal{Q}^{-1}\\mathcal{P}(f(x)))=&\\mathcal{P}^{-1}(\\mathcal{Q}^{-1}\\mathcal{P}(\\mathcal{P}^{-1}(\\mathcal{Q}\\mathcal{P}(x))))\\\\\n",
    "=&\\mathcal{P}^{-1}(\\mathcal{Q}^{-1}\\mathcal{Q}\\mathcal{P}(x))\\\\\n",
    "=&\\mathcal{P}^{-1}(I_n\\mathcal{P}(x))=\\mathcal{P}^{-1}(\\mathcal{P}(x))=x\\\\\n",
    "\\end{align*}\n",
    "$$$$\n",
    "Entonces $f^{-1}(x)=\\mathcal{P}^{-1}(\\mathcal{Q}^{-1}\\mathcal{P}(x)$."
   ]
  },
  {
   "cell_type": "markdown",
   "metadata": {},
   "source": [
    "# 2. Algoritmo para determinar el cono convexo de un conjunto de puntos en cualquier dimensión."
   ]
  },
  {
   "cell_type": "markdown",
   "metadata": {},
   "source": [
    "Dado un conjunto de puntos $x=\\{x_1,\\cdots,x_m\\}$ donde $x_i\\in\\mathbb{R}^n$, para ello debemos tomar en cuenta que existen 3 casos posibles para la envolvente conica convexa:\n",
    "* La envolvente es una region delimitada por los segmentos entre los rayos mencionados, esto ocurre cuando existe un semiespacio dado por un subespacio que contiene a todos los puntos.\n",
    "* La envolvente es $R^n$, ocurre cuando no existe el semiespacio mencionado.\n",
    "* La envolvente es un subespacio, en este caso tanto el semiespacio como su complemento contienen a los puntos"
   ]
  },
  {
   "cell_type": "markdown",
   "metadata": {},
   "source": [
    "Teniendo lo anterior en cuenta vamos a suponer inicialmente que tenemos el primer caso, así un subespacio que divida los puntos desplazado por el vector normal en direccion a los puntos va aintersecar con todos los rayos contenidos dados por algun punto $z$ en la envolvente convexa, es decir, $\\{\\alpha z | \\alpha\\in \\mathbb{R}\\}$. Para una aproximación al vector normal tomaremos el vector de la media aritmetica dado que es un punto representativo de la envolvente convexa de los puntos. así tendremos que el vector de la media aritmetica y el plano perpendicular a él que pasa por el mismo vector son respectivamente:\n",
    "$$\\overline{x}=\\frac1m \\sum_{i=1}^m \\quad P=\\{y|\\overline{x}^T(y-\\overline{x})=0\\}=\\{y|\\overline{x}^Ty=\\|\\overline{x}\\|^2\\}$$\n",
    "Ahora para hallar la intersección entre el plano $P$ y la linea dada por $\\{x_i \\alpha| \\alpha\\in\\mathbb{R} \\}$, debemos encontrar el escalar $\\alpha=\\frac{\\|\\overline{x}\\|^2}{\\overline{x}^Tx_i}$, siempre que $\\overline{x}^Tx_i>0$ puesto que de lo coontrario el vector es paralelo al plano. De el escalar $\\alpha$ podemos obtener información dado que si $\\alpha>0$ el rayo interseca al plano y si $\\alpha<0$ el rayo va en dirección opuesta al plano y por tanto podemos aproximar el cono a $\\mathbb{R}^n$, después ayudandonos de un algoritmo que calcule la envolvente convexa de la libreria \"\"LazySets\" entre los puntos en el plano $P$ y los puntos perpendiculares, obteniendo así los puntos que representan los rayos que hacen de vertices en el polohedro a hallar."
   ]
  },
  {
   "cell_type": "code",
   "execution_count": 1,
   "metadata": {},
   "outputs": [
    {
     "name": "stderr",
     "output_type": "stream",
     "text": [
      "\u001b[32m\u001b[1m    Updating\u001b[22m\u001b[39m registry at `C:\\Users\\Salcedo\\.julia\\registries\\General.toml`\n",
      "\u001b[32m\u001b[1m   Resolving\u001b[22m\u001b[39m package versions...\n",
      "\u001b[32m\u001b[1m  No Changes\u001b[22m\u001b[39m to `C:\\Users\\Salcedo\\.julia\\environments\\v1.7\\Project.toml`\n",
      "\u001b[32m\u001b[1m  No Changes\u001b[22m\u001b[39m to `C:\\Users\\Salcedo\\.julia\\environments\\v1.7\\Manifest.toml`\n",
      "\u001b[32m\u001b[1m   Resolving\u001b[22m\u001b[39m package versions...\n",
      "\u001b[32m\u001b[1m  No Changes\u001b[22m\u001b[39m to `C:\\Users\\Salcedo\\.julia\\environments\\v1.7\\Project.toml`\n",
      "\u001b[32m\u001b[1m  No Changes\u001b[22m\u001b[39m to `C:\\Users\\Salcedo\\.julia\\environments\\v1.7\\Manifest.toml`\n",
      "\u001b[32m\u001b[1m   Resolving\u001b[22m\u001b[39m package versions...\n",
      "\u001b[32m\u001b[1m  No Changes\u001b[22m\u001b[39m to `C:\\Users\\Salcedo\\.julia\\environments\\v1.7\\Project.toml`\n",
      "\u001b[32m\u001b[1m  No Changes\u001b[22m\u001b[39m to `C:\\Users\\Salcedo\\.julia\\environments\\v1.7\\Manifest.toml`\n",
      "\u001b[32m\u001b[1m   Resolving\u001b[22m\u001b[39m package versions...\n",
      "\u001b[32m\u001b[1m  No Changes\u001b[22m\u001b[39m to `C:\\Users\\Salcedo\\.julia\\environments\\v1.7\\Project.toml`\n",
      "\u001b[32m\u001b[1m  No Changes\u001b[22m\u001b[39m to `C:\\Users\\Salcedo\\.julia\\environments\\v1.7\\Manifest.toml`\n"
     ]
    }
   ],
   "source": [
    "using Pkg\n",
    "Pkg.add(\"LazySets\")\n",
    "Pkg.add(\"DataFrames\")\n",
    "Pkg.add(\"PlotlyJS\")\n",
    "Pkg.add(\"Polyhedra\")"
   ]
  },
  {
   "cell_type": "code",
   "execution_count": 2,
   "metadata": {},
   "outputs": [
    {
     "data": {
      "application/vnd.webio.node+json": {
       "children": [],
       "instanceArgs": {
        "namespace": "html",
        "tag": "div"
       },
       "nodeType": "DOM",
       "props": {},
       "type": "node"
      },
      "text/html": [
       "<div style=\"padding: 1em; background-color: #f8d6da; border: 1px solid #f5c6cb; font-weight: bold;\">\n",
       "<p>The WebIO Jupyter extension was not detected. See the\n",
       "<a href=\"https://juliagizmos.github.io/WebIO.jl/latest/providers/ijulia/\" target=\"_blank\">\n",
       "    WebIO Jupyter integration documentation\n",
       "</a>\n",
       "for more information.\n",
       "</div>\n"
      ],
      "text/plain": [
       "WebIO._IJuliaInit()"
      ]
     },
     "metadata": {
      "application/vnd.webio.node+json": {
       "kernelId": "0257a12a-604e-4dd6-a748-07a0efc85840"
      }
     },
     "output_type": "display_data"
    }
   ],
   "source": [
    "using LazySets\n",
    "using DataFrames\n",
    "using PlotlyJS\n",
    "using Polyhedra"
   ]
  },
  {
   "cell_type": "code",
   "execution_count": 6,
   "metadata": {},
   "outputs": [
    {
     "data": {
      "text/plain": [
       "conicHull (generic function with 1 method)"
      ]
     },
     "execution_count": 6,
     "metadata": {},
     "output_type": "execute_result"
    }
   ],
   "source": [
    "function conicHull(arr)\n",
    "    m,n=size(arr);\n",
    "    mean=1/m*[sum(arr[:,i]) for i in 1:n]; #Calculamos la media aritmetica\n",
    "    meanNorm=transpose(mean)*mean          #Obtenemos el cuadrado de la norma\n",
    "    escalars=ones(m);\n",
    "    \n",
    "    for i in 1:m\n",
    "        discr=transpose(mean)*arr[i,:];    #se calcula \\overline{x}^Tx_i para evitar dividir entre 0\n",
    "        if (discr==0)\n",
    "            continue;\n",
    "        elseif (discr<0)\n",
    "            return \"es R^\"*string(n);\n",
    "        end \n",
    "        escalars[i]=meanNorm/discr         #obtenemos los escalares \\alpha para cada vector\n",
    "    end\n",
    "    \n",
    "    pointsPlane=zeros(m,n)\n",
    "    for i=1:m\n",
    "        pointsPlane[i,:]=escalars[i].*arr[i,:]\n",
    "    end\n",
    "    pol_points = [pointsPlane[x,:] for x=1:size(pointsPlane)[1]]\n",
    "    P = VPolygon(pol_points)\n",
    "    return P.vertices                      #con la libreria obtenemos los vertices de la envolvente conica convexa\n",
    "end "
   ]
  },
  {
   "cell_type": "code",
   "execution_count": 9,
   "metadata": {},
   "outputs": [
    {
     "data": {
      "text/plain": [
       "grapher (generic function with 1 method)"
      ]
     },
     "execution_count": 9,
     "metadata": {},
     "output_type": "execute_result"
    }
   ],
   "source": [
    "function grapher(vectors, point_hull, dim)\n",
    "\n",
    "    if dim==3\n",
    "    df = DataFrame([vectors;0 0 0],:auto)\n",
    "    list_plots=[scatter3d(df,x=:x1, y=:x2, z=:x3, mode=\"markers\")]\n",
    "    for vector in point_hull\n",
    "        vc=[vector,[0,0,0]]\n",
    "        df2 = DataFrame(DataFrame(reduce(hcat, vc)',:auto))\n",
    "\n",
    "        push!(list_plots,scatter3d(df2, x=:x1, y=:x2, z=:x3, mode=\"lines\"))\n",
    "    end\n",
    "    plot(list_plots)\n",
    "\n",
    "    elseif dim==2\n",
    "        df = DataFrame(vectors,:auto)\n",
    "\n",
    "        list_plots=[scatter(df, x=:x1, y=:x2, mode=\"markers\")]\n",
    "        for vector in point_hull\n",
    "\n",
    "            #vc=[vector,[0,0]]\n",
    "            #df2 = DataFrame(reduce(hcat, vc)',:auto)\n",
    "            vc=[vector,[0,0]]\n",
    "\n",
    "            df2 = DataFrame(reduce(hcat, vc)',:auto)\n",
    "            push!(list_plots,scatter(df2, x=:x1, y=:x2, mode=\"lines\"))\n",
    "        end\n",
    "        plot(list_plots) \n",
    "    end\n",
    "end"
   ]
  },
  {
   "cell_type": "markdown",
   "metadata": {},
   "source": [
    "## Ejemplos en $\\mathbb{R}^2$"
   ]
  },
  {
   "cell_type": "markdown",
   "metadata": {},
   "source": [
    "Ejemplo 2d compilado, podemos ver los puntos $x_i$ y los rayos \"vertice\" del cono\n",
    "<img src=\"Ej2d.png\"\n",
    "     alt=\"Ej\"\n",
    "     style=\"float: left; margin-right: 10px; width:800px;text-align:center; margin-left: 5%\"/>"
   ]
  },
  {
   "cell_type": "code",
   "execution_count": 11,
   "metadata": {},
   "outputs": [
    {
     "name": "stdout",
     "output_type": "stream",
     "text": [
      "[54.0 99.0; 78.0 12.0; 96.0 58.0; 2.0 15.0; 65.0 45.0; 68.0 19.0]\n"
     ]
    },
    {
     "data": {
      "application/vnd.plotly.v1+json": {
       "config": {
        "editable": false,
        "responsive": true,
        "scrollZoom": true,
        "showLink": false,
        "staticPlot": false
       },
       "data": [
        {
         "mode": "markers",
         "type": "scatter",
         "x": [
          54,
          78,
          96,
          2,
          65,
          68
         ],
         "y": [
          99,
          12,
          58,
          15,
          45,
          19
         ]
        },
        {
         "mode": "lines",
         "type": "scatter",
         "x": [
          14.490403358824413,
          0
         ],
         "y": [
          108.6780251911831,
          0
         ]
        },
        {
         "mode": "lines",
         "type": "scatter",
         "x": [
          80.29878555449025,
          0
         ],
         "y": [
          12.353659316075422,
          0
         ]
        },
        {
         "mode": "lines",
         "type": "scatter",
         "x": [
          39.395230330207916,
          0
         ],
         "y": [
          72.22458893871452,
          0
         ]
        }
       ],
       "frames": [],
       "layout": {
        "margin": {
         "b": 50,
         "l": 50,
         "r": 50,
         "t": 60
        },
        "template": {
         "data": {
          "bar": [
           {
            "error_x": {
             "color": "#2a3f5f"
            },
            "error_y": {
             "color": "#2a3f5f"
            },
            "marker": {
             "line": {
              "color": "#E5ECF6",
              "width": 0.5
             }
            },
            "type": "bar"
           }
          ],
          "barpolar": [
           {
            "marker": {
             "line": {
              "color": "#E5ECF6",
              "width": 0.5
             }
            },
            "type": "barpolar"
           }
          ],
          "carpet": [
           {
            "aaxis": {
             "endlinecolor": "#2a3f5f",
             "gridcolor": "white",
             "linecolor": "white",
             "minorgridcolor": "white",
             "startlinecolor": "#2a3f5f"
            },
            "baxis": {
             "endlinecolor": "#2a3f5f",
             "gridcolor": "white",
             "linecolor": "white",
             "minorgridcolor": "white",
             "startlinecolor": "#2a3f5f"
            },
            "type": "carpet"
           }
          ],
          "choropleth": [
           {
            "colorbar": {
             "outlinewidth": 0,
             "ticks": ""
            },
            "type": "choropleth"
           }
          ],
          "contour": [
           {
            "colorbar": {
             "outlinewidth": 0,
             "ticks": ""
            },
            "colorscale": [
             [
              0,
              "#0d0887"
             ],
             [
              0.1111111111111111,
              "#46039f"
             ],
             [
              0.2222222222222222,
              "#7201a8"
             ],
             [
              0.3333333333333333,
              "#9c179e"
             ],
             [
              0.4444444444444444,
              "#bd3786"
             ],
             [
              0.5555555555555556,
              "#d8576b"
             ],
             [
              0.6666666666666666,
              "#ed7953"
             ],
             [
              0.7777777777777778,
              "#fb9f3a"
             ],
             [
              0.8888888888888888,
              "#fdca26"
             ],
             [
              1,
              "#f0f921"
             ]
            ],
            "type": "contour"
           }
          ],
          "contourcarpet": [
           {
            "colorbar": {
             "outlinewidth": 0,
             "ticks": ""
            },
            "type": "contourcarpet"
           }
          ],
          "heatmap": [
           {
            "colorbar": {
             "outlinewidth": 0,
             "ticks": ""
            },
            "colorscale": [
             [
              0,
              "#0d0887"
             ],
             [
              0.1111111111111111,
              "#46039f"
             ],
             [
              0.2222222222222222,
              "#7201a8"
             ],
             [
              0.3333333333333333,
              "#9c179e"
             ],
             [
              0.4444444444444444,
              "#bd3786"
             ],
             [
              0.5555555555555556,
              "#d8576b"
             ],
             [
              0.6666666666666666,
              "#ed7953"
             ],
             [
              0.7777777777777778,
              "#fb9f3a"
             ],
             [
              0.8888888888888888,
              "#fdca26"
             ],
             [
              1,
              "#f0f921"
             ]
            ],
            "type": "heatmap"
           }
          ],
          "heatmapgl": [
           {
            "colorbar": {
             "outlinewidth": 0,
             "ticks": ""
            },
            "colorscale": [
             [
              0,
              "#0d0887"
             ],
             [
              0.1111111111111111,
              "#46039f"
             ],
             [
              0.2222222222222222,
              "#7201a8"
             ],
             [
              0.3333333333333333,
              "#9c179e"
             ],
             [
              0.4444444444444444,
              "#bd3786"
             ],
             [
              0.5555555555555556,
              "#d8576b"
             ],
             [
              0.6666666666666666,
              "#ed7953"
             ],
             [
              0.7777777777777778,
              "#fb9f3a"
             ],
             [
              0.8888888888888888,
              "#fdca26"
             ],
             [
              1,
              "#f0f921"
             ]
            ],
            "type": "heatmapgl"
           }
          ],
          "histogram": [
           {
            "marker": {
             "colorbar": {
              "outlinewidth": 0,
              "ticks": ""
             }
            },
            "type": "histogram"
           }
          ],
          "histogram2d": [
           {
            "colorbar": {
             "outlinewidth": 0,
             "ticks": ""
            },
            "colorscale": [
             [
              0,
              "#0d0887"
             ],
             [
              0.1111111111111111,
              "#46039f"
             ],
             [
              0.2222222222222222,
              "#7201a8"
             ],
             [
              0.3333333333333333,
              "#9c179e"
             ],
             [
              0.4444444444444444,
              "#bd3786"
             ],
             [
              0.5555555555555556,
              "#d8576b"
             ],
             [
              0.6666666666666666,
              "#ed7953"
             ],
             [
              0.7777777777777778,
              "#fb9f3a"
             ],
             [
              0.8888888888888888,
              "#fdca26"
             ],
             [
              1,
              "#f0f921"
             ]
            ],
            "type": "histogram2d"
           }
          ],
          "histogram2dcontour": [
           {
            "colorbar": {
             "outlinewidth": 0,
             "ticks": ""
            },
            "colorscale": [
             [
              0,
              "#0d0887"
             ],
             [
              0.1111111111111111,
              "#46039f"
             ],
             [
              0.2222222222222222,
              "#7201a8"
             ],
             [
              0.3333333333333333,
              "#9c179e"
             ],
             [
              0.4444444444444444,
              "#bd3786"
             ],
             [
              0.5555555555555556,
              "#d8576b"
             ],
             [
              0.6666666666666666,
              "#ed7953"
             ],
             [
              0.7777777777777778,
              "#fb9f3a"
             ],
             [
              0.8888888888888888,
              "#fdca26"
             ],
             [
              1,
              "#f0f921"
             ]
            ],
            "type": "histogram2dcontour"
           }
          ],
          "mesh3d": [
           {
            "colorbar": {
             "outlinewidth": 0,
             "ticks": ""
            },
            "type": "mesh3d"
           }
          ],
          "parcoords": [
           {
            "line": {
             "colorbar": {
              "outlinewidth": 0,
              "ticks": ""
             }
            },
            "type": "parcoords"
           }
          ],
          "pie": [
           {
            "automargin": true,
            "type": "pie"
           }
          ],
          "scatter": [
           {
            "marker": {
             "colorbar": {
              "outlinewidth": 0,
              "ticks": ""
             }
            },
            "type": "scatter"
           }
          ],
          "scatter3d": [
           {
            "line": {
             "colorbar": {
              "outlinewidth": 0,
              "ticks": ""
             }
            },
            "marker": {
             "colorbar": {
              "outlinewidth": 0,
              "ticks": ""
             }
            },
            "type": "scatter3d"
           }
          ],
          "scattercarpet": [
           {
            "marker": {
             "colorbar": {
              "outlinewidth": 0,
              "ticks": ""
             }
            },
            "type": "scattercarpet"
           }
          ],
          "scattergeo": [
           {
            "marker": {
             "colorbar": {
              "outlinewidth": 0,
              "ticks": ""
             }
            },
            "type": "scattergeo"
           }
          ],
          "scattergl": [
           {
            "marker": {
             "colorbar": {
              "outlinewidth": 0,
              "ticks": ""
             }
            },
            "type": "scattergl"
           }
          ],
          "scattermapbox": [
           {
            "marker": {
             "colorbar": {
              "outlinewidth": 0,
              "ticks": ""
             }
            },
            "type": "scattermapbox"
           }
          ],
          "scatterpolar": [
           {
            "marker": {
             "colorbar": {
              "outlinewidth": 0,
              "ticks": ""
             }
            },
            "type": "scatterpolar"
           }
          ],
          "scatterpolargl": [
           {
            "marker": {
             "colorbar": {
              "outlinewidth": 0,
              "ticks": ""
             }
            },
            "type": "scatterpolargl"
           }
          ],
          "scatterternary": [
           {
            "marker": {
             "colorbar": {
              "outlinewidth": 0,
              "ticks": ""
             }
            },
            "type": "scatterternary"
           }
          ],
          "surface": [
           {
            "colorbar": {
             "outlinewidth": 0,
             "ticks": ""
            },
            "colorscale": [
             [
              0,
              "#0d0887"
             ],
             [
              0.1111111111111111,
              "#46039f"
             ],
             [
              0.2222222222222222,
              "#7201a8"
             ],
             [
              0.3333333333333333,
              "#9c179e"
             ],
             [
              0.4444444444444444,
              "#bd3786"
             ],
             [
              0.5555555555555556,
              "#d8576b"
             ],
             [
              0.6666666666666666,
              "#ed7953"
             ],
             [
              0.7777777777777778,
              "#fb9f3a"
             ],
             [
              0.8888888888888888,
              "#fdca26"
             ],
             [
              1,
              "#f0f921"
             ]
            ],
            "type": "surface"
           }
          ],
          "table": [
           {
            "cells": {
             "fill": {
              "color": "#EBF0F8"
             },
             "line": {
              "color": "white"
             }
            },
            "header": {
             "fill": {
              "color": "#C8D4E3"
             },
             "line": {
              "color": "white"
             }
            },
            "type": "table"
           }
          ]
         },
         "layout": {
          "annotationdefaults": {
           "arrowcolor": "#2a3f5f",
           "arrowhead": 0,
           "arrowwidth": 1
          },
          "autotypenumbers": "strict",
          "coloraxis": {
           "colorbar": {
            "outlinewidth": 0,
            "ticks": ""
           }
          },
          "colorscale": {
           "diverging": [
            [
             0,
             "#8e0152"
            ],
            [
             0.1,
             "#c51b7d"
            ],
            [
             0.2,
             "#de77ae"
            ],
            [
             0.3,
             "#f1b6da"
            ],
            [
             0.4,
             "#fde0ef"
            ],
            [
             0.5,
             "#f7f7f7"
            ],
            [
             0.6,
             "#e6f5d0"
            ],
            [
             0.7,
             "#b8e186"
            ],
            [
             0.8,
             "#7fbc41"
            ],
            [
             0.9,
             "#4d9221"
            ],
            [
             1,
             "#276419"
            ]
           ],
           "sequential": [
            [
             0,
             "#0d0887"
            ],
            [
             0.1111111111111111,
             "#46039f"
            ],
            [
             0.2222222222222222,
             "#7201a8"
            ],
            [
             0.3333333333333333,
             "#9c179e"
            ],
            [
             0.4444444444444444,
             "#bd3786"
            ],
            [
             0.5555555555555556,
             "#d8576b"
            ],
            [
             0.6666666666666666,
             "#ed7953"
            ],
            [
             0.7777777777777778,
             "#fb9f3a"
            ],
            [
             0.8888888888888888,
             "#fdca26"
            ],
            [
             1,
             "#f0f921"
            ]
           ],
           "sequentialminus": [
            [
             0,
             "#0d0887"
            ],
            [
             0.1111111111111111,
             "#46039f"
            ],
            [
             0.2222222222222222,
             "#7201a8"
            ],
            [
             0.3333333333333333,
             "#9c179e"
            ],
            [
             0.4444444444444444,
             "#bd3786"
            ],
            [
             0.5555555555555556,
             "#d8576b"
            ],
            [
             0.6666666666666666,
             "#ed7953"
            ],
            [
             0.7777777777777778,
             "#fb9f3a"
            ],
            [
             0.8888888888888888,
             "#fdca26"
            ],
            [
             1,
             "#f0f921"
            ]
           ]
          },
          "colorway": [
           "#636efa",
           "#EF553B",
           "#00cc96",
           "#ab63fa",
           "#FFA15A",
           "#19d3f3",
           "#FF6692",
           "#B6E880",
           "#FF97FF",
           "#FECB52"
          ],
          "font": {
           "color": "#2a3f5f"
          },
          "geo": {
           "bgcolor": "white",
           "lakecolor": "white",
           "landcolor": "#E5ECF6",
           "showlakes": true,
           "showland": true,
           "subunitcolor": "white"
          },
          "hoverlabel": {
           "align": "left"
          },
          "hovermode": "closest",
          "mapbox": {
           "style": "light"
          },
          "paper_bgcolor": "white",
          "plot_bgcolor": "#E5ECF6",
          "polar": {
           "angularaxis": {
            "gridcolor": "white",
            "linecolor": "white",
            "ticks": ""
           },
           "bgcolor": "#E5ECF6",
           "radialaxis": {
            "gridcolor": "white",
            "linecolor": "white",
            "ticks": ""
           }
          },
          "scene": {
           "xaxis": {
            "backgroundcolor": "#E5ECF6",
            "gridcolor": "white",
            "gridwidth": 2,
            "linecolor": "white",
            "showbackground": true,
            "ticks": "",
            "zerolinecolor": "white"
           },
           "yaxis": {
            "backgroundcolor": "#E5ECF6",
            "gridcolor": "white",
            "gridwidth": 2,
            "linecolor": "white",
            "showbackground": true,
            "ticks": "",
            "zerolinecolor": "white"
           },
           "zaxis": {
            "backgroundcolor": "#E5ECF6",
            "gridcolor": "white",
            "gridwidth": 2,
            "linecolor": "white",
            "showbackground": true,
            "ticks": "",
            "zerolinecolor": "white"
           }
          },
          "shapedefaults": {
           "line": {
            "color": "#2a3f5f"
           }
          },
          "ternary": {
           "aaxis": {
            "gridcolor": "white",
            "linecolor": "white",
            "ticks": ""
           },
           "baxis": {
            "gridcolor": "white",
            "linecolor": "white",
            "ticks": ""
           },
           "bgcolor": "#E5ECF6",
           "caxis": {
            "gridcolor": "white",
            "linecolor": "white",
            "ticks": ""
           }
          },
          "title": {
           "x": 0.05
          },
          "xaxis": {
           "automargin": true,
           "gridcolor": "white",
           "linecolor": "white",
           "ticks": "",
           "title": {
            "standoff": 15
           },
           "zerolinecolor": "white",
           "zerolinewidth": 2
          },
          "yaxis": {
           "automargin": true,
           "gridcolor": "white",
           "linecolor": "white",
           "ticks": "",
           "title": {
            "standoff": 15
           },
           "zerolinecolor": "white",
           "zerolinewidth": 2
          }
         }
        }
       }
      },
      "text/html": [
       "<div\n",
       "    class=\"webio-mountpoint\"\n",
       "    data-webio-mountpoint=\"10520067964703943621\"\n",
       ">\n",
       "    <script>\n",
       "    (function(){\n",
       "    // Some integrations (namely, IJulia/Jupyter) use an alternate render pathway than\n",
       "    // just putting the html on the page. If WebIO isn't defined, then it's pretty likely\n",
       "    // that we're in one of those situations and the integration just isn't installed\n",
       "    // correctly.\n",
       "    if (typeof window.WebIO === \"undefined\") {\n",
       "        document\n",
       "            .querySelector('[data-webio-mountpoint=\"10520067964703943621\"]')\n",
       "            .innerHTML = (\n",
       "                '<div style=\"padding: 1em; background-color: #f8d6da; border: 1px solid #f5c6cb; font-weight: bold;\">' +\n",
       "                '<p><strong>WebIO not detected.</strong></p>' +\n",
       "                '<p>Please read ' +\n",
       "                '<a href=\"https://juliagizmos.github.io/WebIO.jl/latest/troubleshooting/not-detected/\" target=\"_blank\">the troubleshooting guide</a> ' +\n",
       "                'for more information on how to resolve this issue.</p>' +\n",
       "                '<p><a href=\"https://juliagizmos.github.io/WebIO.jl/latest/troubleshooting/not-detected/\" target=\"_blank\">https://juliagizmos.github.io/WebIO.jl/latest/troubleshooting/not-detected/</a></p>' +\n",
       "                '</div>'\n",
       "            );\n",
       "        return;\n",
       "    }\n",
       "    WebIO.mount(\n",
       "        document.querySelector('[data-webio-mountpoint=\"10520067964703943621\"]'),\n",
       "        {\"props\":{},\"nodeType\":\"Scope\",\"type\":\"node\",\"instanceArgs\":{\"imports\":{\"data\":[{\"name\":\"Plotly\",\"type\":\"js\",\"url\":\"\\/assetserver\\/58896c7d350a17df3fba382767f4c006d30efb73-plotly.min.js\"},{\"name\":null,\"type\":\"js\",\"url\":\"\\/assetserver\\/e59749eb0875c5743424754ad42cec2a2a785410-plotly_webio.bundle.js\"}],\"type\":\"async_block\"},\"id\":\"8147919087021671866\",\"handlers\":{\"_toImage\":[\"(function (options){return this.Plotly.toImage(this.plotElem,options).then((function (data){return WebIO.setval({\\\"name\\\":\\\"image\\\",\\\"scope\\\":\\\"8147919087021671866\\\",\\\"id\\\":\\\"10770561522282770074\\\",\\\"type\\\":\\\"observable\\\"},data)}))})\"],\"__get_gd_contents\":[\"(function (prop){prop==\\\"data\\\" ? (WebIO.setval({\\\"name\\\":\\\"__gd_contents\\\",\\\"scope\\\":\\\"8147919087021671866\\\",\\\"id\\\":\\\"15136234702246225406\\\",\\\"type\\\":\\\"observable\\\"},this.plotElem.data)) : undefined; return prop==\\\"layout\\\" ? (WebIO.setval({\\\"name\\\":\\\"__gd_contents\\\",\\\"scope\\\":\\\"8147919087021671866\\\",\\\"id\\\":\\\"15136234702246225406\\\",\\\"type\\\":\\\"observable\\\"},this.plotElem.layout)) : undefined})\"],\"_downloadImage\":[\"(function (options){return this.Plotly.downloadImage(this.plotElem,options)})\"],\"_commands\":[\"(function (args){var fn=args.shift(); var elem=this.plotElem; var Plotly=this.Plotly; args.unshift(elem); return Plotly[fn].apply(this,args)})\"]},\"systemjs_options\":null,\"mount_callbacks\":[\"function () {\\n    var handler = ((function (Plotly,PlotlyWebIO){PlotlyWebIO.init(WebIO); var gd=this.dom.querySelector(\\\"#plot-7d5c0557-f6cb-4876-9a1d-348a3c110005\\\"); this.plotElem=gd; this.Plotly=Plotly; (window.Blink!==undefined) ? (gd.style.width=\\\"100%\\\", gd.style.height=\\\"100vh\\\", gd.style.marginLeft=\\\"0%\\\", gd.style.marginTop=\\\"0vh\\\") : undefined; window.onresize=(function (){return Plotly.Plots.resize(gd)}); Plotly.newPlot(gd,[{\\\"mode\\\":\\\"markers\\\",\\\"y\\\":[99.0,12.0,58.0,15.0,45.0,19.0],\\\"type\\\":\\\"scatter\\\",\\\"x\\\":[54.0,78.0,96.0,2.0,65.0,68.0]},{\\\"mode\\\":\\\"lines\\\",\\\"y\\\":[108.6780251911831,0.0],\\\"type\\\":\\\"scatter\\\",\\\"x\\\":[14.490403358824413,0.0]},{\\\"mode\\\":\\\"lines\\\",\\\"y\\\":[12.353659316075422,0.0],\\\"type\\\":\\\"scatter\\\",\\\"x\\\":[80.29878555449025,0.0]},{\\\"mode\\\":\\\"lines\\\",\\\"y\\\":[72.22458893871452,0.0],\\\"type\\\":\\\"scatter\\\",\\\"x\\\":[39.395230330207916,0.0]}],{\\\"template\\\":{\\\"layout\\\":{\\\"coloraxis\\\":{\\\"colorbar\\\":{\\\"ticks\\\":\\\"\\\",\\\"outlinewidth\\\":0}},\\\"xaxis\\\":{\\\"gridcolor\\\":\\\"white\\\",\\\"zerolinewidth\\\":2,\\\"title\\\":{\\\"standoff\\\":15},\\\"ticks\\\":\\\"\\\",\\\"zerolinecolor\\\":\\\"white\\\",\\\"automargin\\\":true,\\\"linecolor\\\":\\\"white\\\"},\\\"hovermode\\\":\\\"closest\\\",\\\"paper_bgcolor\\\":\\\"white\\\",\\\"geo\\\":{\\\"showlakes\\\":true,\\\"showland\\\":true,\\\"landcolor\\\":\\\"#E5ECF6\\\",\\\"bgcolor\\\":\\\"white\\\",\\\"subunitcolor\\\":\\\"white\\\",\\\"lakecolor\\\":\\\"white\\\"},\\\"colorscale\\\":{\\\"sequential\\\":[[0.0,\\\"#0d0887\\\"],[0.1111111111111111,\\\"#46039f\\\"],[0.2222222222222222,\\\"#7201a8\\\"],[0.3333333333333333,\\\"#9c179e\\\"],[0.4444444444444444,\\\"#bd3786\\\"],[0.5555555555555556,\\\"#d8576b\\\"],[0.6666666666666666,\\\"#ed7953\\\"],[0.7777777777777778,\\\"#fb9f3a\\\"],[0.8888888888888888,\\\"#fdca26\\\"],[1.0,\\\"#f0f921\\\"]],\\\"diverging\\\":[[0,\\\"#8e0152\\\"],[0.1,\\\"#c51b7d\\\"],[0.2,\\\"#de77ae\\\"],[0.3,\\\"#f1b6da\\\"],[0.4,\\\"#fde0ef\\\"],[0.5,\\\"#f7f7f7\\\"],[0.6,\\\"#e6f5d0\\\"],[0.7,\\\"#b8e186\\\"],[0.8,\\\"#7fbc41\\\"],[0.9,\\\"#4d9221\\\"],[1,\\\"#276419\\\"]],\\\"sequentialminus\\\":[[0.0,\\\"#0d0887\\\"],[0.1111111111111111,\\\"#46039f\\\"],[0.2222222222222222,\\\"#7201a8\\\"],[0.3333333333333333,\\\"#9c179e\\\"],[0.4444444444444444,\\\"#bd3786\\\"],[0.5555555555555556,\\\"#d8576b\\\"],[0.6666666666666666,\\\"#ed7953\\\"],[0.7777777777777778,\\\"#fb9f3a\\\"],[0.8888888888888888,\\\"#fdca26\\\"],[1.0,\\\"#f0f921\\\"]]},\\\"yaxis\\\":{\\\"gridcolor\\\":\\\"white\\\",\\\"zerolinewidth\\\":2,\\\"title\\\":{\\\"standoff\\\":15},\\\"ticks\\\":\\\"\\\",\\\"zerolinecolor\\\":\\\"white\\\",\\\"automargin\\\":true,\\\"linecolor\\\":\\\"white\\\"},\\\"shapedefaults\\\":{\\\"line\\\":{\\\"color\\\":\\\"#2a3f5f\\\"}},\\\"hoverlabel\\\":{\\\"align\\\":\\\"left\\\"},\\\"mapbox\\\":{\\\"style\\\":\\\"light\\\"},\\\"polar\\\":{\\\"angularaxis\\\":{\\\"gridcolor\\\":\\\"white\\\",\\\"ticks\\\":\\\"\\\",\\\"linecolor\\\":\\\"white\\\"},\\\"bgcolor\\\":\\\"#E5ECF6\\\",\\\"radialaxis\\\":{\\\"gridcolor\\\":\\\"white\\\",\\\"ticks\\\":\\\"\\\",\\\"linecolor\\\":\\\"white\\\"}},\\\"autotypenumbers\\\":\\\"strict\\\",\\\"font\\\":{\\\"color\\\":\\\"#2a3f5f\\\"},\\\"ternary\\\":{\\\"baxis\\\":{\\\"gridcolor\\\":\\\"white\\\",\\\"ticks\\\":\\\"\\\",\\\"linecolor\\\":\\\"white\\\"},\\\"bgcolor\\\":\\\"#E5ECF6\\\",\\\"caxis\\\":{\\\"gridcolor\\\":\\\"white\\\",\\\"ticks\\\":\\\"\\\",\\\"linecolor\\\":\\\"white\\\"},\\\"aaxis\\\":{\\\"gridcolor\\\":\\\"white\\\",\\\"ticks\\\":\\\"\\\",\\\"linecolor\\\":\\\"white\\\"}},\\\"annotationdefaults\\\":{\\\"arrowhead\\\":0,\\\"arrowwidth\\\":1,\\\"arrowcolor\\\":\\\"#2a3f5f\\\"},\\\"plot_bgcolor\\\":\\\"#E5ECF6\\\",\\\"title\\\":{\\\"x\\\":0.05},\\\"scene\\\":{\\\"xaxis\\\":{\\\"gridcolor\\\":\\\"white\\\",\\\"gridwidth\\\":2,\\\"backgroundcolor\\\":\\\"#E5ECF6\\\",\\\"ticks\\\":\\\"\\\",\\\"showbackground\\\":true,\\\"zerolinecolor\\\":\\\"white\\\",\\\"linecolor\\\":\\\"white\\\"},\\\"zaxis\\\":{\\\"gridcolor\\\":\\\"white\\\",\\\"gridwidth\\\":2,\\\"backgroundcolor\\\":\\\"#E5ECF6\\\",\\\"ticks\\\":\\\"\\\",\\\"showbackground\\\":true,\\\"zerolinecolor\\\":\\\"white\\\",\\\"linecolor\\\":\\\"white\\\"},\\\"yaxis\\\":{\\\"gridcolor\\\":\\\"white\\\",\\\"gridwidth\\\":2,\\\"backgroundcolor\\\":\\\"#E5ECF6\\\",\\\"ticks\\\":\\\"\\\",\\\"showbackground\\\":true,\\\"zerolinecolor\\\":\\\"white\\\",\\\"linecolor\\\":\\\"white\\\"}},\\\"colorway\\\":[\\\"#636efa\\\",\\\"#EF553B\\\",\\\"#00cc96\\\",\\\"#ab63fa\\\",\\\"#FFA15A\\\",\\\"#19d3f3\\\",\\\"#FF6692\\\",\\\"#B6E880\\\",\\\"#FF97FF\\\",\\\"#FECB52\\\"]},\\\"data\\\":{\\\"barpolar\\\":[{\\\"type\\\":\\\"barpolar\\\",\\\"marker\\\":{\\\"line\\\":{\\\"color\\\":\\\"#E5ECF6\\\",\\\"width\\\":0.5}}}],\\\"carpet\\\":[{\\\"aaxis\\\":{\\\"gridcolor\\\":\\\"white\\\",\\\"endlinecolor\\\":\\\"#2a3f5f\\\",\\\"minorgridcolor\\\":\\\"white\\\",\\\"startlinecolor\\\":\\\"#2a3f5f\\\",\\\"linecolor\\\":\\\"white\\\"},\\\"type\\\":\\\"carpet\\\",\\\"baxis\\\":{\\\"gridcolor\\\":\\\"white\\\",\\\"endlinecolor\\\":\\\"#2a3f5f\\\",\\\"minorgridcolor\\\":\\\"white\\\",\\\"startlinecolor\\\":\\\"#2a3f5f\\\",\\\"linecolor\\\":\\\"white\\\"}}],\\\"scatterpolar\\\":[{\\\"type\\\":\\\"scatterpolar\\\",\\\"marker\\\":{\\\"colorbar\\\":{\\\"ticks\\\":\\\"\\\",\\\"outlinewidth\\\":0}}}],\\\"parcoords\\\":[{\\\"line\\\":{\\\"colorbar\\\":{\\\"ticks\\\":\\\"\\\",\\\"outlinewidth\\\":0}},\\\"type\\\":\\\"parcoords\\\"}],\\\"scatter\\\":[{\\\"type\\\":\\\"scatter\\\",\\\"marker\\\":{\\\"colorbar\\\":{\\\"ticks\\\":\\\"\\\",\\\"outlinewidth\\\":0}}}],\\\"histogram2dcontour\\\":[{\\\"colorbar\\\":{\\\"ticks\\\":\\\"\\\",\\\"outlinewidth\\\":0},\\\"type\\\":\\\"histogram2dcontour\\\",\\\"colorscale\\\":[[0.0,\\\"#0d0887\\\"],[0.1111111111111111,\\\"#46039f\\\"],[0.2222222222222222,\\\"#7201a8\\\"],[0.3333333333333333,\\\"#9c179e\\\"],[0.4444444444444444,\\\"#bd3786\\\"],[0.5555555555555556,\\\"#d8576b\\\"],[0.6666666666666666,\\\"#ed7953\\\"],[0.7777777777777778,\\\"#fb9f3a\\\"],[0.8888888888888888,\\\"#fdca26\\\"],[1.0,\\\"#f0f921\\\"]]}],\\\"contour\\\":[{\\\"colorbar\\\":{\\\"ticks\\\":\\\"\\\",\\\"outlinewidth\\\":0},\\\"type\\\":\\\"contour\\\",\\\"colorscale\\\":[[0.0,\\\"#0d0887\\\"],[0.1111111111111111,\\\"#46039f\\\"],[0.2222222222222222,\\\"#7201a8\\\"],[0.3333333333333333,\\\"#9c179e\\\"],[0.4444444444444444,\\\"#bd3786\\\"],[0.5555555555555556,\\\"#d8576b\\\"],[0.6666666666666666,\\\"#ed7953\\\"],[0.7777777777777778,\\\"#fb9f3a\\\"],[0.8888888888888888,\\\"#fdca26\\\"],[1.0,\\\"#f0f921\\\"]]}],\\\"scattercarpet\\\":[{\\\"type\\\":\\\"scattercarpet\\\",\\\"marker\\\":{\\\"colorbar\\\":{\\\"ticks\\\":\\\"\\\",\\\"outlinewidth\\\":0}}}],\\\"mesh3d\\\":[{\\\"colorbar\\\":{\\\"ticks\\\":\\\"\\\",\\\"outlinewidth\\\":0},\\\"type\\\":\\\"mesh3d\\\"}],\\\"surface\\\":[{\\\"colorbar\\\":{\\\"ticks\\\":\\\"\\\",\\\"outlinewidth\\\":0},\\\"type\\\":\\\"surface\\\",\\\"colorscale\\\":[[0.0,\\\"#0d0887\\\"],[0.1111111111111111,\\\"#46039f\\\"],[0.2222222222222222,\\\"#7201a8\\\"],[0.3333333333333333,\\\"#9c179e\\\"],[0.4444444444444444,\\\"#bd3786\\\"],[0.5555555555555556,\\\"#d8576b\\\"],[0.6666666666666666,\\\"#ed7953\\\"],[0.7777777777777778,\\\"#fb9f3a\\\"],[0.8888888888888888,\\\"#fdca26\\\"],[1.0,\\\"#f0f921\\\"]]}],\\\"scattermapbox\\\":[{\\\"type\\\":\\\"scattermapbox\\\",\\\"marker\\\":{\\\"colorbar\\\":{\\\"ticks\\\":\\\"\\\",\\\"outlinewidth\\\":0}}}],\\\"scattergeo\\\":[{\\\"type\\\":\\\"scattergeo\\\",\\\"marker\\\":{\\\"colorbar\\\":{\\\"ticks\\\":\\\"\\\",\\\"outlinewidth\\\":0}}}],\\\"histogram\\\":[{\\\"type\\\":\\\"histogram\\\",\\\"marker\\\":{\\\"colorbar\\\":{\\\"ticks\\\":\\\"\\\",\\\"outlinewidth\\\":0}}}],\\\"pie\\\":[{\\\"type\\\":\\\"pie\\\",\\\"automargin\\\":true}],\\\"choropleth\\\":[{\\\"colorbar\\\":{\\\"ticks\\\":\\\"\\\",\\\"outlinewidth\\\":0},\\\"type\\\":\\\"choropleth\\\"}],\\\"heatmapgl\\\":[{\\\"colorbar\\\":{\\\"ticks\\\":\\\"\\\",\\\"outlinewidth\\\":0},\\\"type\\\":\\\"heatmapgl\\\",\\\"colorscale\\\":[[0.0,\\\"#0d0887\\\"],[0.1111111111111111,\\\"#46039f\\\"],[0.2222222222222222,\\\"#7201a8\\\"],[0.3333333333333333,\\\"#9c179e\\\"],[0.4444444444444444,\\\"#bd3786\\\"],[0.5555555555555556,\\\"#d8576b\\\"],[0.6666666666666666,\\\"#ed7953\\\"],[0.7777777777777778,\\\"#fb9f3a\\\"],[0.8888888888888888,\\\"#fdca26\\\"],[1.0,\\\"#f0f921\\\"]]}],\\\"bar\\\":[{\\\"type\\\":\\\"bar\\\",\\\"error_y\\\":{\\\"color\\\":\\\"#2a3f5f\\\"},\\\"error_x\\\":{\\\"color\\\":\\\"#2a3f5f\\\"},\\\"marker\\\":{\\\"line\\\":{\\\"color\\\":\\\"#E5ECF6\\\",\\\"width\\\":0.5}}}],\\\"heatmap\\\":[{\\\"colorbar\\\":{\\\"ticks\\\":\\\"\\\",\\\"outlinewidth\\\":0},\\\"type\\\":\\\"heatmap\\\",\\\"colorscale\\\":[[0.0,\\\"#0d0887\\\"],[0.1111111111111111,\\\"#46039f\\\"],[0.2222222222222222,\\\"#7201a8\\\"],[0.3333333333333333,\\\"#9c179e\\\"],[0.4444444444444444,\\\"#bd3786\\\"],[0.5555555555555556,\\\"#d8576b\\\"],[0.6666666666666666,\\\"#ed7953\\\"],[0.7777777777777778,\\\"#fb9f3a\\\"],[0.8888888888888888,\\\"#fdca26\\\"],[1.0,\\\"#f0f921\\\"]]}],\\\"contourcarpet\\\":[{\\\"colorbar\\\":{\\\"ticks\\\":\\\"\\\",\\\"outlinewidth\\\":0},\\\"type\\\":\\\"contourcarpet\\\"}],\\\"table\\\":[{\\\"type\\\":\\\"table\\\",\\\"header\\\":{\\\"line\\\":{\\\"color\\\":\\\"white\\\"},\\\"fill\\\":{\\\"color\\\":\\\"#C8D4E3\\\"}},\\\"cells\\\":{\\\"line\\\":{\\\"color\\\":\\\"white\\\"},\\\"fill\\\":{\\\"color\\\":\\\"#EBF0F8\\\"}}}],\\\"scatter3d\\\":[{\\\"line\\\":{\\\"colorbar\\\":{\\\"ticks\\\":\\\"\\\",\\\"outlinewidth\\\":0}},\\\"type\\\":\\\"scatter3d\\\",\\\"marker\\\":{\\\"colorbar\\\":{\\\"ticks\\\":\\\"\\\",\\\"outlinewidth\\\":0}}}],\\\"scattergl\\\":[{\\\"type\\\":\\\"scattergl\\\",\\\"marker\\\":{\\\"colorbar\\\":{\\\"ticks\\\":\\\"\\\",\\\"outlinewidth\\\":0}}}],\\\"histogram2d\\\":[{\\\"colorbar\\\":{\\\"ticks\\\":\\\"\\\",\\\"outlinewidth\\\":0},\\\"type\\\":\\\"histogram2d\\\",\\\"colorscale\\\":[[0.0,\\\"#0d0887\\\"],[0.1111111111111111,\\\"#46039f\\\"],[0.2222222222222222,\\\"#7201a8\\\"],[0.3333333333333333,\\\"#9c179e\\\"],[0.4444444444444444,\\\"#bd3786\\\"],[0.5555555555555556,\\\"#d8576b\\\"],[0.6666666666666666,\\\"#ed7953\\\"],[0.7777777777777778,\\\"#fb9f3a\\\"],[0.8888888888888888,\\\"#fdca26\\\"],[1.0,\\\"#f0f921\\\"]]}],\\\"scatterternary\\\":[{\\\"type\\\":\\\"scatterternary\\\",\\\"marker\\\":{\\\"colorbar\\\":{\\\"ticks\\\":\\\"\\\",\\\"outlinewidth\\\":0}}}],\\\"scatterpolargl\\\":[{\\\"type\\\":\\\"scatterpolargl\\\",\\\"marker\\\":{\\\"colorbar\\\":{\\\"ticks\\\":\\\"\\\",\\\"outlinewidth\\\":0}}}]}},\\\"margin\\\":{\\\"l\\\":50,\\\"b\\\":50,\\\"r\\\":50,\\\"t\\\":60}},{\\\"showLink\\\":false,\\\"editable\\\":false,\\\"responsive\\\":true,\\\"staticPlot\\\":false,\\\"scrollZoom\\\":true}); gd.on(\\\"plotly_hover\\\",(function (data){var filtered_data=WebIO.PlotlyCommands.filterEventData(gd,data,\\\"hover\\\"); return !(filtered_data.isnil) ? (WebIO.setval({\\\"name\\\":\\\"hover\\\",\\\"scope\\\":\\\"8147919087021671866\\\",\\\"id\\\":\\\"5052052239203385493\\\",\\\"type\\\":\\\"observable\\\"},filtered_data.out)) : undefined})); gd.on(\\\"plotly_unhover\\\",(function (){return WebIO.setval({\\\"name\\\":\\\"hover\\\",\\\"scope\\\":\\\"8147919087021671866\\\",\\\"id\\\":\\\"5052052239203385493\\\",\\\"type\\\":\\\"observable\\\"},{})})); gd.on(\\\"plotly_selected\\\",(function (data){var filtered_data=WebIO.PlotlyCommands.filterEventData(gd,data,\\\"selected\\\"); return !(filtered_data.isnil) ? (WebIO.setval({\\\"name\\\":\\\"selected\\\",\\\"scope\\\":\\\"8147919087021671866\\\",\\\"id\\\":\\\"12151372390235567436\\\",\\\"type\\\":\\\"observable\\\"},filtered_data.out)) : undefined})); gd.on(\\\"plotly_deselect\\\",(function (){return WebIO.setval({\\\"name\\\":\\\"selected\\\",\\\"scope\\\":\\\"8147919087021671866\\\",\\\"id\\\":\\\"12151372390235567436\\\",\\\"type\\\":\\\"observable\\\"},{})})); gd.on(\\\"plotly_relayout\\\",(function (data){var filtered_data=WebIO.PlotlyCommands.filterEventData(gd,data,\\\"relayout\\\"); return !(filtered_data.isnil) ? (WebIO.setval({\\\"name\\\":\\\"relayout\\\",\\\"scope\\\":\\\"8147919087021671866\\\",\\\"id\\\":\\\"2572736384512992597\\\",\\\"type\\\":\\\"observable\\\"},filtered_data.out)) : undefined})); return gd.on(\\\"plotly_click\\\",(function (data){var filtered_data=WebIO.PlotlyCommands.filterEventData(gd,data,\\\"click\\\"); return !(filtered_data.isnil) ? (WebIO.setval({\\\"name\\\":\\\"click\\\",\\\"scope\\\":\\\"8147919087021671866\\\",\\\"id\\\":\\\"13421548555609052780\\\",\\\"type\\\":\\\"observable\\\"},filtered_data.out)) : undefined}))}));\\n    (WebIO.importBlock({\\\"data\\\":[{\\\"name\\\":\\\"Plotly\\\",\\\"type\\\":\\\"js\\\",\\\"url\\\":\\\"\\/assetserver\\/58896c7d350a17df3fba382767f4c006d30efb73-plotly.min.js\\\"},{\\\"name\\\":null,\\\"type\\\":\\\"js\\\",\\\"url\\\":\\\"\\/assetserver\\/e59749eb0875c5743424754ad42cec2a2a785410-plotly_webio.bundle.js\\\"}],\\\"type\\\":\\\"async_block\\\"})).then((imports) => handler.apply(this, imports));\\n}\\n\"],\"observables\":{\"_toImage\":{\"sync\":false,\"id\":\"9836652893723940952\",\"value\":{}},\"hover\":{\"sync\":false,\"id\":\"5052052239203385493\",\"value\":{}},\"selected\":{\"sync\":false,\"id\":\"12151372390235567436\",\"value\":{}},\"__gd_contents\":{\"sync\":false,\"id\":\"15136234702246225406\",\"value\":{}},\"click\":{\"sync\":false,\"id\":\"13421548555609052780\",\"value\":{}},\"image\":{\"sync\":true,\"id\":\"10770561522282770074\",\"value\":\"\"},\"__get_gd_contents\":{\"sync\":false,\"id\":\"1298478535622554903\",\"value\":\"\"},\"_downloadImage\":{\"sync\":false,\"id\":\"10749451485282675851\",\"value\":{}},\"relayout\":{\"sync\":false,\"id\":\"2572736384512992597\",\"value\":{}},\"_commands\":{\"sync\":false,\"id\":\"15341929162265408325\",\"value\":[]}}},\"children\":[{\"props\":{\"id\":\"plot-7d5c0557-f6cb-4876-9a1d-348a3c110005\"},\"nodeType\":\"DOM\",\"type\":\"node\",\"instanceArgs\":{\"namespace\":\"html\",\"tag\":\"div\"},\"children\":[]}]},\n",
       "        window,\n",
       "    );\n",
       "    })()\n",
       "    </script>\n",
       "</div>\n"
      ],
      "text/plain": [
       "data: [\n",
       "  \"scatter with fields mode, type, x, and y\",\n",
       "  \"scatter with fields mode, type, x, and y\",\n",
       "  \"scatter with fields mode, type, x, and y\",\n",
       "  \"scatter with fields mode, type, x, and y\"\n",
       "]\n",
       "\n",
       "layout: \"layout with fields margin and template\"\n",
       "\n"
      ]
     },
     "execution_count": 11,
     "metadata": {},
     "output_type": "execute_result"
    }
   ],
   "source": [
    "vectorPoints=rand(0:100.,6,2);\n",
    "\n",
    "println(vectorPoints);\n",
    "pointsHull=conicHull(vectorPoints)\n",
    "grapher(vectorPoints,pointsHull,2)"
   ]
  },
  {
   "cell_type": "code",
   "execution_count": 12,
   "metadata": {},
   "outputs": [
    {
     "name": "stdout",
     "output_type": "stream",
     "text": [
      "[75.0 94.0; 52.0 7.0; 13.0 92.0; 48.0 66.0; 34.0 45.0; 27.0 18.0; 27.0 68.0; 95.0 43.0; 66.0 25.0; 80.0 91.0; 53.0 53.0; 20.0 63.0; 35.0 90.0; 54.0 79.0; 76.0 34.0; 34.0 61.0; 23.0 98.0; 82.0 93.0; 59.0 53.0; 86.0 39.0; 88.0 84.0; 15.0 18.0; 75.0 6.0; 22.0 40.0; 94.0 55.0; 10.0 1.0; 52.0 7.0; 41.0 24.0; 3.0 75.0; 76.0 36.0; 39.0 85.0; 63.0 24.0; 85.0 28.0; 97.0 99.0; 9.0 21.0; 64.0 99.0; 55.0 50.0; 13.0 14.0; 17.0 94.0; 14.0 96.0; 95.0 17.0; 58.0 70.0; 37.0 0.0; 82.0 89.0; 71.0 81.0; 2.0 86.0; 28.0 80.0; 12.0 30.0; 80.0 97.0; 92.0 1.0; 63.0 78.0; 22.0 19.0; 69.0 87.0; 15.0 23.0; 98.0 10.0; 41.0 20.0; 64.0 32.0; 47.0 78.0; 75.0 14.0; 11.0 36.0; 48.0 20.0; 21.0 53.0; 68.0 53.0; 73.0 9.0; 6.0 90.0; 54.0 51.0; 28.0 88.0; 61.0 92.0; 1.0 96.0; 40.0 93.0; 51.0 37.0; 17.0 50.0; 50.0 45.0; 46.0 49.0; 94.0 88.0; 26.0 85.0; 61.0 39.0; 8.0 71.0; 93.0 99.0; 69.0 45.0; 67.0 73.0; 40.0 69.0; 5.0 30.0; 50.0 70.0; 55.0 33.0; 7.0 33.0; 36.0 37.0; 63.0 87.0; 85.0 33.0; 10.0 37.0; 3.0 79.0; 6.0 81.0; 43.0 69.0; 9.0 22.0; 40.0 50.0; 1.0 71.0; 82.0 51.0; 97.0 34.0; 89.0 76.0; 4.0 0.0]\n"
     ]
    },
    {
     "data": {
      "application/vnd.plotly.v1+json": {
       "config": {
        "editable": false,
        "responsive": true,
        "scrollZoom": true,
        "showLink": false,
        "staticPlot": false
       },
       "data": [
        {
         "mode": "markers",
         "type": "scatter",
         "x": [
          75,
          52,
          13,
          48,
          34,
          27,
          27,
          95,
          66,
          80,
          53,
          20,
          35,
          54,
          76,
          34,
          23,
          82,
          59,
          86,
          88,
          15,
          75,
          22,
          94,
          10,
          52,
          41,
          3,
          76,
          39,
          63,
          85,
          97,
          9,
          64,
          55,
          13,
          17,
          14,
          95,
          58,
          37,
          82,
          71,
          2,
          28,
          12,
          80,
          92,
          63,
          22,
          69,
          15,
          98,
          41,
          64,
          47,
          75,
          11,
          48,
          21,
          68,
          73,
          6,
          54,
          28,
          61,
          1,
          40,
          51,
          17,
          50,
          46,
          94,
          26,
          61,
          8,
          93,
          69,
          67,
          40,
          5,
          50,
          55,
          7,
          36,
          63,
          85,
          10,
          3,
          6,
          43,
          9,
          40,
          1,
          82,
          97,
          89,
          4
         ],
         "y": [
          94,
          7,
          92,
          66,
          45,
          18,
          68,
          43,
          25,
          91,
          53,
          63,
          90,
          79,
          34,
          61,
          98,
          93,
          53,
          39,
          84,
          18,
          6,
          40,
          55,
          1,
          7,
          24,
          75,
          36,
          85,
          24,
          28,
          99,
          21,
          99,
          50,
          14,
          94,
          96,
          17,
          70,
          0,
          89,
          81,
          86,
          80,
          30,
          97,
          1,
          78,
          19,
          87,
          23,
          10,
          20,
          32,
          78,
          14,
          36,
          20,
          53,
          53,
          9,
          90,
          51,
          88,
          92,
          96,
          93,
          37,
          50,
          45,
          49,
          88,
          85,
          39,
          71,
          99,
          45,
          73,
          69,
          30,
          70,
          33,
          33,
          37,
          87,
          33,
          37,
          79,
          81,
          69,
          22,
          50,
          71,
          51,
          34,
          76,
          0
         ]
        },
        {
         "mode": "lines",
         "type": "scatter",
         "x": [
          0.9869808451952536,
          0
         ],
         "y": [
          94.75016113874435,
          0
         ]
        },
        {
         "mode": "lines",
         "type": "scatter",
         "x": [
          6.022239627039626,
          0
         ],
         "y": [
          90.33359440559438,
          0
         ]
        },
        {
         "mode": "lines",
         "type": "scatter",
         "x": [
          89.88188034029444,
          0
         ],
         "y": [
          16.777950996854962,
          0
         ]
        },
        {
         "mode": "lines",
         "type": "scatter",
         "x": [
          109.01016033755273,
          0
         ],
         "y": [
          0,
          0
         ]
        },
        {
         "mode": "lines",
         "type": "scatter",
         "x": [
          97.85398075903342,
          0
         ],
         "y": [
          9.785398075903341,
          0
         ]
        },
        {
         "mode": "lines",
         "type": "scatter",
         "x": [
          48.72161354865714,
          0
         ],
         "y": [
          52.88077568085958,
          0
         ]
        },
        {
         "mode": "lines",
         "type": "scatter",
         "x": [
          48.617902009909116,
          0
         ],
         "y": [
          52.971743980945746,
          0
         ]
        },
        {
         "mode": "lines",
         "type": "scatter",
         "x": [
          1.3302683665273,
          0
         ],
         "y": [
          94.44905402343831,
          0
         ]
        }
       ],
       "frames": [],
       "layout": {
        "margin": {
         "b": 50,
         "l": 50,
         "r": 50,
         "t": 60
        },
        "template": {
         "data": {
          "bar": [
           {
            "error_x": {
             "color": "#2a3f5f"
            },
            "error_y": {
             "color": "#2a3f5f"
            },
            "marker": {
             "line": {
              "color": "#E5ECF6",
              "width": 0.5
             }
            },
            "type": "bar"
           }
          ],
          "barpolar": [
           {
            "marker": {
             "line": {
              "color": "#E5ECF6",
              "width": 0.5
             }
            },
            "type": "barpolar"
           }
          ],
          "carpet": [
           {
            "aaxis": {
             "endlinecolor": "#2a3f5f",
             "gridcolor": "white",
             "linecolor": "white",
             "minorgridcolor": "white",
             "startlinecolor": "#2a3f5f"
            },
            "baxis": {
             "endlinecolor": "#2a3f5f",
             "gridcolor": "white",
             "linecolor": "white",
             "minorgridcolor": "white",
             "startlinecolor": "#2a3f5f"
            },
            "type": "carpet"
           }
          ],
          "choropleth": [
           {
            "colorbar": {
             "outlinewidth": 0,
             "ticks": ""
            },
            "type": "choropleth"
           }
          ],
          "contour": [
           {
            "colorbar": {
             "outlinewidth": 0,
             "ticks": ""
            },
            "colorscale": [
             [
              0,
              "#0d0887"
             ],
             [
              0.1111111111111111,
              "#46039f"
             ],
             [
              0.2222222222222222,
              "#7201a8"
             ],
             [
              0.3333333333333333,
              "#9c179e"
             ],
             [
              0.4444444444444444,
              "#bd3786"
             ],
             [
              0.5555555555555556,
              "#d8576b"
             ],
             [
              0.6666666666666666,
              "#ed7953"
             ],
             [
              0.7777777777777778,
              "#fb9f3a"
             ],
             [
              0.8888888888888888,
              "#fdca26"
             ],
             [
              1,
              "#f0f921"
             ]
            ],
            "type": "contour"
           }
          ],
          "contourcarpet": [
           {
            "colorbar": {
             "outlinewidth": 0,
             "ticks": ""
            },
            "type": "contourcarpet"
           }
          ],
          "heatmap": [
           {
            "colorbar": {
             "outlinewidth": 0,
             "ticks": ""
            },
            "colorscale": [
             [
              0,
              "#0d0887"
             ],
             [
              0.1111111111111111,
              "#46039f"
             ],
             [
              0.2222222222222222,
              "#7201a8"
             ],
             [
              0.3333333333333333,
              "#9c179e"
             ],
             [
              0.4444444444444444,
              "#bd3786"
             ],
             [
              0.5555555555555556,
              "#d8576b"
             ],
             [
              0.6666666666666666,
              "#ed7953"
             ],
             [
              0.7777777777777778,
              "#fb9f3a"
             ],
             [
              0.8888888888888888,
              "#fdca26"
             ],
             [
              1,
              "#f0f921"
             ]
            ],
            "type": "heatmap"
           }
          ],
          "heatmapgl": [
           {
            "colorbar": {
             "outlinewidth": 0,
             "ticks": ""
            },
            "colorscale": [
             [
              0,
              "#0d0887"
             ],
             [
              0.1111111111111111,
              "#46039f"
             ],
             [
              0.2222222222222222,
              "#7201a8"
             ],
             [
              0.3333333333333333,
              "#9c179e"
             ],
             [
              0.4444444444444444,
              "#bd3786"
             ],
             [
              0.5555555555555556,
              "#d8576b"
             ],
             [
              0.6666666666666666,
              "#ed7953"
             ],
             [
              0.7777777777777778,
              "#fb9f3a"
             ],
             [
              0.8888888888888888,
              "#fdca26"
             ],
             [
              1,
              "#f0f921"
             ]
            ],
            "type": "heatmapgl"
           }
          ],
          "histogram": [
           {
            "marker": {
             "colorbar": {
              "outlinewidth": 0,
              "ticks": ""
             }
            },
            "type": "histogram"
           }
          ],
          "histogram2d": [
           {
            "colorbar": {
             "outlinewidth": 0,
             "ticks": ""
            },
            "colorscale": [
             [
              0,
              "#0d0887"
             ],
             [
              0.1111111111111111,
              "#46039f"
             ],
             [
              0.2222222222222222,
              "#7201a8"
             ],
             [
              0.3333333333333333,
              "#9c179e"
             ],
             [
              0.4444444444444444,
              "#bd3786"
             ],
             [
              0.5555555555555556,
              "#d8576b"
             ],
             [
              0.6666666666666666,
              "#ed7953"
             ],
             [
              0.7777777777777778,
              "#fb9f3a"
             ],
             [
              0.8888888888888888,
              "#fdca26"
             ],
             [
              1,
              "#f0f921"
             ]
            ],
            "type": "histogram2d"
           }
          ],
          "histogram2dcontour": [
           {
            "colorbar": {
             "outlinewidth": 0,
             "ticks": ""
            },
            "colorscale": [
             [
              0,
              "#0d0887"
             ],
             [
              0.1111111111111111,
              "#46039f"
             ],
             [
              0.2222222222222222,
              "#7201a8"
             ],
             [
              0.3333333333333333,
              "#9c179e"
             ],
             [
              0.4444444444444444,
              "#bd3786"
             ],
             [
              0.5555555555555556,
              "#d8576b"
             ],
             [
              0.6666666666666666,
              "#ed7953"
             ],
             [
              0.7777777777777778,
              "#fb9f3a"
             ],
             [
              0.8888888888888888,
              "#fdca26"
             ],
             [
              1,
              "#f0f921"
             ]
            ],
            "type": "histogram2dcontour"
           }
          ],
          "mesh3d": [
           {
            "colorbar": {
             "outlinewidth": 0,
             "ticks": ""
            },
            "type": "mesh3d"
           }
          ],
          "parcoords": [
           {
            "line": {
             "colorbar": {
              "outlinewidth": 0,
              "ticks": ""
             }
            },
            "type": "parcoords"
           }
          ],
          "pie": [
           {
            "automargin": true,
            "type": "pie"
           }
          ],
          "scatter": [
           {
            "marker": {
             "colorbar": {
              "outlinewidth": 0,
              "ticks": ""
             }
            },
            "type": "scatter"
           }
          ],
          "scatter3d": [
           {
            "line": {
             "colorbar": {
              "outlinewidth": 0,
              "ticks": ""
             }
            },
            "marker": {
             "colorbar": {
              "outlinewidth": 0,
              "ticks": ""
             }
            },
            "type": "scatter3d"
           }
          ],
          "scattercarpet": [
           {
            "marker": {
             "colorbar": {
              "outlinewidth": 0,
              "ticks": ""
             }
            },
            "type": "scattercarpet"
           }
          ],
          "scattergeo": [
           {
            "marker": {
             "colorbar": {
              "outlinewidth": 0,
              "ticks": ""
             }
            },
            "type": "scattergeo"
           }
          ],
          "scattergl": [
           {
            "marker": {
             "colorbar": {
              "outlinewidth": 0,
              "ticks": ""
             }
            },
            "type": "scattergl"
           }
          ],
          "scattermapbox": [
           {
            "marker": {
             "colorbar": {
              "outlinewidth": 0,
              "ticks": ""
             }
            },
            "type": "scattermapbox"
           }
          ],
          "scatterpolar": [
           {
            "marker": {
             "colorbar": {
              "outlinewidth": 0,
              "ticks": ""
             }
            },
            "type": "scatterpolar"
           }
          ],
          "scatterpolargl": [
           {
            "marker": {
             "colorbar": {
              "outlinewidth": 0,
              "ticks": ""
             }
            },
            "type": "scatterpolargl"
           }
          ],
          "scatterternary": [
           {
            "marker": {
             "colorbar": {
              "outlinewidth": 0,
              "ticks": ""
             }
            },
            "type": "scatterternary"
           }
          ],
          "surface": [
           {
            "colorbar": {
             "outlinewidth": 0,
             "ticks": ""
            },
            "colorscale": [
             [
              0,
              "#0d0887"
             ],
             [
              0.1111111111111111,
              "#46039f"
             ],
             [
              0.2222222222222222,
              "#7201a8"
             ],
             [
              0.3333333333333333,
              "#9c179e"
             ],
             [
              0.4444444444444444,
              "#bd3786"
             ],
             [
              0.5555555555555556,
              "#d8576b"
             ],
             [
              0.6666666666666666,
              "#ed7953"
             ],
             [
              0.7777777777777778,
              "#fb9f3a"
             ],
             [
              0.8888888888888888,
              "#fdca26"
             ],
             [
              1,
              "#f0f921"
             ]
            ],
            "type": "surface"
           }
          ],
          "table": [
           {
            "cells": {
             "fill": {
              "color": "#EBF0F8"
             },
             "line": {
              "color": "white"
             }
            },
            "header": {
             "fill": {
              "color": "#C8D4E3"
             },
             "line": {
              "color": "white"
             }
            },
            "type": "table"
           }
          ]
         },
         "layout": {
          "annotationdefaults": {
           "arrowcolor": "#2a3f5f",
           "arrowhead": 0,
           "arrowwidth": 1
          },
          "autotypenumbers": "strict",
          "coloraxis": {
           "colorbar": {
            "outlinewidth": 0,
            "ticks": ""
           }
          },
          "colorscale": {
           "diverging": [
            [
             0,
             "#8e0152"
            ],
            [
             0.1,
             "#c51b7d"
            ],
            [
             0.2,
             "#de77ae"
            ],
            [
             0.3,
             "#f1b6da"
            ],
            [
             0.4,
             "#fde0ef"
            ],
            [
             0.5,
             "#f7f7f7"
            ],
            [
             0.6,
             "#e6f5d0"
            ],
            [
             0.7,
             "#b8e186"
            ],
            [
             0.8,
             "#7fbc41"
            ],
            [
             0.9,
             "#4d9221"
            ],
            [
             1,
             "#276419"
            ]
           ],
           "sequential": [
            [
             0,
             "#0d0887"
            ],
            [
             0.1111111111111111,
             "#46039f"
            ],
            [
             0.2222222222222222,
             "#7201a8"
            ],
            [
             0.3333333333333333,
             "#9c179e"
            ],
            [
             0.4444444444444444,
             "#bd3786"
            ],
            [
             0.5555555555555556,
             "#d8576b"
            ],
            [
             0.6666666666666666,
             "#ed7953"
            ],
            [
             0.7777777777777778,
             "#fb9f3a"
            ],
            [
             0.8888888888888888,
             "#fdca26"
            ],
            [
             1,
             "#f0f921"
            ]
           ],
           "sequentialminus": [
            [
             0,
             "#0d0887"
            ],
            [
             0.1111111111111111,
             "#46039f"
            ],
            [
             0.2222222222222222,
             "#7201a8"
            ],
            [
             0.3333333333333333,
             "#9c179e"
            ],
            [
             0.4444444444444444,
             "#bd3786"
            ],
            [
             0.5555555555555556,
             "#d8576b"
            ],
            [
             0.6666666666666666,
             "#ed7953"
            ],
            [
             0.7777777777777778,
             "#fb9f3a"
            ],
            [
             0.8888888888888888,
             "#fdca26"
            ],
            [
             1,
             "#f0f921"
            ]
           ]
          },
          "colorway": [
           "#636efa",
           "#EF553B",
           "#00cc96",
           "#ab63fa",
           "#FFA15A",
           "#19d3f3",
           "#FF6692",
           "#B6E880",
           "#FF97FF",
           "#FECB52"
          ],
          "font": {
           "color": "#2a3f5f"
          },
          "geo": {
           "bgcolor": "white",
           "lakecolor": "white",
           "landcolor": "#E5ECF6",
           "showlakes": true,
           "showland": true,
           "subunitcolor": "white"
          },
          "hoverlabel": {
           "align": "left"
          },
          "hovermode": "closest",
          "mapbox": {
           "style": "light"
          },
          "paper_bgcolor": "white",
          "plot_bgcolor": "#E5ECF6",
          "polar": {
           "angularaxis": {
            "gridcolor": "white",
            "linecolor": "white",
            "ticks": ""
           },
           "bgcolor": "#E5ECF6",
           "radialaxis": {
            "gridcolor": "white",
            "linecolor": "white",
            "ticks": ""
           }
          },
          "scene": {
           "xaxis": {
            "backgroundcolor": "#E5ECF6",
            "gridcolor": "white",
            "gridwidth": 2,
            "linecolor": "white",
            "showbackground": true,
            "ticks": "",
            "zerolinecolor": "white"
           },
           "yaxis": {
            "backgroundcolor": "#E5ECF6",
            "gridcolor": "white",
            "gridwidth": 2,
            "linecolor": "white",
            "showbackground": true,
            "ticks": "",
            "zerolinecolor": "white"
           },
           "zaxis": {
            "backgroundcolor": "#E5ECF6",
            "gridcolor": "white",
            "gridwidth": 2,
            "linecolor": "white",
            "showbackground": true,
            "ticks": "",
            "zerolinecolor": "white"
           }
          },
          "shapedefaults": {
           "line": {
            "color": "#2a3f5f"
           }
          },
          "ternary": {
           "aaxis": {
            "gridcolor": "white",
            "linecolor": "white",
            "ticks": ""
           },
           "baxis": {
            "gridcolor": "white",
            "linecolor": "white",
            "ticks": ""
           },
           "bgcolor": "#E5ECF6",
           "caxis": {
            "gridcolor": "white",
            "linecolor": "white",
            "ticks": ""
           }
          },
          "title": {
           "x": 0.05
          },
          "xaxis": {
           "automargin": true,
           "gridcolor": "white",
           "linecolor": "white",
           "ticks": "",
           "title": {
            "standoff": 15
           },
           "zerolinecolor": "white",
           "zerolinewidth": 2
          },
          "yaxis": {
           "automargin": true,
           "gridcolor": "white",
           "linecolor": "white",
           "ticks": "",
           "title": {
            "standoff": 15
           },
           "zerolinecolor": "white",
           "zerolinewidth": 2
          }
         }
        }
       }
      },
      "text/html": [
       "<div\n",
       "    class=\"webio-mountpoint\"\n",
       "    data-webio-mountpoint=\"3433119000523310025\"\n",
       ">\n",
       "    <script>\n",
       "    (function(){\n",
       "    // Some integrations (namely, IJulia/Jupyter) use an alternate render pathway than\n",
       "    // just putting the html on the page. If WebIO isn't defined, then it's pretty likely\n",
       "    // that we're in one of those situations and the integration just isn't installed\n",
       "    // correctly.\n",
       "    if (typeof window.WebIO === \"undefined\") {\n",
       "        document\n",
       "            .querySelector('[data-webio-mountpoint=\"3433119000523310025\"]')\n",
       "            .innerHTML = (\n",
       "                '<div style=\"padding: 1em; background-color: #f8d6da; border: 1px solid #f5c6cb; font-weight: bold;\">' +\n",
       "                '<p><strong>WebIO not detected.</strong></p>' +\n",
       "                '<p>Please read ' +\n",
       "                '<a href=\"https://juliagizmos.github.io/WebIO.jl/latest/troubleshooting/not-detected/\" target=\"_blank\">the troubleshooting guide</a> ' +\n",
       "                'for more information on how to resolve this issue.</p>' +\n",
       "                '<p><a href=\"https://juliagizmos.github.io/WebIO.jl/latest/troubleshooting/not-detected/\" target=\"_blank\">https://juliagizmos.github.io/WebIO.jl/latest/troubleshooting/not-detected/</a></p>' +\n",
       "                '</div>'\n",
       "            );\n",
       "        return;\n",
       "    }\n",
       "    WebIO.mount(\n",
       "        document.querySelector('[data-webio-mountpoint=\"3433119000523310025\"]'),\n",
       "        {\"props\":{},\"nodeType\":\"Scope\",\"type\":\"node\",\"instanceArgs\":{\"imports\":{\"data\":[{\"name\":\"Plotly\",\"type\":\"js\",\"url\":\"\\/assetserver\\/58896c7d350a17df3fba382767f4c006d30efb73-plotly.min.js\"},{\"name\":null,\"type\":\"js\",\"url\":\"\\/assetserver\\/e59749eb0875c5743424754ad42cec2a2a785410-plotly_webio.bundle.js\"}],\"type\":\"async_block\"},\"id\":\"1205082098755706590\",\"handlers\":{\"_toImage\":[\"(function (options){return this.Plotly.toImage(this.plotElem,options).then((function (data){return WebIO.setval({\\\"name\\\":\\\"image\\\",\\\"scope\\\":\\\"1205082098755706590\\\",\\\"id\\\":\\\"7114781271252075617\\\",\\\"type\\\":\\\"observable\\\"},data)}))})\"],\"__get_gd_contents\":[\"(function (prop){prop==\\\"data\\\" ? (WebIO.setval({\\\"name\\\":\\\"__gd_contents\\\",\\\"scope\\\":\\\"1205082098755706590\\\",\\\"id\\\":\\\"12827940801047131909\\\",\\\"type\\\":\\\"observable\\\"},this.plotElem.data)) : undefined; return prop==\\\"layout\\\" ? (WebIO.setval({\\\"name\\\":\\\"__gd_contents\\\",\\\"scope\\\":\\\"1205082098755706590\\\",\\\"id\\\":\\\"12827940801047131909\\\",\\\"type\\\":\\\"observable\\\"},this.plotElem.layout)) : undefined})\"],\"_downloadImage\":[\"(function (options){return this.Plotly.downloadImage(this.plotElem,options)})\"],\"_commands\":[\"(function (args){var fn=args.shift(); var elem=this.plotElem; var Plotly=this.Plotly; args.unshift(elem); return Plotly[fn].apply(this,args)})\"]},\"systemjs_options\":null,\"mount_callbacks\":[\"function () {\\n    var handler = ((function (Plotly,PlotlyWebIO){PlotlyWebIO.init(WebIO); var gd=this.dom.querySelector(\\\"#plot-c36a3726-3ff3-4a66-b11c-cd68a8a2b6e7\\\"); this.plotElem=gd; this.Plotly=Plotly; (window.Blink!==undefined) ? (gd.style.width=\\\"100%\\\", gd.style.height=\\\"100vh\\\", gd.style.marginLeft=\\\"0%\\\", gd.style.marginTop=\\\"0vh\\\") : undefined; window.onresize=(function (){return Plotly.Plots.resize(gd)}); Plotly.newPlot(gd,[{\\\"mode\\\":\\\"markers\\\",\\\"y\\\":[94.0,7.0,92.0,66.0,45.0,18.0,68.0,43.0,25.0,91.0,53.0,63.0,90.0,79.0,34.0,61.0,98.0,93.0,53.0,39.0,84.0,18.0,6.0,40.0,55.0,1.0,7.0,24.0,75.0,36.0,85.0,24.0,28.0,99.0,21.0,99.0,50.0,14.0,94.0,96.0,17.0,70.0,0.0,89.0,81.0,86.0,80.0,30.0,97.0,1.0,78.0,19.0,87.0,23.0,10.0,20.0,32.0,78.0,14.0,36.0,20.0,53.0,53.0,9.0,90.0,51.0,88.0,92.0,96.0,93.0,37.0,50.0,45.0,49.0,88.0,85.0,39.0,71.0,99.0,45.0,73.0,69.0,30.0,70.0,33.0,33.0,37.0,87.0,33.0,37.0,79.0,81.0,69.0,22.0,50.0,71.0,51.0,34.0,76.0,0.0],\\\"type\\\":\\\"scatter\\\",\\\"x\\\":[75.0,52.0,13.0,48.0,34.0,27.0,27.0,95.0,66.0,80.0,53.0,20.0,35.0,54.0,76.0,34.0,23.0,82.0,59.0,86.0,88.0,15.0,75.0,22.0,94.0,10.0,52.0,41.0,3.0,76.0,39.0,63.0,85.0,97.0,9.0,64.0,55.0,13.0,17.0,14.0,95.0,58.0,37.0,82.0,71.0,2.0,28.0,12.0,80.0,92.0,63.0,22.0,69.0,15.0,98.0,41.0,64.0,47.0,75.0,11.0,48.0,21.0,68.0,73.0,6.0,54.0,28.0,61.0,1.0,40.0,51.0,17.0,50.0,46.0,94.0,26.0,61.0,8.0,93.0,69.0,67.0,40.0,5.0,50.0,55.0,7.0,36.0,63.0,85.0,10.0,3.0,6.0,43.0,9.0,40.0,1.0,82.0,97.0,89.0,4.0]},{\\\"mode\\\":\\\"lines\\\",\\\"y\\\":[94.75016113874435,0.0],\\\"type\\\":\\\"scatter\\\",\\\"x\\\":[0.9869808451952536,0.0]},{\\\"mode\\\":\\\"lines\\\",\\\"y\\\":[90.33359440559438,0.0],\\\"type\\\":\\\"scatter\\\",\\\"x\\\":[6.022239627039626,0.0]},{\\\"mode\\\":\\\"lines\\\",\\\"y\\\":[16.777950996854962,0.0],\\\"type\\\":\\\"scatter\\\",\\\"x\\\":[89.88188034029444,0.0]},{\\\"mode\\\":\\\"lines\\\",\\\"y\\\":[0.0,0.0],\\\"type\\\":\\\"scatter\\\",\\\"x\\\":[109.01016033755273,0.0]},{\\\"mode\\\":\\\"lines\\\",\\\"y\\\":[9.785398075903341,0.0],\\\"type\\\":\\\"scatter\\\",\\\"x\\\":[97.85398075903342,0.0]},{\\\"mode\\\":\\\"lines\\\",\\\"y\\\":[52.88077568085958,0.0],\\\"type\\\":\\\"scatter\\\",\\\"x\\\":[48.72161354865714,0.0]},{\\\"mode\\\":\\\"lines\\\",\\\"y\\\":[52.971743980945746,0.0],\\\"type\\\":\\\"scatter\\\",\\\"x\\\":[48.617902009909116,0.0]},{\\\"mode\\\":\\\"lines\\\",\\\"y\\\":[94.44905402343831,0.0],\\\"type\\\":\\\"scatter\\\",\\\"x\\\":[1.3302683665273,0.0]}],{\\\"template\\\":{\\\"layout\\\":{\\\"coloraxis\\\":{\\\"colorbar\\\":{\\\"ticks\\\":\\\"\\\",\\\"outlinewidth\\\":0}},\\\"xaxis\\\":{\\\"gridcolor\\\":\\\"white\\\",\\\"zerolinewidth\\\":2,\\\"title\\\":{\\\"standoff\\\":15},\\\"ticks\\\":\\\"\\\",\\\"zerolinecolor\\\":\\\"white\\\",\\\"automargin\\\":true,\\\"linecolor\\\":\\\"white\\\"},\\\"hovermode\\\":\\\"closest\\\",\\\"paper_bgcolor\\\":\\\"white\\\",\\\"geo\\\":{\\\"showlakes\\\":true,\\\"showland\\\":true,\\\"landcolor\\\":\\\"#E5ECF6\\\",\\\"bgcolor\\\":\\\"white\\\",\\\"subunitcolor\\\":\\\"white\\\",\\\"lakecolor\\\":\\\"white\\\"},\\\"colorscale\\\":{\\\"sequential\\\":[[0.0,\\\"#0d0887\\\"],[0.1111111111111111,\\\"#46039f\\\"],[0.2222222222222222,\\\"#7201a8\\\"],[0.3333333333333333,\\\"#9c179e\\\"],[0.4444444444444444,\\\"#bd3786\\\"],[0.5555555555555556,\\\"#d8576b\\\"],[0.6666666666666666,\\\"#ed7953\\\"],[0.7777777777777778,\\\"#fb9f3a\\\"],[0.8888888888888888,\\\"#fdca26\\\"],[1.0,\\\"#f0f921\\\"]],\\\"diverging\\\":[[0,\\\"#8e0152\\\"],[0.1,\\\"#c51b7d\\\"],[0.2,\\\"#de77ae\\\"],[0.3,\\\"#f1b6da\\\"],[0.4,\\\"#fde0ef\\\"],[0.5,\\\"#f7f7f7\\\"],[0.6,\\\"#e6f5d0\\\"],[0.7,\\\"#b8e186\\\"],[0.8,\\\"#7fbc41\\\"],[0.9,\\\"#4d9221\\\"],[1,\\\"#276419\\\"]],\\\"sequentialminus\\\":[[0.0,\\\"#0d0887\\\"],[0.1111111111111111,\\\"#46039f\\\"],[0.2222222222222222,\\\"#7201a8\\\"],[0.3333333333333333,\\\"#9c179e\\\"],[0.4444444444444444,\\\"#bd3786\\\"],[0.5555555555555556,\\\"#d8576b\\\"],[0.6666666666666666,\\\"#ed7953\\\"],[0.7777777777777778,\\\"#fb9f3a\\\"],[0.8888888888888888,\\\"#fdca26\\\"],[1.0,\\\"#f0f921\\\"]]},\\\"yaxis\\\":{\\\"gridcolor\\\":\\\"white\\\",\\\"zerolinewidth\\\":2,\\\"title\\\":{\\\"standoff\\\":15},\\\"ticks\\\":\\\"\\\",\\\"zerolinecolor\\\":\\\"white\\\",\\\"automargin\\\":true,\\\"linecolor\\\":\\\"white\\\"},\\\"shapedefaults\\\":{\\\"line\\\":{\\\"color\\\":\\\"#2a3f5f\\\"}},\\\"hoverlabel\\\":{\\\"align\\\":\\\"left\\\"},\\\"mapbox\\\":{\\\"style\\\":\\\"light\\\"},\\\"polar\\\":{\\\"angularaxis\\\":{\\\"gridcolor\\\":\\\"white\\\",\\\"ticks\\\":\\\"\\\",\\\"linecolor\\\":\\\"white\\\"},\\\"bgcolor\\\":\\\"#E5ECF6\\\",\\\"radialaxis\\\":{\\\"gridcolor\\\":\\\"white\\\",\\\"ticks\\\":\\\"\\\",\\\"linecolor\\\":\\\"white\\\"}},\\\"autotypenumbers\\\":\\\"strict\\\",\\\"font\\\":{\\\"color\\\":\\\"#2a3f5f\\\"},\\\"ternary\\\":{\\\"baxis\\\":{\\\"gridcolor\\\":\\\"white\\\",\\\"ticks\\\":\\\"\\\",\\\"linecolor\\\":\\\"white\\\"},\\\"bgcolor\\\":\\\"#E5ECF6\\\",\\\"caxis\\\":{\\\"gridcolor\\\":\\\"white\\\",\\\"ticks\\\":\\\"\\\",\\\"linecolor\\\":\\\"white\\\"},\\\"aaxis\\\":{\\\"gridcolor\\\":\\\"white\\\",\\\"ticks\\\":\\\"\\\",\\\"linecolor\\\":\\\"white\\\"}},\\\"annotationdefaults\\\":{\\\"arrowhead\\\":0,\\\"arrowwidth\\\":1,\\\"arrowcolor\\\":\\\"#2a3f5f\\\"},\\\"plot_bgcolor\\\":\\\"#E5ECF6\\\",\\\"title\\\":{\\\"x\\\":0.05},\\\"scene\\\":{\\\"xaxis\\\":{\\\"gridcolor\\\":\\\"white\\\",\\\"gridwidth\\\":2,\\\"backgroundcolor\\\":\\\"#E5ECF6\\\",\\\"ticks\\\":\\\"\\\",\\\"showbackground\\\":true,\\\"zerolinecolor\\\":\\\"white\\\",\\\"linecolor\\\":\\\"white\\\"},\\\"zaxis\\\":{\\\"gridcolor\\\":\\\"white\\\",\\\"gridwidth\\\":2,\\\"backgroundcolor\\\":\\\"#E5ECF6\\\",\\\"ticks\\\":\\\"\\\",\\\"showbackground\\\":true,\\\"zerolinecolor\\\":\\\"white\\\",\\\"linecolor\\\":\\\"white\\\"},\\\"yaxis\\\":{\\\"gridcolor\\\":\\\"white\\\",\\\"gridwidth\\\":2,\\\"backgroundcolor\\\":\\\"#E5ECF6\\\",\\\"ticks\\\":\\\"\\\",\\\"showbackground\\\":true,\\\"zerolinecolor\\\":\\\"white\\\",\\\"linecolor\\\":\\\"white\\\"}},\\\"colorway\\\":[\\\"#636efa\\\",\\\"#EF553B\\\",\\\"#00cc96\\\",\\\"#ab63fa\\\",\\\"#FFA15A\\\",\\\"#19d3f3\\\",\\\"#FF6692\\\",\\\"#B6E880\\\",\\\"#FF97FF\\\",\\\"#FECB52\\\"]},\\\"data\\\":{\\\"barpolar\\\":[{\\\"type\\\":\\\"barpolar\\\",\\\"marker\\\":{\\\"line\\\":{\\\"color\\\":\\\"#E5ECF6\\\",\\\"width\\\":0.5}}}],\\\"carpet\\\":[{\\\"aaxis\\\":{\\\"gridcolor\\\":\\\"white\\\",\\\"endlinecolor\\\":\\\"#2a3f5f\\\",\\\"minorgridcolor\\\":\\\"white\\\",\\\"startlinecolor\\\":\\\"#2a3f5f\\\",\\\"linecolor\\\":\\\"white\\\"},\\\"type\\\":\\\"carpet\\\",\\\"baxis\\\":{\\\"gridcolor\\\":\\\"white\\\",\\\"endlinecolor\\\":\\\"#2a3f5f\\\",\\\"minorgridcolor\\\":\\\"white\\\",\\\"startlinecolor\\\":\\\"#2a3f5f\\\",\\\"linecolor\\\":\\\"white\\\"}}],\\\"scatterpolar\\\":[{\\\"type\\\":\\\"scatterpolar\\\",\\\"marker\\\":{\\\"colorbar\\\":{\\\"ticks\\\":\\\"\\\",\\\"outlinewidth\\\":0}}}],\\\"parcoords\\\":[{\\\"line\\\":{\\\"colorbar\\\":{\\\"ticks\\\":\\\"\\\",\\\"outlinewidth\\\":0}},\\\"type\\\":\\\"parcoords\\\"}],\\\"scatter\\\":[{\\\"type\\\":\\\"scatter\\\",\\\"marker\\\":{\\\"colorbar\\\":{\\\"ticks\\\":\\\"\\\",\\\"outlinewidth\\\":0}}}],\\\"histogram2dcontour\\\":[{\\\"colorbar\\\":{\\\"ticks\\\":\\\"\\\",\\\"outlinewidth\\\":0},\\\"type\\\":\\\"histogram2dcontour\\\",\\\"colorscale\\\":[[0.0,\\\"#0d0887\\\"],[0.1111111111111111,\\\"#46039f\\\"],[0.2222222222222222,\\\"#7201a8\\\"],[0.3333333333333333,\\\"#9c179e\\\"],[0.4444444444444444,\\\"#bd3786\\\"],[0.5555555555555556,\\\"#d8576b\\\"],[0.6666666666666666,\\\"#ed7953\\\"],[0.7777777777777778,\\\"#fb9f3a\\\"],[0.8888888888888888,\\\"#fdca26\\\"],[1.0,\\\"#f0f921\\\"]]}],\\\"contour\\\":[{\\\"colorbar\\\":{\\\"ticks\\\":\\\"\\\",\\\"outlinewidth\\\":0},\\\"type\\\":\\\"contour\\\",\\\"colorscale\\\":[[0.0,\\\"#0d0887\\\"],[0.1111111111111111,\\\"#46039f\\\"],[0.2222222222222222,\\\"#7201a8\\\"],[0.3333333333333333,\\\"#9c179e\\\"],[0.4444444444444444,\\\"#bd3786\\\"],[0.5555555555555556,\\\"#d8576b\\\"],[0.6666666666666666,\\\"#ed7953\\\"],[0.7777777777777778,\\\"#fb9f3a\\\"],[0.8888888888888888,\\\"#fdca26\\\"],[1.0,\\\"#f0f921\\\"]]}],\\\"scattercarpet\\\":[{\\\"type\\\":\\\"scattercarpet\\\",\\\"marker\\\":{\\\"colorbar\\\":{\\\"ticks\\\":\\\"\\\",\\\"outlinewidth\\\":0}}}],\\\"mesh3d\\\":[{\\\"colorbar\\\":{\\\"ticks\\\":\\\"\\\",\\\"outlinewidth\\\":0},\\\"type\\\":\\\"mesh3d\\\"}],\\\"surface\\\":[{\\\"colorbar\\\":{\\\"ticks\\\":\\\"\\\",\\\"outlinewidth\\\":0},\\\"type\\\":\\\"surface\\\",\\\"colorscale\\\":[[0.0,\\\"#0d0887\\\"],[0.1111111111111111,\\\"#46039f\\\"],[0.2222222222222222,\\\"#7201a8\\\"],[0.3333333333333333,\\\"#9c179e\\\"],[0.4444444444444444,\\\"#bd3786\\\"],[0.5555555555555556,\\\"#d8576b\\\"],[0.6666666666666666,\\\"#ed7953\\\"],[0.7777777777777778,\\\"#fb9f3a\\\"],[0.8888888888888888,\\\"#fdca26\\\"],[1.0,\\\"#f0f921\\\"]]}],\\\"scattermapbox\\\":[{\\\"type\\\":\\\"scattermapbox\\\",\\\"marker\\\":{\\\"colorbar\\\":{\\\"ticks\\\":\\\"\\\",\\\"outlinewidth\\\":0}}}],\\\"scattergeo\\\":[{\\\"type\\\":\\\"scattergeo\\\",\\\"marker\\\":{\\\"colorbar\\\":{\\\"ticks\\\":\\\"\\\",\\\"outlinewidth\\\":0}}}],\\\"histogram\\\":[{\\\"type\\\":\\\"histogram\\\",\\\"marker\\\":{\\\"colorbar\\\":{\\\"ticks\\\":\\\"\\\",\\\"outlinewidth\\\":0}}}],\\\"pie\\\":[{\\\"type\\\":\\\"pie\\\",\\\"automargin\\\":true}],\\\"choropleth\\\":[{\\\"colorbar\\\":{\\\"ticks\\\":\\\"\\\",\\\"outlinewidth\\\":0},\\\"type\\\":\\\"choropleth\\\"}],\\\"heatmapgl\\\":[{\\\"colorbar\\\":{\\\"ticks\\\":\\\"\\\",\\\"outlinewidth\\\":0},\\\"type\\\":\\\"heatmapgl\\\",\\\"colorscale\\\":[[0.0,\\\"#0d0887\\\"],[0.1111111111111111,\\\"#46039f\\\"],[0.2222222222222222,\\\"#7201a8\\\"],[0.3333333333333333,\\\"#9c179e\\\"],[0.4444444444444444,\\\"#bd3786\\\"],[0.5555555555555556,\\\"#d8576b\\\"],[0.6666666666666666,\\\"#ed7953\\\"],[0.7777777777777778,\\\"#fb9f3a\\\"],[0.8888888888888888,\\\"#fdca26\\\"],[1.0,\\\"#f0f921\\\"]]}],\\\"bar\\\":[{\\\"type\\\":\\\"bar\\\",\\\"error_y\\\":{\\\"color\\\":\\\"#2a3f5f\\\"},\\\"error_x\\\":{\\\"color\\\":\\\"#2a3f5f\\\"},\\\"marker\\\":{\\\"line\\\":{\\\"color\\\":\\\"#E5ECF6\\\",\\\"width\\\":0.5}}}],\\\"heatmap\\\":[{\\\"colorbar\\\":{\\\"ticks\\\":\\\"\\\",\\\"outlinewidth\\\":0},\\\"type\\\":\\\"heatmap\\\",\\\"colorscale\\\":[[0.0,\\\"#0d0887\\\"],[0.1111111111111111,\\\"#46039f\\\"],[0.2222222222222222,\\\"#7201a8\\\"],[0.3333333333333333,\\\"#9c179e\\\"],[0.4444444444444444,\\\"#bd3786\\\"],[0.5555555555555556,\\\"#d8576b\\\"],[0.6666666666666666,\\\"#ed7953\\\"],[0.7777777777777778,\\\"#fb9f3a\\\"],[0.8888888888888888,\\\"#fdca26\\\"],[1.0,\\\"#f0f921\\\"]]}],\\\"contourcarpet\\\":[{\\\"colorbar\\\":{\\\"ticks\\\":\\\"\\\",\\\"outlinewidth\\\":0},\\\"type\\\":\\\"contourcarpet\\\"}],\\\"table\\\":[{\\\"type\\\":\\\"table\\\",\\\"header\\\":{\\\"line\\\":{\\\"color\\\":\\\"white\\\"},\\\"fill\\\":{\\\"color\\\":\\\"#C8D4E3\\\"}},\\\"cells\\\":{\\\"line\\\":{\\\"color\\\":\\\"white\\\"},\\\"fill\\\":{\\\"color\\\":\\\"#EBF0F8\\\"}}}],\\\"scatter3d\\\":[{\\\"line\\\":{\\\"colorbar\\\":{\\\"ticks\\\":\\\"\\\",\\\"outlinewidth\\\":0}},\\\"type\\\":\\\"scatter3d\\\",\\\"marker\\\":{\\\"colorbar\\\":{\\\"ticks\\\":\\\"\\\",\\\"outlinewidth\\\":0}}}],\\\"scattergl\\\":[{\\\"type\\\":\\\"scattergl\\\",\\\"marker\\\":{\\\"colorbar\\\":{\\\"ticks\\\":\\\"\\\",\\\"outlinewidth\\\":0}}}],\\\"histogram2d\\\":[{\\\"colorbar\\\":{\\\"ticks\\\":\\\"\\\",\\\"outlinewidth\\\":0},\\\"type\\\":\\\"histogram2d\\\",\\\"colorscale\\\":[[0.0,\\\"#0d0887\\\"],[0.1111111111111111,\\\"#46039f\\\"],[0.2222222222222222,\\\"#7201a8\\\"],[0.3333333333333333,\\\"#9c179e\\\"],[0.4444444444444444,\\\"#bd3786\\\"],[0.5555555555555556,\\\"#d8576b\\\"],[0.6666666666666666,\\\"#ed7953\\\"],[0.7777777777777778,\\\"#fb9f3a\\\"],[0.8888888888888888,\\\"#fdca26\\\"],[1.0,\\\"#f0f921\\\"]]}],\\\"scatterternary\\\":[{\\\"type\\\":\\\"scatterternary\\\",\\\"marker\\\":{\\\"colorbar\\\":{\\\"ticks\\\":\\\"\\\",\\\"outlinewidth\\\":0}}}],\\\"scatterpolargl\\\":[{\\\"type\\\":\\\"scatterpolargl\\\",\\\"marker\\\":{\\\"colorbar\\\":{\\\"ticks\\\":\\\"\\\",\\\"outlinewidth\\\":0}}}]}},\\\"margin\\\":{\\\"l\\\":50,\\\"b\\\":50,\\\"r\\\":50,\\\"t\\\":60}},{\\\"showLink\\\":false,\\\"editable\\\":false,\\\"responsive\\\":true,\\\"staticPlot\\\":false,\\\"scrollZoom\\\":true}); gd.on(\\\"plotly_hover\\\",(function (data){var filtered_data=WebIO.PlotlyCommands.filterEventData(gd,data,\\\"hover\\\"); return !(filtered_data.isnil) ? (WebIO.setval({\\\"name\\\":\\\"hover\\\",\\\"scope\\\":\\\"1205082098755706590\\\",\\\"id\\\":\\\"10409337085810333578\\\",\\\"type\\\":\\\"observable\\\"},filtered_data.out)) : undefined})); gd.on(\\\"plotly_unhover\\\",(function (){return WebIO.setval({\\\"name\\\":\\\"hover\\\",\\\"scope\\\":\\\"1205082098755706590\\\",\\\"id\\\":\\\"10409337085810333578\\\",\\\"type\\\":\\\"observable\\\"},{})})); gd.on(\\\"plotly_selected\\\",(function (data){var filtered_data=WebIO.PlotlyCommands.filterEventData(gd,data,\\\"selected\\\"); return !(filtered_data.isnil) ? (WebIO.setval({\\\"name\\\":\\\"selected\\\",\\\"scope\\\":\\\"1205082098755706590\\\",\\\"id\\\":\\\"15664847826865941654\\\",\\\"type\\\":\\\"observable\\\"},filtered_data.out)) : undefined})); gd.on(\\\"plotly_deselect\\\",(function (){return WebIO.setval({\\\"name\\\":\\\"selected\\\",\\\"scope\\\":\\\"1205082098755706590\\\",\\\"id\\\":\\\"15664847826865941654\\\",\\\"type\\\":\\\"observable\\\"},{})})); gd.on(\\\"plotly_relayout\\\",(function (data){var filtered_data=WebIO.PlotlyCommands.filterEventData(gd,data,\\\"relayout\\\"); return !(filtered_data.isnil) ? (WebIO.setval({\\\"name\\\":\\\"relayout\\\",\\\"scope\\\":\\\"1205082098755706590\\\",\\\"id\\\":\\\"7931933827302373348\\\",\\\"type\\\":\\\"observable\\\"},filtered_data.out)) : undefined})); return gd.on(\\\"plotly_click\\\",(function (data){var filtered_data=WebIO.PlotlyCommands.filterEventData(gd,data,\\\"click\\\"); return !(filtered_data.isnil) ? (WebIO.setval({\\\"name\\\":\\\"click\\\",\\\"scope\\\":\\\"1205082098755706590\\\",\\\"id\\\":\\\"8374750511266377991\\\",\\\"type\\\":\\\"observable\\\"},filtered_data.out)) : undefined}))}));\\n    (WebIO.importBlock({\\\"data\\\":[{\\\"name\\\":\\\"Plotly\\\",\\\"type\\\":\\\"js\\\",\\\"url\\\":\\\"\\/assetserver\\/58896c7d350a17df3fba382767f4c006d30efb73-plotly.min.js\\\"},{\\\"name\\\":null,\\\"type\\\":\\\"js\\\",\\\"url\\\":\\\"\\/assetserver\\/e59749eb0875c5743424754ad42cec2a2a785410-plotly_webio.bundle.js\\\"}],\\\"type\\\":\\\"async_block\\\"})).then((imports) => handler.apply(this, imports));\\n}\\n\"],\"observables\":{\"_toImage\":{\"sync\":false,\"id\":\"10568138740682623089\",\"value\":{}},\"hover\":{\"sync\":false,\"id\":\"10409337085810333578\",\"value\":{}},\"selected\":{\"sync\":false,\"id\":\"15664847826865941654\",\"value\":{}},\"__gd_contents\":{\"sync\":false,\"id\":\"12827940801047131909\",\"value\":{}},\"click\":{\"sync\":false,\"id\":\"8374750511266377991\",\"value\":{}},\"image\":{\"sync\":true,\"id\":\"7114781271252075617\",\"value\":\"\"},\"__get_gd_contents\":{\"sync\":false,\"id\":\"14372550945672693061\",\"value\":\"\"},\"_downloadImage\":{\"sync\":false,\"id\":\"7292892993869485787\",\"value\":{}},\"relayout\":{\"sync\":false,\"id\":\"7931933827302373348\",\"value\":{}},\"_commands\":{\"sync\":false,\"id\":\"7698190091206157199\",\"value\":[]}}},\"children\":[{\"props\":{\"id\":\"plot-c36a3726-3ff3-4a66-b11c-cd68a8a2b6e7\"},\"nodeType\":\"DOM\",\"type\":\"node\",\"instanceArgs\":{\"namespace\":\"html\",\"tag\":\"div\"},\"children\":[]}]},\n",
       "        window,\n",
       "    );\n",
       "    })()\n",
       "    </script>\n",
       "</div>\n"
      ],
      "text/plain": [
       "data: [\n",
       "  \"scatter with fields mode, type, x, and y\",\n",
       "  \"scatter with fields mode, type, x, and y\",\n",
       "  \"scatter with fields mode, type, x, and y\",\n",
       "  \"scatter with fields mode, type, x, and y\",\n",
       "  \"scatter with fields mode, type, x, and y\",\n",
       "  \"scatter with fields mode, type, x, and y\",\n",
       "  \"scatter with fields mode, type, x, and y\",\n",
       "  \"scatter with fields mode, type, x, and y\",\n",
       "  \"scatter with fields mode, type, x, and y\"\n",
       "]\n",
       "\n",
       "layout: \"layout with fields margin and template\"\n",
       "\n"
      ]
     },
     "execution_count": 12,
     "metadata": {},
     "output_type": "execute_result"
    }
   ],
   "source": [
    "vectorPoints=rand(0:100.,100,2);\n",
    "\n",
    "println(vectorPoints);\n",
    "pointsHull=conicHull(vectorPoints)\n",
    "grapher(vectorPoints,pointsHull,2)"
   ]
  },
  {
   "cell_type": "markdown",
   "metadata": {},
   "source": [
    "## Ejemplos en $\\mathbb{R}^3$"
   ]
  },
  {
   "cell_type": "markdown",
   "metadata": {},
   "source": [
    "Ejemplo 3d compilado, podemos ver los puntos $x_i$, el centro y los rayos \"vertice\" del cono que rodean a todos los puntos.\n",
    "<img src=\"Ej3d.png\"\n",
    "     alt=\"Ej\"\n",
    "     style=\"float: left; margin-right: 10px; width:800px;text-align:center; margin-left: 5%\"/>"
   ]
  },
  {
   "cell_type": "code",
   "execution_count": 14,
   "metadata": {},
   "outputs": [
    {
     "name": "stdout",
     "output_type": "stream",
     "text": [
      "[60.0 15.0 42.0; 42.0 52.0 77.0; 90.0 27.0 24.0; 21.0 23.0 79.0; 85.0 4.0 96.0; 25.0 19.0 7.0]\n"
     ]
    },
    {
     "data": {
      "application/vnd.plotly.v1+json": {
       "config": {
        "editable": false,
        "responsive": true,
        "scrollZoom": true,
        "showLink": false,
        "staticPlot": false
       },
       "data": [
        {
         "mode": "markers",
         "type": "scatter3d",
         "x": [
          60,
          42,
          90,
          21,
          85,
          25,
          0
         ],
         "y": [
          15,
          52,
          27,
          23,
          4,
          19,
          0
         ],
         "z": [
          42,
          77,
          24,
          79,
          96,
          7,
          0
         ]
        },
        {
         "mode": "lines",
         "type": "scatter3d",
         "x": [
          35.03036777048679,
          0
         ],
         "y": [
          43.3709315253646,
          0
         ],
         "z": [
          64.22234091255912,
          0
         ]
        },
        {
         "mode": "lines",
         "type": "scatter3d",
         "x": [
          84.70627306273062,
          0
         ],
         "y": [
          25.411881918819184,
          0
         ],
         "z": [
          22.588339483394833,
          0
         ]
        },
        {
         "mode": "lines",
         "type": "scatter3d",
         "x": [
          22.51917147822187,
          0
         ],
         "y": [
          24.663854476147765,
          0
         ],
         "z": [
          84.71497841807276,
          0
         ]
        },
        {
         "mode": "lines",
         "type": "scatter3d",
         "x": [
          54.91877058177826,
          0
         ],
         "y": [
          2.5844127332601534,
          0
         ],
         "z": [
          62.02590559824368,
          0
         ]
        },
        {
         "mode": "lines",
         "type": "scatter3d",
         "x": [
          73.51844734819369,
          0
         ],
         "y": [
          55.87401998462721,
          0
         ],
         "z": [
          20.585165257494236,
          0
         ]
        }
       ],
       "frames": [],
       "layout": {
        "margin": {
         "b": 50,
         "l": 50,
         "r": 50,
         "t": 60
        },
        "template": {
         "data": {
          "bar": [
           {
            "error_x": {
             "color": "#2a3f5f"
            },
            "error_y": {
             "color": "#2a3f5f"
            },
            "marker": {
             "line": {
              "color": "#E5ECF6",
              "width": 0.5
             }
            },
            "type": "bar"
           }
          ],
          "barpolar": [
           {
            "marker": {
             "line": {
              "color": "#E5ECF6",
              "width": 0.5
             }
            },
            "type": "barpolar"
           }
          ],
          "carpet": [
           {
            "aaxis": {
             "endlinecolor": "#2a3f5f",
             "gridcolor": "white",
             "linecolor": "white",
             "minorgridcolor": "white",
             "startlinecolor": "#2a3f5f"
            },
            "baxis": {
             "endlinecolor": "#2a3f5f",
             "gridcolor": "white",
             "linecolor": "white",
             "minorgridcolor": "white",
             "startlinecolor": "#2a3f5f"
            },
            "type": "carpet"
           }
          ],
          "choropleth": [
           {
            "colorbar": {
             "outlinewidth": 0,
             "ticks": ""
            },
            "type": "choropleth"
           }
          ],
          "contour": [
           {
            "colorbar": {
             "outlinewidth": 0,
             "ticks": ""
            },
            "colorscale": [
             [
              0,
              "#0d0887"
             ],
             [
              0.1111111111111111,
              "#46039f"
             ],
             [
              0.2222222222222222,
              "#7201a8"
             ],
             [
              0.3333333333333333,
              "#9c179e"
             ],
             [
              0.4444444444444444,
              "#bd3786"
             ],
             [
              0.5555555555555556,
              "#d8576b"
             ],
             [
              0.6666666666666666,
              "#ed7953"
             ],
             [
              0.7777777777777778,
              "#fb9f3a"
             ],
             [
              0.8888888888888888,
              "#fdca26"
             ],
             [
              1,
              "#f0f921"
             ]
            ],
            "type": "contour"
           }
          ],
          "contourcarpet": [
           {
            "colorbar": {
             "outlinewidth": 0,
             "ticks": ""
            },
            "type": "contourcarpet"
           }
          ],
          "heatmap": [
           {
            "colorbar": {
             "outlinewidth": 0,
             "ticks": ""
            },
            "colorscale": [
             [
              0,
              "#0d0887"
             ],
             [
              0.1111111111111111,
              "#46039f"
             ],
             [
              0.2222222222222222,
              "#7201a8"
             ],
             [
              0.3333333333333333,
              "#9c179e"
             ],
             [
              0.4444444444444444,
              "#bd3786"
             ],
             [
              0.5555555555555556,
              "#d8576b"
             ],
             [
              0.6666666666666666,
              "#ed7953"
             ],
             [
              0.7777777777777778,
              "#fb9f3a"
             ],
             [
              0.8888888888888888,
              "#fdca26"
             ],
             [
              1,
              "#f0f921"
             ]
            ],
            "type": "heatmap"
           }
          ],
          "heatmapgl": [
           {
            "colorbar": {
             "outlinewidth": 0,
             "ticks": ""
            },
            "colorscale": [
             [
              0,
              "#0d0887"
             ],
             [
              0.1111111111111111,
              "#46039f"
             ],
             [
              0.2222222222222222,
              "#7201a8"
             ],
             [
              0.3333333333333333,
              "#9c179e"
             ],
             [
              0.4444444444444444,
              "#bd3786"
             ],
             [
              0.5555555555555556,
              "#d8576b"
             ],
             [
              0.6666666666666666,
              "#ed7953"
             ],
             [
              0.7777777777777778,
              "#fb9f3a"
             ],
             [
              0.8888888888888888,
              "#fdca26"
             ],
             [
              1,
              "#f0f921"
             ]
            ],
            "type": "heatmapgl"
           }
          ],
          "histogram": [
           {
            "marker": {
             "colorbar": {
              "outlinewidth": 0,
              "ticks": ""
             }
            },
            "type": "histogram"
           }
          ],
          "histogram2d": [
           {
            "colorbar": {
             "outlinewidth": 0,
             "ticks": ""
            },
            "colorscale": [
             [
              0,
              "#0d0887"
             ],
             [
              0.1111111111111111,
              "#46039f"
             ],
             [
              0.2222222222222222,
              "#7201a8"
             ],
             [
              0.3333333333333333,
              "#9c179e"
             ],
             [
              0.4444444444444444,
              "#bd3786"
             ],
             [
              0.5555555555555556,
              "#d8576b"
             ],
             [
              0.6666666666666666,
              "#ed7953"
             ],
             [
              0.7777777777777778,
              "#fb9f3a"
             ],
             [
              0.8888888888888888,
              "#fdca26"
             ],
             [
              1,
              "#f0f921"
             ]
            ],
            "type": "histogram2d"
           }
          ],
          "histogram2dcontour": [
           {
            "colorbar": {
             "outlinewidth": 0,
             "ticks": ""
            },
            "colorscale": [
             [
              0,
              "#0d0887"
             ],
             [
              0.1111111111111111,
              "#46039f"
             ],
             [
              0.2222222222222222,
              "#7201a8"
             ],
             [
              0.3333333333333333,
              "#9c179e"
             ],
             [
              0.4444444444444444,
              "#bd3786"
             ],
             [
              0.5555555555555556,
              "#d8576b"
             ],
             [
              0.6666666666666666,
              "#ed7953"
             ],
             [
              0.7777777777777778,
              "#fb9f3a"
             ],
             [
              0.8888888888888888,
              "#fdca26"
             ],
             [
              1,
              "#f0f921"
             ]
            ],
            "type": "histogram2dcontour"
           }
          ],
          "mesh3d": [
           {
            "colorbar": {
             "outlinewidth": 0,
             "ticks": ""
            },
            "type": "mesh3d"
           }
          ],
          "parcoords": [
           {
            "line": {
             "colorbar": {
              "outlinewidth": 0,
              "ticks": ""
             }
            },
            "type": "parcoords"
           }
          ],
          "pie": [
           {
            "automargin": true,
            "type": "pie"
           }
          ],
          "scatter": [
           {
            "marker": {
             "colorbar": {
              "outlinewidth": 0,
              "ticks": ""
             }
            },
            "type": "scatter"
           }
          ],
          "scatter3d": [
           {
            "line": {
             "colorbar": {
              "outlinewidth": 0,
              "ticks": ""
             }
            },
            "marker": {
             "colorbar": {
              "outlinewidth": 0,
              "ticks": ""
             }
            },
            "type": "scatter3d"
           }
          ],
          "scattercarpet": [
           {
            "marker": {
             "colorbar": {
              "outlinewidth": 0,
              "ticks": ""
             }
            },
            "type": "scattercarpet"
           }
          ],
          "scattergeo": [
           {
            "marker": {
             "colorbar": {
              "outlinewidth": 0,
              "ticks": ""
             }
            },
            "type": "scattergeo"
           }
          ],
          "scattergl": [
           {
            "marker": {
             "colorbar": {
              "outlinewidth": 0,
              "ticks": ""
             }
            },
            "type": "scattergl"
           }
          ],
          "scattermapbox": [
           {
            "marker": {
             "colorbar": {
              "outlinewidth": 0,
              "ticks": ""
             }
            },
            "type": "scattermapbox"
           }
          ],
          "scatterpolar": [
           {
            "marker": {
             "colorbar": {
              "outlinewidth": 0,
              "ticks": ""
             }
            },
            "type": "scatterpolar"
           }
          ],
          "scatterpolargl": [
           {
            "marker": {
             "colorbar": {
              "outlinewidth": 0,
              "ticks": ""
             }
            },
            "type": "scatterpolargl"
           }
          ],
          "scatterternary": [
           {
            "marker": {
             "colorbar": {
              "outlinewidth": 0,
              "ticks": ""
             }
            },
            "type": "scatterternary"
           }
          ],
          "surface": [
           {
            "colorbar": {
             "outlinewidth": 0,
             "ticks": ""
            },
            "colorscale": [
             [
              0,
              "#0d0887"
             ],
             [
              0.1111111111111111,
              "#46039f"
             ],
             [
              0.2222222222222222,
              "#7201a8"
             ],
             [
              0.3333333333333333,
              "#9c179e"
             ],
             [
              0.4444444444444444,
              "#bd3786"
             ],
             [
              0.5555555555555556,
              "#d8576b"
             ],
             [
              0.6666666666666666,
              "#ed7953"
             ],
             [
              0.7777777777777778,
              "#fb9f3a"
             ],
             [
              0.8888888888888888,
              "#fdca26"
             ],
             [
              1,
              "#f0f921"
             ]
            ],
            "type": "surface"
           }
          ],
          "table": [
           {
            "cells": {
             "fill": {
              "color": "#EBF0F8"
             },
             "line": {
              "color": "white"
             }
            },
            "header": {
             "fill": {
              "color": "#C8D4E3"
             },
             "line": {
              "color": "white"
             }
            },
            "type": "table"
           }
          ]
         },
         "layout": {
          "annotationdefaults": {
           "arrowcolor": "#2a3f5f",
           "arrowhead": 0,
           "arrowwidth": 1
          },
          "autotypenumbers": "strict",
          "coloraxis": {
           "colorbar": {
            "outlinewidth": 0,
            "ticks": ""
           }
          },
          "colorscale": {
           "diverging": [
            [
             0,
             "#8e0152"
            ],
            [
             0.1,
             "#c51b7d"
            ],
            [
             0.2,
             "#de77ae"
            ],
            [
             0.3,
             "#f1b6da"
            ],
            [
             0.4,
             "#fde0ef"
            ],
            [
             0.5,
             "#f7f7f7"
            ],
            [
             0.6,
             "#e6f5d0"
            ],
            [
             0.7,
             "#b8e186"
            ],
            [
             0.8,
             "#7fbc41"
            ],
            [
             0.9,
             "#4d9221"
            ],
            [
             1,
             "#276419"
            ]
           ],
           "sequential": [
            [
             0,
             "#0d0887"
            ],
            [
             0.1111111111111111,
             "#46039f"
            ],
            [
             0.2222222222222222,
             "#7201a8"
            ],
            [
             0.3333333333333333,
             "#9c179e"
            ],
            [
             0.4444444444444444,
             "#bd3786"
            ],
            [
             0.5555555555555556,
             "#d8576b"
            ],
            [
             0.6666666666666666,
             "#ed7953"
            ],
            [
             0.7777777777777778,
             "#fb9f3a"
            ],
            [
             0.8888888888888888,
             "#fdca26"
            ],
            [
             1,
             "#f0f921"
            ]
           ],
           "sequentialminus": [
            [
             0,
             "#0d0887"
            ],
            [
             0.1111111111111111,
             "#46039f"
            ],
            [
             0.2222222222222222,
             "#7201a8"
            ],
            [
             0.3333333333333333,
             "#9c179e"
            ],
            [
             0.4444444444444444,
             "#bd3786"
            ],
            [
             0.5555555555555556,
             "#d8576b"
            ],
            [
             0.6666666666666666,
             "#ed7953"
            ],
            [
             0.7777777777777778,
             "#fb9f3a"
            ],
            [
             0.8888888888888888,
             "#fdca26"
            ],
            [
             1,
             "#f0f921"
            ]
           ]
          },
          "colorway": [
           "#636efa",
           "#EF553B",
           "#00cc96",
           "#ab63fa",
           "#FFA15A",
           "#19d3f3",
           "#FF6692",
           "#B6E880",
           "#FF97FF",
           "#FECB52"
          ],
          "font": {
           "color": "#2a3f5f"
          },
          "geo": {
           "bgcolor": "white",
           "lakecolor": "white",
           "landcolor": "#E5ECF6",
           "showlakes": true,
           "showland": true,
           "subunitcolor": "white"
          },
          "hoverlabel": {
           "align": "left"
          },
          "hovermode": "closest",
          "mapbox": {
           "style": "light"
          },
          "paper_bgcolor": "white",
          "plot_bgcolor": "#E5ECF6",
          "polar": {
           "angularaxis": {
            "gridcolor": "white",
            "linecolor": "white",
            "ticks": ""
           },
           "bgcolor": "#E5ECF6",
           "radialaxis": {
            "gridcolor": "white",
            "linecolor": "white",
            "ticks": ""
           }
          },
          "scene": {
           "xaxis": {
            "backgroundcolor": "#E5ECF6",
            "gridcolor": "white",
            "gridwidth": 2,
            "linecolor": "white",
            "showbackground": true,
            "ticks": "",
            "zerolinecolor": "white"
           },
           "yaxis": {
            "backgroundcolor": "#E5ECF6",
            "gridcolor": "white",
            "gridwidth": 2,
            "linecolor": "white",
            "showbackground": true,
            "ticks": "",
            "zerolinecolor": "white"
           },
           "zaxis": {
            "backgroundcolor": "#E5ECF6",
            "gridcolor": "white",
            "gridwidth": 2,
            "linecolor": "white",
            "showbackground": true,
            "ticks": "",
            "zerolinecolor": "white"
           }
          },
          "shapedefaults": {
           "line": {
            "color": "#2a3f5f"
           }
          },
          "ternary": {
           "aaxis": {
            "gridcolor": "white",
            "linecolor": "white",
            "ticks": ""
           },
           "baxis": {
            "gridcolor": "white",
            "linecolor": "white",
            "ticks": ""
           },
           "bgcolor": "#E5ECF6",
           "caxis": {
            "gridcolor": "white",
            "linecolor": "white",
            "ticks": ""
           }
          },
          "title": {
           "x": 0.05
          },
          "xaxis": {
           "automargin": true,
           "gridcolor": "white",
           "linecolor": "white",
           "ticks": "",
           "title": {
            "standoff": 15
           },
           "zerolinecolor": "white",
           "zerolinewidth": 2
          },
          "yaxis": {
           "automargin": true,
           "gridcolor": "white",
           "linecolor": "white",
           "ticks": "",
           "title": {
            "standoff": 15
           },
           "zerolinecolor": "white",
           "zerolinewidth": 2
          }
         }
        }
       }
      },
      "text/html": [
       "<div\n",
       "    class=\"webio-mountpoint\"\n",
       "    data-webio-mountpoint=\"87006607334524035\"\n",
       ">\n",
       "    <script>\n",
       "    (function(){\n",
       "    // Some integrations (namely, IJulia/Jupyter) use an alternate render pathway than\n",
       "    // just putting the html on the page. If WebIO isn't defined, then it's pretty likely\n",
       "    // that we're in one of those situations and the integration just isn't installed\n",
       "    // correctly.\n",
       "    if (typeof window.WebIO === \"undefined\") {\n",
       "        document\n",
       "            .querySelector('[data-webio-mountpoint=\"87006607334524035\"]')\n",
       "            .innerHTML = (\n",
       "                '<div style=\"padding: 1em; background-color: #f8d6da; border: 1px solid #f5c6cb; font-weight: bold;\">' +\n",
       "                '<p><strong>WebIO not detected.</strong></p>' +\n",
       "                '<p>Please read ' +\n",
       "                '<a href=\"https://juliagizmos.github.io/WebIO.jl/latest/troubleshooting/not-detected/\" target=\"_blank\">the troubleshooting guide</a> ' +\n",
       "                'for more information on how to resolve this issue.</p>' +\n",
       "                '<p><a href=\"https://juliagizmos.github.io/WebIO.jl/latest/troubleshooting/not-detected/\" target=\"_blank\">https://juliagizmos.github.io/WebIO.jl/latest/troubleshooting/not-detected/</a></p>' +\n",
       "                '</div>'\n",
       "            );\n",
       "        return;\n",
       "    }\n",
       "    WebIO.mount(\n",
       "        document.querySelector('[data-webio-mountpoint=\"87006607334524035\"]'),\n",
       "        {\"props\":{},\"nodeType\":\"Scope\",\"type\":\"node\",\"instanceArgs\":{\"imports\":{\"data\":[{\"name\":\"Plotly\",\"type\":\"js\",\"url\":\"\\/assetserver\\/58896c7d350a17df3fba382767f4c006d30efb73-plotly.min.js\"},{\"name\":null,\"type\":\"js\",\"url\":\"\\/assetserver\\/e59749eb0875c5743424754ad42cec2a2a785410-plotly_webio.bundle.js\"}],\"type\":\"async_block\"},\"id\":\"11645004707274690147\",\"handlers\":{\"_toImage\":[\"(function (options){return this.Plotly.toImage(this.plotElem,options).then((function (data){return WebIO.setval({\\\"name\\\":\\\"image\\\",\\\"scope\\\":\\\"11645004707274690147\\\",\\\"id\\\":\\\"5969283885408917048\\\",\\\"type\\\":\\\"observable\\\"},data)}))})\"],\"__get_gd_contents\":[\"(function (prop){prop==\\\"data\\\" ? (WebIO.setval({\\\"name\\\":\\\"__gd_contents\\\",\\\"scope\\\":\\\"11645004707274690147\\\",\\\"id\\\":\\\"13008457108241475467\\\",\\\"type\\\":\\\"observable\\\"},this.plotElem.data)) : undefined; return prop==\\\"layout\\\" ? (WebIO.setval({\\\"name\\\":\\\"__gd_contents\\\",\\\"scope\\\":\\\"11645004707274690147\\\",\\\"id\\\":\\\"13008457108241475467\\\",\\\"type\\\":\\\"observable\\\"},this.plotElem.layout)) : undefined})\"],\"_downloadImage\":[\"(function (options){return this.Plotly.downloadImage(this.plotElem,options)})\"],\"_commands\":[\"(function (args){var fn=args.shift(); var elem=this.plotElem; var Plotly=this.Plotly; args.unshift(elem); return Plotly[fn].apply(this,args)})\"]},\"systemjs_options\":null,\"mount_callbacks\":[\"function () {\\n    var handler = ((function (Plotly,PlotlyWebIO){PlotlyWebIO.init(WebIO); var gd=this.dom.querySelector(\\\"#plot-1b28406f-ef25-4d95-9867-7cc19823755c\\\"); this.plotElem=gd; this.Plotly=Plotly; (window.Blink!==undefined) ? (gd.style.width=\\\"100%\\\", gd.style.height=\\\"100vh\\\", gd.style.marginLeft=\\\"0%\\\", gd.style.marginTop=\\\"0vh\\\") : undefined; window.onresize=(function (){return Plotly.Plots.resize(gd)}); Plotly.newPlot(gd,[{\\\"mode\\\":\\\"markers\\\",\\\"y\\\":[15.0,52.0,27.0,23.0,4.0,19.0,0.0],\\\"type\\\":\\\"scatter3d\\\",\\\"z\\\":[42.0,77.0,24.0,79.0,96.0,7.0,0.0],\\\"x\\\":[60.0,42.0,90.0,21.0,85.0,25.0,0.0]},{\\\"mode\\\":\\\"lines\\\",\\\"y\\\":[43.3709315253646,0.0],\\\"type\\\":\\\"scatter3d\\\",\\\"z\\\":[64.22234091255912,0.0],\\\"x\\\":[35.03036777048679,0.0]},{\\\"mode\\\":\\\"lines\\\",\\\"y\\\":[25.411881918819184,0.0],\\\"type\\\":\\\"scatter3d\\\",\\\"z\\\":[22.588339483394833,0.0],\\\"x\\\":[84.70627306273062,0.0]},{\\\"mode\\\":\\\"lines\\\",\\\"y\\\":[24.663854476147765,0.0],\\\"type\\\":\\\"scatter3d\\\",\\\"z\\\":[84.71497841807276,0.0],\\\"x\\\":[22.51917147822187,0.0]},{\\\"mode\\\":\\\"lines\\\",\\\"y\\\":[2.5844127332601534,0.0],\\\"type\\\":\\\"scatter3d\\\",\\\"z\\\":[62.02590559824368,0.0],\\\"x\\\":[54.91877058177826,0.0]},{\\\"mode\\\":\\\"lines\\\",\\\"y\\\":[55.87401998462721,0.0],\\\"type\\\":\\\"scatter3d\\\",\\\"z\\\":[20.585165257494236,0.0],\\\"x\\\":[73.51844734819369,0.0]}],{\\\"template\\\":{\\\"layout\\\":{\\\"coloraxis\\\":{\\\"colorbar\\\":{\\\"ticks\\\":\\\"\\\",\\\"outlinewidth\\\":0}},\\\"xaxis\\\":{\\\"gridcolor\\\":\\\"white\\\",\\\"zerolinewidth\\\":2,\\\"title\\\":{\\\"standoff\\\":15},\\\"ticks\\\":\\\"\\\",\\\"zerolinecolor\\\":\\\"white\\\",\\\"automargin\\\":true,\\\"linecolor\\\":\\\"white\\\"},\\\"hovermode\\\":\\\"closest\\\",\\\"paper_bgcolor\\\":\\\"white\\\",\\\"geo\\\":{\\\"showlakes\\\":true,\\\"showland\\\":true,\\\"landcolor\\\":\\\"#E5ECF6\\\",\\\"bgcolor\\\":\\\"white\\\",\\\"subunitcolor\\\":\\\"white\\\",\\\"lakecolor\\\":\\\"white\\\"},\\\"colorscale\\\":{\\\"sequential\\\":[[0.0,\\\"#0d0887\\\"],[0.1111111111111111,\\\"#46039f\\\"],[0.2222222222222222,\\\"#7201a8\\\"],[0.3333333333333333,\\\"#9c179e\\\"],[0.4444444444444444,\\\"#bd3786\\\"],[0.5555555555555556,\\\"#d8576b\\\"],[0.6666666666666666,\\\"#ed7953\\\"],[0.7777777777777778,\\\"#fb9f3a\\\"],[0.8888888888888888,\\\"#fdca26\\\"],[1.0,\\\"#f0f921\\\"]],\\\"diverging\\\":[[0,\\\"#8e0152\\\"],[0.1,\\\"#c51b7d\\\"],[0.2,\\\"#de77ae\\\"],[0.3,\\\"#f1b6da\\\"],[0.4,\\\"#fde0ef\\\"],[0.5,\\\"#f7f7f7\\\"],[0.6,\\\"#e6f5d0\\\"],[0.7,\\\"#b8e186\\\"],[0.8,\\\"#7fbc41\\\"],[0.9,\\\"#4d9221\\\"],[1,\\\"#276419\\\"]],\\\"sequentialminus\\\":[[0.0,\\\"#0d0887\\\"],[0.1111111111111111,\\\"#46039f\\\"],[0.2222222222222222,\\\"#7201a8\\\"],[0.3333333333333333,\\\"#9c179e\\\"],[0.4444444444444444,\\\"#bd3786\\\"],[0.5555555555555556,\\\"#d8576b\\\"],[0.6666666666666666,\\\"#ed7953\\\"],[0.7777777777777778,\\\"#fb9f3a\\\"],[0.8888888888888888,\\\"#fdca26\\\"],[1.0,\\\"#f0f921\\\"]]},\\\"yaxis\\\":{\\\"gridcolor\\\":\\\"white\\\",\\\"zerolinewidth\\\":2,\\\"title\\\":{\\\"standoff\\\":15},\\\"ticks\\\":\\\"\\\",\\\"zerolinecolor\\\":\\\"white\\\",\\\"automargin\\\":true,\\\"linecolor\\\":\\\"white\\\"},\\\"shapedefaults\\\":{\\\"line\\\":{\\\"color\\\":\\\"#2a3f5f\\\"}},\\\"hoverlabel\\\":{\\\"align\\\":\\\"left\\\"},\\\"mapbox\\\":{\\\"style\\\":\\\"light\\\"},\\\"polar\\\":{\\\"angularaxis\\\":{\\\"gridcolor\\\":\\\"white\\\",\\\"ticks\\\":\\\"\\\",\\\"linecolor\\\":\\\"white\\\"},\\\"bgcolor\\\":\\\"#E5ECF6\\\",\\\"radialaxis\\\":{\\\"gridcolor\\\":\\\"white\\\",\\\"ticks\\\":\\\"\\\",\\\"linecolor\\\":\\\"white\\\"}},\\\"autotypenumbers\\\":\\\"strict\\\",\\\"font\\\":{\\\"color\\\":\\\"#2a3f5f\\\"},\\\"ternary\\\":{\\\"baxis\\\":{\\\"gridcolor\\\":\\\"white\\\",\\\"ticks\\\":\\\"\\\",\\\"linecolor\\\":\\\"white\\\"},\\\"bgcolor\\\":\\\"#E5ECF6\\\",\\\"caxis\\\":{\\\"gridcolor\\\":\\\"white\\\",\\\"ticks\\\":\\\"\\\",\\\"linecolor\\\":\\\"white\\\"},\\\"aaxis\\\":{\\\"gridcolor\\\":\\\"white\\\",\\\"ticks\\\":\\\"\\\",\\\"linecolor\\\":\\\"white\\\"}},\\\"annotationdefaults\\\":{\\\"arrowhead\\\":0,\\\"arrowwidth\\\":1,\\\"arrowcolor\\\":\\\"#2a3f5f\\\"},\\\"plot_bgcolor\\\":\\\"#E5ECF6\\\",\\\"title\\\":{\\\"x\\\":0.05},\\\"scene\\\":{\\\"xaxis\\\":{\\\"gridcolor\\\":\\\"white\\\",\\\"gridwidth\\\":2,\\\"backgroundcolor\\\":\\\"#E5ECF6\\\",\\\"ticks\\\":\\\"\\\",\\\"showbackground\\\":true,\\\"zerolinecolor\\\":\\\"white\\\",\\\"linecolor\\\":\\\"white\\\"},\\\"zaxis\\\":{\\\"gridcolor\\\":\\\"white\\\",\\\"gridwidth\\\":2,\\\"backgroundcolor\\\":\\\"#E5ECF6\\\",\\\"ticks\\\":\\\"\\\",\\\"showbackground\\\":true,\\\"zerolinecolor\\\":\\\"white\\\",\\\"linecolor\\\":\\\"white\\\"},\\\"yaxis\\\":{\\\"gridcolor\\\":\\\"white\\\",\\\"gridwidth\\\":2,\\\"backgroundcolor\\\":\\\"#E5ECF6\\\",\\\"ticks\\\":\\\"\\\",\\\"showbackground\\\":true,\\\"zerolinecolor\\\":\\\"white\\\",\\\"linecolor\\\":\\\"white\\\"}},\\\"colorway\\\":[\\\"#636efa\\\",\\\"#EF553B\\\",\\\"#00cc96\\\",\\\"#ab63fa\\\",\\\"#FFA15A\\\",\\\"#19d3f3\\\",\\\"#FF6692\\\",\\\"#B6E880\\\",\\\"#FF97FF\\\",\\\"#FECB52\\\"]},\\\"data\\\":{\\\"barpolar\\\":[{\\\"type\\\":\\\"barpolar\\\",\\\"marker\\\":{\\\"line\\\":{\\\"color\\\":\\\"#E5ECF6\\\",\\\"width\\\":0.5}}}],\\\"carpet\\\":[{\\\"aaxis\\\":{\\\"gridcolor\\\":\\\"white\\\",\\\"endlinecolor\\\":\\\"#2a3f5f\\\",\\\"minorgridcolor\\\":\\\"white\\\",\\\"startlinecolor\\\":\\\"#2a3f5f\\\",\\\"linecolor\\\":\\\"white\\\"},\\\"type\\\":\\\"carpet\\\",\\\"baxis\\\":{\\\"gridcolor\\\":\\\"white\\\",\\\"endlinecolor\\\":\\\"#2a3f5f\\\",\\\"minorgridcolor\\\":\\\"white\\\",\\\"startlinecolor\\\":\\\"#2a3f5f\\\",\\\"linecolor\\\":\\\"white\\\"}}],\\\"scatterpolar\\\":[{\\\"type\\\":\\\"scatterpolar\\\",\\\"marker\\\":{\\\"colorbar\\\":{\\\"ticks\\\":\\\"\\\",\\\"outlinewidth\\\":0}}}],\\\"parcoords\\\":[{\\\"line\\\":{\\\"colorbar\\\":{\\\"ticks\\\":\\\"\\\",\\\"outlinewidth\\\":0}},\\\"type\\\":\\\"parcoords\\\"}],\\\"scatter\\\":[{\\\"type\\\":\\\"scatter\\\",\\\"marker\\\":{\\\"colorbar\\\":{\\\"ticks\\\":\\\"\\\",\\\"outlinewidth\\\":0}}}],\\\"histogram2dcontour\\\":[{\\\"colorbar\\\":{\\\"ticks\\\":\\\"\\\",\\\"outlinewidth\\\":0},\\\"type\\\":\\\"histogram2dcontour\\\",\\\"colorscale\\\":[[0.0,\\\"#0d0887\\\"],[0.1111111111111111,\\\"#46039f\\\"],[0.2222222222222222,\\\"#7201a8\\\"],[0.3333333333333333,\\\"#9c179e\\\"],[0.4444444444444444,\\\"#bd3786\\\"],[0.5555555555555556,\\\"#d8576b\\\"],[0.6666666666666666,\\\"#ed7953\\\"],[0.7777777777777778,\\\"#fb9f3a\\\"],[0.8888888888888888,\\\"#fdca26\\\"],[1.0,\\\"#f0f921\\\"]]}],\\\"contour\\\":[{\\\"colorbar\\\":{\\\"ticks\\\":\\\"\\\",\\\"outlinewidth\\\":0},\\\"type\\\":\\\"contour\\\",\\\"colorscale\\\":[[0.0,\\\"#0d0887\\\"],[0.1111111111111111,\\\"#46039f\\\"],[0.2222222222222222,\\\"#7201a8\\\"],[0.3333333333333333,\\\"#9c179e\\\"],[0.4444444444444444,\\\"#bd3786\\\"],[0.5555555555555556,\\\"#d8576b\\\"],[0.6666666666666666,\\\"#ed7953\\\"],[0.7777777777777778,\\\"#fb9f3a\\\"],[0.8888888888888888,\\\"#fdca26\\\"],[1.0,\\\"#f0f921\\\"]]}],\\\"scattercarpet\\\":[{\\\"type\\\":\\\"scattercarpet\\\",\\\"marker\\\":{\\\"colorbar\\\":{\\\"ticks\\\":\\\"\\\",\\\"outlinewidth\\\":0}}}],\\\"mesh3d\\\":[{\\\"colorbar\\\":{\\\"ticks\\\":\\\"\\\",\\\"outlinewidth\\\":0},\\\"type\\\":\\\"mesh3d\\\"}],\\\"surface\\\":[{\\\"colorbar\\\":{\\\"ticks\\\":\\\"\\\",\\\"outlinewidth\\\":0},\\\"type\\\":\\\"surface\\\",\\\"colorscale\\\":[[0.0,\\\"#0d0887\\\"],[0.1111111111111111,\\\"#46039f\\\"],[0.2222222222222222,\\\"#7201a8\\\"],[0.3333333333333333,\\\"#9c179e\\\"],[0.4444444444444444,\\\"#bd3786\\\"],[0.5555555555555556,\\\"#d8576b\\\"],[0.6666666666666666,\\\"#ed7953\\\"],[0.7777777777777778,\\\"#fb9f3a\\\"],[0.8888888888888888,\\\"#fdca26\\\"],[1.0,\\\"#f0f921\\\"]]}],\\\"scattermapbox\\\":[{\\\"type\\\":\\\"scattermapbox\\\",\\\"marker\\\":{\\\"colorbar\\\":{\\\"ticks\\\":\\\"\\\",\\\"outlinewidth\\\":0}}}],\\\"scattergeo\\\":[{\\\"type\\\":\\\"scattergeo\\\",\\\"marker\\\":{\\\"colorbar\\\":{\\\"ticks\\\":\\\"\\\",\\\"outlinewidth\\\":0}}}],\\\"histogram\\\":[{\\\"type\\\":\\\"histogram\\\",\\\"marker\\\":{\\\"colorbar\\\":{\\\"ticks\\\":\\\"\\\",\\\"outlinewidth\\\":0}}}],\\\"pie\\\":[{\\\"type\\\":\\\"pie\\\",\\\"automargin\\\":true}],\\\"choropleth\\\":[{\\\"colorbar\\\":{\\\"ticks\\\":\\\"\\\",\\\"outlinewidth\\\":0},\\\"type\\\":\\\"choropleth\\\"}],\\\"heatmapgl\\\":[{\\\"colorbar\\\":{\\\"ticks\\\":\\\"\\\",\\\"outlinewidth\\\":0},\\\"type\\\":\\\"heatmapgl\\\",\\\"colorscale\\\":[[0.0,\\\"#0d0887\\\"],[0.1111111111111111,\\\"#46039f\\\"],[0.2222222222222222,\\\"#7201a8\\\"],[0.3333333333333333,\\\"#9c179e\\\"],[0.4444444444444444,\\\"#bd3786\\\"],[0.5555555555555556,\\\"#d8576b\\\"],[0.6666666666666666,\\\"#ed7953\\\"],[0.7777777777777778,\\\"#fb9f3a\\\"],[0.8888888888888888,\\\"#fdca26\\\"],[1.0,\\\"#f0f921\\\"]]}],\\\"bar\\\":[{\\\"type\\\":\\\"bar\\\",\\\"error_y\\\":{\\\"color\\\":\\\"#2a3f5f\\\"},\\\"error_x\\\":{\\\"color\\\":\\\"#2a3f5f\\\"},\\\"marker\\\":{\\\"line\\\":{\\\"color\\\":\\\"#E5ECF6\\\",\\\"width\\\":0.5}}}],\\\"heatmap\\\":[{\\\"colorbar\\\":{\\\"ticks\\\":\\\"\\\",\\\"outlinewidth\\\":0},\\\"type\\\":\\\"heatmap\\\",\\\"colorscale\\\":[[0.0,\\\"#0d0887\\\"],[0.1111111111111111,\\\"#46039f\\\"],[0.2222222222222222,\\\"#7201a8\\\"],[0.3333333333333333,\\\"#9c179e\\\"],[0.4444444444444444,\\\"#bd3786\\\"],[0.5555555555555556,\\\"#d8576b\\\"],[0.6666666666666666,\\\"#ed7953\\\"],[0.7777777777777778,\\\"#fb9f3a\\\"],[0.8888888888888888,\\\"#fdca26\\\"],[1.0,\\\"#f0f921\\\"]]}],\\\"contourcarpet\\\":[{\\\"colorbar\\\":{\\\"ticks\\\":\\\"\\\",\\\"outlinewidth\\\":0},\\\"type\\\":\\\"contourcarpet\\\"}],\\\"table\\\":[{\\\"type\\\":\\\"table\\\",\\\"header\\\":{\\\"line\\\":{\\\"color\\\":\\\"white\\\"},\\\"fill\\\":{\\\"color\\\":\\\"#C8D4E3\\\"}},\\\"cells\\\":{\\\"line\\\":{\\\"color\\\":\\\"white\\\"},\\\"fill\\\":{\\\"color\\\":\\\"#EBF0F8\\\"}}}],\\\"scatter3d\\\":[{\\\"line\\\":{\\\"colorbar\\\":{\\\"ticks\\\":\\\"\\\",\\\"outlinewidth\\\":0}},\\\"type\\\":\\\"scatter3d\\\",\\\"marker\\\":{\\\"colorbar\\\":{\\\"ticks\\\":\\\"\\\",\\\"outlinewidth\\\":0}}}],\\\"scattergl\\\":[{\\\"type\\\":\\\"scattergl\\\",\\\"marker\\\":{\\\"colorbar\\\":{\\\"ticks\\\":\\\"\\\",\\\"outlinewidth\\\":0}}}],\\\"histogram2d\\\":[{\\\"colorbar\\\":{\\\"ticks\\\":\\\"\\\",\\\"outlinewidth\\\":0},\\\"type\\\":\\\"histogram2d\\\",\\\"colorscale\\\":[[0.0,\\\"#0d0887\\\"],[0.1111111111111111,\\\"#46039f\\\"],[0.2222222222222222,\\\"#7201a8\\\"],[0.3333333333333333,\\\"#9c179e\\\"],[0.4444444444444444,\\\"#bd3786\\\"],[0.5555555555555556,\\\"#d8576b\\\"],[0.6666666666666666,\\\"#ed7953\\\"],[0.7777777777777778,\\\"#fb9f3a\\\"],[0.8888888888888888,\\\"#fdca26\\\"],[1.0,\\\"#f0f921\\\"]]}],\\\"scatterternary\\\":[{\\\"type\\\":\\\"scatterternary\\\",\\\"marker\\\":{\\\"colorbar\\\":{\\\"ticks\\\":\\\"\\\",\\\"outlinewidth\\\":0}}}],\\\"scatterpolargl\\\":[{\\\"type\\\":\\\"scatterpolargl\\\",\\\"marker\\\":{\\\"colorbar\\\":{\\\"ticks\\\":\\\"\\\",\\\"outlinewidth\\\":0}}}]}},\\\"margin\\\":{\\\"l\\\":50,\\\"b\\\":50,\\\"r\\\":50,\\\"t\\\":60}},{\\\"showLink\\\":false,\\\"editable\\\":false,\\\"responsive\\\":true,\\\"staticPlot\\\":false,\\\"scrollZoom\\\":true}); gd.on(\\\"plotly_hover\\\",(function (data){var filtered_data=WebIO.PlotlyCommands.filterEventData(gd,data,\\\"hover\\\"); return !(filtered_data.isnil) ? (WebIO.setval({\\\"name\\\":\\\"hover\\\",\\\"scope\\\":\\\"11645004707274690147\\\",\\\"id\\\":\\\"8973036558812840688\\\",\\\"type\\\":\\\"observable\\\"},filtered_data.out)) : undefined})); gd.on(\\\"plotly_unhover\\\",(function (){return WebIO.setval({\\\"name\\\":\\\"hover\\\",\\\"scope\\\":\\\"11645004707274690147\\\",\\\"id\\\":\\\"8973036558812840688\\\",\\\"type\\\":\\\"observable\\\"},{})})); gd.on(\\\"plotly_selected\\\",(function (data){var filtered_data=WebIO.PlotlyCommands.filterEventData(gd,data,\\\"selected\\\"); return !(filtered_data.isnil) ? (WebIO.setval({\\\"name\\\":\\\"selected\\\",\\\"scope\\\":\\\"11645004707274690147\\\",\\\"id\\\":\\\"11630080853238973250\\\",\\\"type\\\":\\\"observable\\\"},filtered_data.out)) : undefined})); gd.on(\\\"plotly_deselect\\\",(function (){return WebIO.setval({\\\"name\\\":\\\"selected\\\",\\\"scope\\\":\\\"11645004707274690147\\\",\\\"id\\\":\\\"11630080853238973250\\\",\\\"type\\\":\\\"observable\\\"},{})})); gd.on(\\\"plotly_relayout\\\",(function (data){var filtered_data=WebIO.PlotlyCommands.filterEventData(gd,data,\\\"relayout\\\"); return !(filtered_data.isnil) ? (WebIO.setval({\\\"name\\\":\\\"relayout\\\",\\\"scope\\\":\\\"11645004707274690147\\\",\\\"id\\\":\\\"16473512333424991499\\\",\\\"type\\\":\\\"observable\\\"},filtered_data.out)) : undefined})); return gd.on(\\\"plotly_click\\\",(function (data){var filtered_data=WebIO.PlotlyCommands.filterEventData(gd,data,\\\"click\\\"); return !(filtered_data.isnil) ? (WebIO.setval({\\\"name\\\":\\\"click\\\",\\\"scope\\\":\\\"11645004707274690147\\\",\\\"id\\\":\\\"10131019560510688311\\\",\\\"type\\\":\\\"observable\\\"},filtered_data.out)) : undefined}))}));\\n    (WebIO.importBlock({\\\"data\\\":[{\\\"name\\\":\\\"Plotly\\\",\\\"type\\\":\\\"js\\\",\\\"url\\\":\\\"\\/assetserver\\/58896c7d350a17df3fba382767f4c006d30efb73-plotly.min.js\\\"},{\\\"name\\\":null,\\\"type\\\":\\\"js\\\",\\\"url\\\":\\\"\\/assetserver\\/e59749eb0875c5743424754ad42cec2a2a785410-plotly_webio.bundle.js\\\"}],\\\"type\\\":\\\"async_block\\\"})).then((imports) => handler.apply(this, imports));\\n}\\n\"],\"observables\":{\"_toImage\":{\"sync\":false,\"id\":\"5872173802922771182\",\"value\":{}},\"hover\":{\"sync\":false,\"id\":\"8973036558812840688\",\"value\":{}},\"selected\":{\"sync\":false,\"id\":\"11630080853238973250\",\"value\":{}},\"__gd_contents\":{\"sync\":false,\"id\":\"13008457108241475467\",\"value\":{}},\"click\":{\"sync\":false,\"id\":\"10131019560510688311\",\"value\":{}},\"image\":{\"sync\":true,\"id\":\"5969283885408917048\",\"value\":\"\"},\"__get_gd_contents\":{\"sync\":false,\"id\":\"7748354525305775680\",\"value\":\"\"},\"_downloadImage\":{\"sync\":false,\"id\":\"8852379998867728683\",\"value\":{}},\"relayout\":{\"sync\":false,\"id\":\"16473512333424991499\",\"value\":{}},\"_commands\":{\"sync\":false,\"id\":\"7117954712957411204\",\"value\":[]}}},\"children\":[{\"props\":{\"id\":\"plot-1b28406f-ef25-4d95-9867-7cc19823755c\"},\"nodeType\":\"DOM\",\"type\":\"node\",\"instanceArgs\":{\"namespace\":\"html\",\"tag\":\"div\"},\"children\":[]}]},\n",
       "        window,\n",
       "    );\n",
       "    })()\n",
       "    </script>\n",
       "</div>\n"
      ],
      "text/plain": [
       "data: [\n",
       "  \"scatter3d with fields mode, type, x, y, and z\",\n",
       "  \"scatter3d with fields mode, type, x, y, and z\",\n",
       "  \"scatter3d with fields mode, type, x, y, and z\",\n",
       "  \"scatter3d with fields mode, type, x, y, and z\",\n",
       "  \"scatter3d with fields mode, type, x, y, and z\",\n",
       "  \"scatter3d with fields mode, type, x, y, and z\"\n",
       "]\n",
       "\n",
       "layout: \"layout with fields margin and template\"\n",
       "\n"
      ]
     },
     "execution_count": 14,
     "metadata": {},
     "output_type": "execute_result"
    },
    {
     "name": "stdout",
     "output_type": "stream",
     "text": [
      "glp_simplex: unable to recover undefined or non-optimal solution\n",
      "glp_simplex: unable to recover undefined or non-optimal solution\n",
      "glp_simplex: unable to recover undefined or non-optimal solution\n",
      "glp_simplex: unable to recover undefined or non-optimal solution\n",
      "glp_simplex: unable to recover undefined or non-optimal solution\n"
     ]
    }
   ],
   "source": [
    "vectorPoints=rand(0:100.,6,3);\n",
    "\n",
    "println(vectorPoints);\n",
    "pointsHull=conicHull(vectorPoints)\n",
    "grapher(vectorPoints,pointsHull,3)"
   ]
  },
  {
   "cell_type": "code",
   "execution_count": 15,
   "metadata": {},
   "outputs": [
    {
     "name": "stdout",
     "output_type": "stream",
     "text": [
      "[19.0 68.0 94.0; 15.0 96.0 6.0; 27.0 3.0 32.0; 27.0 12.0 76.0; 92.0 16.0 44.0; 87.0 97.0 44.0; 50.0 16.0 45.0; 98.0 20.0 19.0; 71.0 70.0 13.0; 3.0 22.0 14.0; 8.0 39.0 45.0; 79.0 88.0 4.0; 63.0 99.0 35.0; 23.0 28.0 58.0; 21.0 18.0 28.0; 53.0 18.0 70.0; 38.0 35.0 88.0; 76.0 82.0 45.0; 97.0 80.0 0.0; 0.0 18.0 61.0; 67.0 20.0 91.0; 97.0 52.0 49.0; 40.0 53.0 63.0; 47.0 8.0 76.0; 70.0 27.0 80.0; 87.0 83.0 94.0; 50.0 48.0 92.0; 97.0 10.0 65.0; 4.0 69.0 70.0; 11.0 26.0 8.0; 3.0 36.0 99.0; 76.0 70.0 92.0; 18.0 22.0 9.0; 38.0 75.0 12.0; 56.0 48.0 68.0; 100.0 3.0 64.0; 68.0 42.0 6.0; 53.0 6.0 71.0; 24.0 51.0 71.0; 61.0 23.0 61.0; 43.0 74.0 80.0; 92.0 23.0 90.0; 49.0 85.0 79.0; 20.0 83.0 39.0; 36.0 86.0 97.0; 0.0 38.0 3.0; 29.0 82.0 56.0; 26.0 96.0 6.0; 38.0 19.0 89.0; 37.0 83.0 17.0; 36.0 77.0 19.0; 44.0 68.0 71.0; 90.0 43.0 11.0; 88.0 88.0 52.0; 4.0 56.0 5.0; 53.0 83.0 11.0; 40.0 12.0 11.0; 49.0 2.0 80.0; 56.0 41.0 3.0; 11.0 18.0 50.0; 43.0 1.0 5.0; 17.0 92.0 92.0; 46.0 89.0 63.0; 37.0 30.0 91.0; 27.0 96.0 78.0; 31.0 0.0 50.0; 81.0 7.0 67.0; 62.0 11.0 31.0; 81.0 56.0 5.0; 43.0 1.0 98.0; 8.0 24.0 46.0; 74.0 89.0 89.0; 3.0 13.0 4.0; 82.0 77.0 58.0; 24.0 1.0 99.0; 15.0 79.0 57.0; 99.0 36.0 41.0; 46.0 19.0 52.0; 11.0 13.0 81.0; 87.0 75.0 84.0; 34.0 38.0 65.0; 78.0 25.0 88.0; 57.0 5.0 75.0; 59.0 88.0 24.0; 97.0 31.0 70.0; 73.0 60.0 81.0; 5.0 13.0 11.0; 20.0 19.0 79.0; 49.0 96.0 65.0; 34.0 93.0 32.0; 83.0 48.0 7.0; 43.0 81.0 63.0; 6.0 66.0 91.0; 19.0 50.0 42.0; 71.0 46.0 14.0; 54.0 54.0 47.0; 58.0 58.0 75.0; 94.0 64.0 99.0; 91.0 15.0 1.0; 18.0 43.0 93.0]\n",
      "glp_simplex: unable to recover undefined or non-optimal solution\n",
      "glp_simplex: unable to recover undefined or non-optimal solution\n",
      "glp_simplex: unable to recover undefined or non-optimal solution\n",
      "glp_simplex: unable to recover undefined or non-optimal solution\n"
     ]
    },
    {
     "data": {
      "application/vnd.plotly.v1+json": {
       "config": {
        "editable": false,
        "responsive": true,
        "scrollZoom": true,
        "showLink": false,
        "staticPlot": false
       },
       "data": [
        {
         "mode": "markers",
         "type": "scatter3d",
         "x": [
          19,
          15,
          27,
          27,
          92,
          87,
          50,
          98,
          71,
          3,
          8,
          79,
          63,
          23,
          21,
          53,
          38,
          76,
          97,
          0,
          67,
          97,
          40,
          47,
          70,
          87,
          50,
          97,
          4,
          11,
          3,
          76,
          18,
          38,
          56,
          100,
          68,
          53,
          24,
          61,
          43,
          92,
          49,
          20,
          36,
          0,
          29,
          26,
          38,
          37,
          36,
          44,
          90,
          88,
          4,
          53,
          40,
          49,
          56,
          11,
          43,
          17,
          46,
          37,
          27,
          31,
          81,
          62,
          81,
          43,
          8,
          74,
          3,
          82,
          24,
          15,
          99,
          46,
          11,
          87,
          34,
          78,
          57,
          59,
          97,
          73,
          5,
          20,
          49,
          34,
          83,
          43,
          6,
          19,
          71,
          54,
          58,
          94,
          91,
          18,
          0
         ],
         "y": [
          68,
          96,
          3,
          12,
          16,
          97,
          16,
          20,
          70,
          22,
          39,
          88,
          99,
          28,
          18,
          18,
          35,
          82,
          80,
          18,
          20,
          52,
          53,
          8,
          27,
          83,
          48,
          10,
          69,
          26,
          36,
          70,
          22,
          75,
          48,
          3,
          42,
          6,
          51,
          23,
          74,
          23,
          85,
          83,
          86,
          38,
          82,
          96,
          19,
          83,
          77,
          68,
          43,
          88,
          56,
          83,
          12,
          2,
          41,
          18,
          1,
          92,
          89,
          30,
          96,
          0,
          7,
          11,
          56,
          1,
          24,
          89,
          13,
          77,
          1,
          79,
          36,
          19,
          13,
          75,
          38,
          25,
          5,
          88,
          31,
          60,
          13,
          19,
          96,
          93,
          48,
          81,
          66,
          50,
          46,
          54,
          58,
          64,
          15,
          43,
          0
         ],
         "z": [
          94,
          6,
          32,
          76,
          44,
          44,
          45,
          19,
          13,
          14,
          45,
          4,
          35,
          58,
          28,
          70,
          88,
          45,
          0,
          61,
          91,
          49,
          63,
          76,
          80,
          94,
          92,
          65,
          70,
          8,
          99,
          92,
          9,
          12,
          68,
          64,
          6,
          71,
          71,
          61,
          80,
          90,
          79,
          39,
          97,
          3,
          56,
          6,
          89,
          17,
          19,
          71,
          11,
          52,
          5,
          11,
          11,
          80,
          3,
          50,
          5,
          92,
          63,
          91,
          78,
          50,
          67,
          31,
          5,
          98,
          46,
          89,
          4,
          58,
          99,
          57,
          41,
          52,
          81,
          84,
          65,
          88,
          75,
          24,
          70,
          81,
          11,
          79,
          65,
          32,
          7,
          63,
          91,
          42,
          14,
          47,
          75,
          99,
          1,
          93,
          0
         ]
        },
        {
         "mode": "lines",
         "type": "scatter3d",
         "x": [
          19.711284628585435,
          0
         ],
         "y": [
          126.15222162294678,
          0
         ],
         "z": [
          7.884513851434174,
          0
         ]
        },
        {
         "mode": "lines",
         "type": "scatter3d",
         "x": [
          83.60727556325823,
          0
         ],
         "y": [
          68.95445407279028,
          0
         ],
         "z": [
          0,
          0
         ]
        },
        {
         "mode": "lines",
         "type": "scatter3d",
         "x": [
          0,
          0
         ],
         "y": [
          32.265136440652775,
          0
         ],
         "z": [
          109.34296238221216,
          0
         ]
        },
        {
         "mode": "lines",
         "type": "scatter3d",
         "x": [
          0,
          0
         ],
         "y": [
          142.72602958579878,
          0
         ],
         "z": [
          11.267844440984115,
          0
         ]
        },
        {
         "mode": "lines",
         "type": "scatter3d",
         "x": [
          130.7816531958087,
          0
         ],
         "y": [
          3.0414337952513653,
          0
         ],
         "z": [
          15.207168976256826,
          0
         ]
        },
        {
         "mode": "lines",
         "type": "scatter3d",
         "x": [
          54.51800291640844,
          0
         ],
         "y": [
          0,
          0
         ],
         "z": [
          87.93226276840072,
          0
         ]
        },
        {
         "mode": "lines",
         "type": "scatter3d",
         "x": [
          27.162439518777802,
          0
         ],
         "y": [
          1.1317683132824083,
          0
         ],
         "z": [
          112.04506301495843,
          0
         ]
        },
        {
         "mode": "lines",
         "type": "scatter3d",
         "x": [
          128.2993406124513,
          0
         ],
         "y": [
          21.14824295809637,
          0
         ],
         "z": [
          1.4098828638730911,
          0
         ]
        }
       ],
       "frames": [],
       "layout": {
        "margin": {
         "b": 50,
         "l": 50,
         "r": 50,
         "t": 60
        },
        "template": {
         "data": {
          "bar": [
           {
            "error_x": {
             "color": "#2a3f5f"
            },
            "error_y": {
             "color": "#2a3f5f"
            },
            "marker": {
             "line": {
              "color": "#E5ECF6",
              "width": 0.5
             }
            },
            "type": "bar"
           }
          ],
          "barpolar": [
           {
            "marker": {
             "line": {
              "color": "#E5ECF6",
              "width": 0.5
             }
            },
            "type": "barpolar"
           }
          ],
          "carpet": [
           {
            "aaxis": {
             "endlinecolor": "#2a3f5f",
             "gridcolor": "white",
             "linecolor": "white",
             "minorgridcolor": "white",
             "startlinecolor": "#2a3f5f"
            },
            "baxis": {
             "endlinecolor": "#2a3f5f",
             "gridcolor": "white",
             "linecolor": "white",
             "minorgridcolor": "white",
             "startlinecolor": "#2a3f5f"
            },
            "type": "carpet"
           }
          ],
          "choropleth": [
           {
            "colorbar": {
             "outlinewidth": 0,
             "ticks": ""
            },
            "type": "choropleth"
           }
          ],
          "contour": [
           {
            "colorbar": {
             "outlinewidth": 0,
             "ticks": ""
            },
            "colorscale": [
             [
              0,
              "#0d0887"
             ],
             [
              0.1111111111111111,
              "#46039f"
             ],
             [
              0.2222222222222222,
              "#7201a8"
             ],
             [
              0.3333333333333333,
              "#9c179e"
             ],
             [
              0.4444444444444444,
              "#bd3786"
             ],
             [
              0.5555555555555556,
              "#d8576b"
             ],
             [
              0.6666666666666666,
              "#ed7953"
             ],
             [
              0.7777777777777778,
              "#fb9f3a"
             ],
             [
              0.8888888888888888,
              "#fdca26"
             ],
             [
              1,
              "#f0f921"
             ]
            ],
            "type": "contour"
           }
          ],
          "contourcarpet": [
           {
            "colorbar": {
             "outlinewidth": 0,
             "ticks": ""
            },
            "type": "contourcarpet"
           }
          ],
          "heatmap": [
           {
            "colorbar": {
             "outlinewidth": 0,
             "ticks": ""
            },
            "colorscale": [
             [
              0,
              "#0d0887"
             ],
             [
              0.1111111111111111,
              "#46039f"
             ],
             [
              0.2222222222222222,
              "#7201a8"
             ],
             [
              0.3333333333333333,
              "#9c179e"
             ],
             [
              0.4444444444444444,
              "#bd3786"
             ],
             [
              0.5555555555555556,
              "#d8576b"
             ],
             [
              0.6666666666666666,
              "#ed7953"
             ],
             [
              0.7777777777777778,
              "#fb9f3a"
             ],
             [
              0.8888888888888888,
              "#fdca26"
             ],
             [
              1,
              "#f0f921"
             ]
            ],
            "type": "heatmap"
           }
          ],
          "heatmapgl": [
           {
            "colorbar": {
             "outlinewidth": 0,
             "ticks": ""
            },
            "colorscale": [
             [
              0,
              "#0d0887"
             ],
             [
              0.1111111111111111,
              "#46039f"
             ],
             [
              0.2222222222222222,
              "#7201a8"
             ],
             [
              0.3333333333333333,
              "#9c179e"
             ],
             [
              0.4444444444444444,
              "#bd3786"
             ],
             [
              0.5555555555555556,
              "#d8576b"
             ],
             [
              0.6666666666666666,
              "#ed7953"
             ],
             [
              0.7777777777777778,
              "#fb9f3a"
             ],
             [
              0.8888888888888888,
              "#fdca26"
             ],
             [
              1,
              "#f0f921"
             ]
            ],
            "type": "heatmapgl"
           }
          ],
          "histogram": [
           {
            "marker": {
             "colorbar": {
              "outlinewidth": 0,
              "ticks": ""
             }
            },
            "type": "histogram"
           }
          ],
          "histogram2d": [
           {
            "colorbar": {
             "outlinewidth": 0,
             "ticks": ""
            },
            "colorscale": [
             [
              0,
              "#0d0887"
             ],
             [
              0.1111111111111111,
              "#46039f"
             ],
             [
              0.2222222222222222,
              "#7201a8"
             ],
             [
              0.3333333333333333,
              "#9c179e"
             ],
             [
              0.4444444444444444,
              "#bd3786"
             ],
             [
              0.5555555555555556,
              "#d8576b"
             ],
             [
              0.6666666666666666,
              "#ed7953"
             ],
             [
              0.7777777777777778,
              "#fb9f3a"
             ],
             [
              0.8888888888888888,
              "#fdca26"
             ],
             [
              1,
              "#f0f921"
             ]
            ],
            "type": "histogram2d"
           }
          ],
          "histogram2dcontour": [
           {
            "colorbar": {
             "outlinewidth": 0,
             "ticks": ""
            },
            "colorscale": [
             [
              0,
              "#0d0887"
             ],
             [
              0.1111111111111111,
              "#46039f"
             ],
             [
              0.2222222222222222,
              "#7201a8"
             ],
             [
              0.3333333333333333,
              "#9c179e"
             ],
             [
              0.4444444444444444,
              "#bd3786"
             ],
             [
              0.5555555555555556,
              "#d8576b"
             ],
             [
              0.6666666666666666,
              "#ed7953"
             ],
             [
              0.7777777777777778,
              "#fb9f3a"
             ],
             [
              0.8888888888888888,
              "#fdca26"
             ],
             [
              1,
              "#f0f921"
             ]
            ],
            "type": "histogram2dcontour"
           }
          ],
          "mesh3d": [
           {
            "colorbar": {
             "outlinewidth": 0,
             "ticks": ""
            },
            "type": "mesh3d"
           }
          ],
          "parcoords": [
           {
            "line": {
             "colorbar": {
              "outlinewidth": 0,
              "ticks": ""
             }
            },
            "type": "parcoords"
           }
          ],
          "pie": [
           {
            "automargin": true,
            "type": "pie"
           }
          ],
          "scatter": [
           {
            "marker": {
             "colorbar": {
              "outlinewidth": 0,
              "ticks": ""
             }
            },
            "type": "scatter"
           }
          ],
          "scatter3d": [
           {
            "line": {
             "colorbar": {
              "outlinewidth": 0,
              "ticks": ""
             }
            },
            "marker": {
             "colorbar": {
              "outlinewidth": 0,
              "ticks": ""
             }
            },
            "type": "scatter3d"
           }
          ],
          "scattercarpet": [
           {
            "marker": {
             "colorbar": {
              "outlinewidth": 0,
              "ticks": ""
             }
            },
            "type": "scattercarpet"
           }
          ],
          "scattergeo": [
           {
            "marker": {
             "colorbar": {
              "outlinewidth": 0,
              "ticks": ""
             }
            },
            "type": "scattergeo"
           }
          ],
          "scattergl": [
           {
            "marker": {
             "colorbar": {
              "outlinewidth": 0,
              "ticks": ""
             }
            },
            "type": "scattergl"
           }
          ],
          "scattermapbox": [
           {
            "marker": {
             "colorbar": {
              "outlinewidth": 0,
              "ticks": ""
             }
            },
            "type": "scattermapbox"
           }
          ],
          "scatterpolar": [
           {
            "marker": {
             "colorbar": {
              "outlinewidth": 0,
              "ticks": ""
             }
            },
            "type": "scatterpolar"
           }
          ],
          "scatterpolargl": [
           {
            "marker": {
             "colorbar": {
              "outlinewidth": 0,
              "ticks": ""
             }
            },
            "type": "scatterpolargl"
           }
          ],
          "scatterternary": [
           {
            "marker": {
             "colorbar": {
              "outlinewidth": 0,
              "ticks": ""
             }
            },
            "type": "scatterternary"
           }
          ],
          "surface": [
           {
            "colorbar": {
             "outlinewidth": 0,
             "ticks": ""
            },
            "colorscale": [
             [
              0,
              "#0d0887"
             ],
             [
              0.1111111111111111,
              "#46039f"
             ],
             [
              0.2222222222222222,
              "#7201a8"
             ],
             [
              0.3333333333333333,
              "#9c179e"
             ],
             [
              0.4444444444444444,
              "#bd3786"
             ],
             [
              0.5555555555555556,
              "#d8576b"
             ],
             [
              0.6666666666666666,
              "#ed7953"
             ],
             [
              0.7777777777777778,
              "#fb9f3a"
             ],
             [
              0.8888888888888888,
              "#fdca26"
             ],
             [
              1,
              "#f0f921"
             ]
            ],
            "type": "surface"
           }
          ],
          "table": [
           {
            "cells": {
             "fill": {
              "color": "#EBF0F8"
             },
             "line": {
              "color": "white"
             }
            },
            "header": {
             "fill": {
              "color": "#C8D4E3"
             },
             "line": {
              "color": "white"
             }
            },
            "type": "table"
           }
          ]
         },
         "layout": {
          "annotationdefaults": {
           "arrowcolor": "#2a3f5f",
           "arrowhead": 0,
           "arrowwidth": 1
          },
          "autotypenumbers": "strict",
          "coloraxis": {
           "colorbar": {
            "outlinewidth": 0,
            "ticks": ""
           }
          },
          "colorscale": {
           "diverging": [
            [
             0,
             "#8e0152"
            ],
            [
             0.1,
             "#c51b7d"
            ],
            [
             0.2,
             "#de77ae"
            ],
            [
             0.3,
             "#f1b6da"
            ],
            [
             0.4,
             "#fde0ef"
            ],
            [
             0.5,
             "#f7f7f7"
            ],
            [
             0.6,
             "#e6f5d0"
            ],
            [
             0.7,
             "#b8e186"
            ],
            [
             0.8,
             "#7fbc41"
            ],
            [
             0.9,
             "#4d9221"
            ],
            [
             1,
             "#276419"
            ]
           ],
           "sequential": [
            [
             0,
             "#0d0887"
            ],
            [
             0.1111111111111111,
             "#46039f"
            ],
            [
             0.2222222222222222,
             "#7201a8"
            ],
            [
             0.3333333333333333,
             "#9c179e"
            ],
            [
             0.4444444444444444,
             "#bd3786"
            ],
            [
             0.5555555555555556,
             "#d8576b"
            ],
            [
             0.6666666666666666,
             "#ed7953"
            ],
            [
             0.7777777777777778,
             "#fb9f3a"
            ],
            [
             0.8888888888888888,
             "#fdca26"
            ],
            [
             1,
             "#f0f921"
            ]
           ],
           "sequentialminus": [
            [
             0,
             "#0d0887"
            ],
            [
             0.1111111111111111,
             "#46039f"
            ],
            [
             0.2222222222222222,
             "#7201a8"
            ],
            [
             0.3333333333333333,
             "#9c179e"
            ],
            [
             0.4444444444444444,
             "#bd3786"
            ],
            [
             0.5555555555555556,
             "#d8576b"
            ],
            [
             0.6666666666666666,
             "#ed7953"
            ],
            [
             0.7777777777777778,
             "#fb9f3a"
            ],
            [
             0.8888888888888888,
             "#fdca26"
            ],
            [
             1,
             "#f0f921"
            ]
           ]
          },
          "colorway": [
           "#636efa",
           "#EF553B",
           "#00cc96",
           "#ab63fa",
           "#FFA15A",
           "#19d3f3",
           "#FF6692",
           "#B6E880",
           "#FF97FF",
           "#FECB52"
          ],
          "font": {
           "color": "#2a3f5f"
          },
          "geo": {
           "bgcolor": "white",
           "lakecolor": "white",
           "landcolor": "#E5ECF6",
           "showlakes": true,
           "showland": true,
           "subunitcolor": "white"
          },
          "hoverlabel": {
           "align": "left"
          },
          "hovermode": "closest",
          "mapbox": {
           "style": "light"
          },
          "paper_bgcolor": "white",
          "plot_bgcolor": "#E5ECF6",
          "polar": {
           "angularaxis": {
            "gridcolor": "white",
            "linecolor": "white",
            "ticks": ""
           },
           "bgcolor": "#E5ECF6",
           "radialaxis": {
            "gridcolor": "white",
            "linecolor": "white",
            "ticks": ""
           }
          },
          "scene": {
           "xaxis": {
            "backgroundcolor": "#E5ECF6",
            "gridcolor": "white",
            "gridwidth": 2,
            "linecolor": "white",
            "showbackground": true,
            "ticks": "",
            "zerolinecolor": "white"
           },
           "yaxis": {
            "backgroundcolor": "#E5ECF6",
            "gridcolor": "white",
            "gridwidth": 2,
            "linecolor": "white",
            "showbackground": true,
            "ticks": "",
            "zerolinecolor": "white"
           },
           "zaxis": {
            "backgroundcolor": "#E5ECF6",
            "gridcolor": "white",
            "gridwidth": 2,
            "linecolor": "white",
            "showbackground": true,
            "ticks": "",
            "zerolinecolor": "white"
           }
          },
          "shapedefaults": {
           "line": {
            "color": "#2a3f5f"
           }
          },
          "ternary": {
           "aaxis": {
            "gridcolor": "white",
            "linecolor": "white",
            "ticks": ""
           },
           "baxis": {
            "gridcolor": "white",
            "linecolor": "white",
            "ticks": ""
           },
           "bgcolor": "#E5ECF6",
           "caxis": {
            "gridcolor": "white",
            "linecolor": "white",
            "ticks": ""
           }
          },
          "title": {
           "x": 0.05
          },
          "xaxis": {
           "automargin": true,
           "gridcolor": "white",
           "linecolor": "white",
           "ticks": "",
           "title": {
            "standoff": 15
           },
           "zerolinecolor": "white",
           "zerolinewidth": 2
          },
          "yaxis": {
           "automargin": true,
           "gridcolor": "white",
           "linecolor": "white",
           "ticks": "",
           "title": {
            "standoff": 15
           },
           "zerolinecolor": "white",
           "zerolinewidth": 2
          }
         }
        }
       }
      },
      "text/html": [
       "<div\n",
       "    class=\"webio-mountpoint\"\n",
       "    data-webio-mountpoint=\"10548044782169489822\"\n",
       ">\n",
       "    <script>\n",
       "    (function(){\n",
       "    // Some integrations (namely, IJulia/Jupyter) use an alternate render pathway than\n",
       "    // just putting the html on the page. If WebIO isn't defined, then it's pretty likely\n",
       "    // that we're in one of those situations and the integration just isn't installed\n",
       "    // correctly.\n",
       "    if (typeof window.WebIO === \"undefined\") {\n",
       "        document\n",
       "            .querySelector('[data-webio-mountpoint=\"10548044782169489822\"]')\n",
       "            .innerHTML = (\n",
       "                '<div style=\"padding: 1em; background-color: #f8d6da; border: 1px solid #f5c6cb; font-weight: bold;\">' +\n",
       "                '<p><strong>WebIO not detected.</strong></p>' +\n",
       "                '<p>Please read ' +\n",
       "                '<a href=\"https://juliagizmos.github.io/WebIO.jl/latest/troubleshooting/not-detected/\" target=\"_blank\">the troubleshooting guide</a> ' +\n",
       "                'for more information on how to resolve this issue.</p>' +\n",
       "                '<p><a href=\"https://juliagizmos.github.io/WebIO.jl/latest/troubleshooting/not-detected/\" target=\"_blank\">https://juliagizmos.github.io/WebIO.jl/latest/troubleshooting/not-detected/</a></p>' +\n",
       "                '</div>'\n",
       "            );\n",
       "        return;\n",
       "    }\n",
       "    WebIO.mount(\n",
       "        document.querySelector('[data-webio-mountpoint=\"10548044782169489822\"]'),\n",
       "        {\"props\":{},\"nodeType\":\"Scope\",\"type\":\"node\",\"instanceArgs\":{\"imports\":{\"data\":[{\"name\":\"Plotly\",\"type\":\"js\",\"url\":\"\\/assetserver\\/58896c7d350a17df3fba382767f4c006d30efb73-plotly.min.js\"},{\"name\":null,\"type\":\"js\",\"url\":\"\\/assetserver\\/e59749eb0875c5743424754ad42cec2a2a785410-plotly_webio.bundle.js\"}],\"type\":\"async_block\"},\"id\":\"4071348683520895551\",\"handlers\":{\"_toImage\":[\"(function (options){return this.Plotly.toImage(this.plotElem,options).then((function (data){return WebIO.setval({\\\"name\\\":\\\"image\\\",\\\"scope\\\":\\\"4071348683520895551\\\",\\\"id\\\":\\\"14325130825754724037\\\",\\\"type\\\":\\\"observable\\\"},data)}))})\"],\"__get_gd_contents\":[\"(function (prop){prop==\\\"data\\\" ? (WebIO.setval({\\\"name\\\":\\\"__gd_contents\\\",\\\"scope\\\":\\\"4071348683520895551\\\",\\\"id\\\":\\\"16039785294860578840\\\",\\\"type\\\":\\\"observable\\\"},this.plotElem.data)) : undefined; return prop==\\\"layout\\\" ? (WebIO.setval({\\\"name\\\":\\\"__gd_contents\\\",\\\"scope\\\":\\\"4071348683520895551\\\",\\\"id\\\":\\\"16039785294860578840\\\",\\\"type\\\":\\\"observable\\\"},this.plotElem.layout)) : undefined})\"],\"_downloadImage\":[\"(function (options){return this.Plotly.downloadImage(this.plotElem,options)})\"],\"_commands\":[\"(function (args){var fn=args.shift(); var elem=this.plotElem; var Plotly=this.Plotly; args.unshift(elem); return Plotly[fn].apply(this,args)})\"]},\"systemjs_options\":null,\"mount_callbacks\":[\"function () {\\n    var handler = ((function (Plotly,PlotlyWebIO){PlotlyWebIO.init(WebIO); var gd=this.dom.querySelector(\\\"#plot-30c11681-74b1-4298-a5c3-2e78c7d4708a\\\"); this.plotElem=gd; this.Plotly=Plotly; (window.Blink!==undefined) ? (gd.style.width=\\\"100%\\\", gd.style.height=\\\"100vh\\\", gd.style.marginLeft=\\\"0%\\\", gd.style.marginTop=\\\"0vh\\\") : undefined; window.onresize=(function (){return Plotly.Plots.resize(gd)}); Plotly.newPlot(gd,[{\\\"mode\\\":\\\"markers\\\",\\\"y\\\":[68.0,96.0,3.0,12.0,16.0,97.0,16.0,20.0,70.0,22.0,39.0,88.0,99.0,28.0,18.0,18.0,35.0,82.0,80.0,18.0,20.0,52.0,53.0,8.0,27.0,83.0,48.0,10.0,69.0,26.0,36.0,70.0,22.0,75.0,48.0,3.0,42.0,6.0,51.0,23.0,74.0,23.0,85.0,83.0,86.0,38.0,82.0,96.0,19.0,83.0,77.0,68.0,43.0,88.0,56.0,83.0,12.0,2.0,41.0,18.0,1.0,92.0,89.0,30.0,96.0,0.0,7.0,11.0,56.0,1.0,24.0,89.0,13.0,77.0,1.0,79.0,36.0,19.0,13.0,75.0,38.0,25.0,5.0,88.0,31.0,60.0,13.0,19.0,96.0,93.0,48.0,81.0,66.0,50.0,46.0,54.0,58.0,64.0,15.0,43.0,0.0],\\\"type\\\":\\\"scatter3d\\\",\\\"z\\\":[94.0,6.0,32.0,76.0,44.0,44.0,45.0,19.0,13.0,14.0,45.0,4.0,35.0,58.0,28.0,70.0,88.0,45.0,0.0,61.0,91.0,49.0,63.0,76.0,80.0,94.0,92.0,65.0,70.0,8.0,99.0,92.0,9.0,12.0,68.0,64.0,6.0,71.0,71.0,61.0,80.0,90.0,79.0,39.0,97.0,3.0,56.0,6.0,89.0,17.0,19.0,71.0,11.0,52.0,5.0,11.0,11.0,80.0,3.0,50.0,5.0,92.0,63.0,91.0,78.0,50.0,67.0,31.0,5.0,98.0,46.0,89.0,4.0,58.0,99.0,57.0,41.0,52.0,81.0,84.0,65.0,88.0,75.0,24.0,70.0,81.0,11.0,79.0,65.0,32.0,7.0,63.0,91.0,42.0,14.0,47.0,75.0,99.0,1.0,93.0,0.0],\\\"x\\\":[19.0,15.0,27.0,27.0,92.0,87.0,50.0,98.0,71.0,3.0,8.0,79.0,63.0,23.0,21.0,53.0,38.0,76.0,97.0,0.0,67.0,97.0,40.0,47.0,70.0,87.0,50.0,97.0,4.0,11.0,3.0,76.0,18.0,38.0,56.0,100.0,68.0,53.0,24.0,61.0,43.0,92.0,49.0,20.0,36.0,0.0,29.0,26.0,38.0,37.0,36.0,44.0,90.0,88.0,4.0,53.0,40.0,49.0,56.0,11.0,43.0,17.0,46.0,37.0,27.0,31.0,81.0,62.0,81.0,43.0,8.0,74.0,3.0,82.0,24.0,15.0,99.0,46.0,11.0,87.0,34.0,78.0,57.0,59.0,97.0,73.0,5.0,20.0,49.0,34.0,83.0,43.0,6.0,19.0,71.0,54.0,58.0,94.0,91.0,18.0,0.0]},{\\\"mode\\\":\\\"lines\\\",\\\"y\\\":[126.15222162294678,0.0],\\\"type\\\":\\\"scatter3d\\\",\\\"z\\\":[7.884513851434174,0.0],\\\"x\\\":[19.711284628585435,0.0]},{\\\"mode\\\":\\\"lines\\\",\\\"y\\\":[68.95445407279028,0.0],\\\"type\\\":\\\"scatter3d\\\",\\\"z\\\":[0.0,0.0],\\\"x\\\":[83.60727556325823,0.0]},{\\\"mode\\\":\\\"lines\\\",\\\"y\\\":[32.265136440652775,0.0],\\\"type\\\":\\\"scatter3d\\\",\\\"z\\\":[109.34296238221216,0.0],\\\"x\\\":[0.0,0.0]},{\\\"mode\\\":\\\"lines\\\",\\\"y\\\":[142.72602958579878,0.0],\\\"type\\\":\\\"scatter3d\\\",\\\"z\\\":[11.267844440984115,0.0],\\\"x\\\":[0.0,0.0]},{\\\"mode\\\":\\\"lines\\\",\\\"y\\\":[3.0414337952513653,0.0],\\\"type\\\":\\\"scatter3d\\\",\\\"z\\\":[15.207168976256826,0.0],\\\"x\\\":[130.7816531958087,0.0]},{\\\"mode\\\":\\\"lines\\\",\\\"y\\\":[0.0,0.0],\\\"type\\\":\\\"scatter3d\\\",\\\"z\\\":[87.93226276840072,0.0],\\\"x\\\":[54.51800291640844,0.0]},{\\\"mode\\\":\\\"lines\\\",\\\"y\\\":[1.1317683132824083,0.0],\\\"type\\\":\\\"scatter3d\\\",\\\"z\\\":[112.04506301495843,0.0],\\\"x\\\":[27.162439518777802,0.0]},{\\\"mode\\\":\\\"lines\\\",\\\"y\\\":[21.14824295809637,0.0],\\\"type\\\":\\\"scatter3d\\\",\\\"z\\\":[1.4098828638730911,0.0],\\\"x\\\":[128.2993406124513,0.0]}],{\\\"template\\\":{\\\"layout\\\":{\\\"coloraxis\\\":{\\\"colorbar\\\":{\\\"ticks\\\":\\\"\\\",\\\"outlinewidth\\\":0}},\\\"xaxis\\\":{\\\"gridcolor\\\":\\\"white\\\",\\\"zerolinewidth\\\":2,\\\"title\\\":{\\\"standoff\\\":15},\\\"ticks\\\":\\\"\\\",\\\"zerolinecolor\\\":\\\"white\\\",\\\"automargin\\\":true,\\\"linecolor\\\":\\\"white\\\"},\\\"hovermode\\\":\\\"closest\\\",\\\"paper_bgcolor\\\":\\\"white\\\",\\\"geo\\\":{\\\"showlakes\\\":true,\\\"showland\\\":true,\\\"landcolor\\\":\\\"#E5ECF6\\\",\\\"bgcolor\\\":\\\"white\\\",\\\"subunitcolor\\\":\\\"white\\\",\\\"lakecolor\\\":\\\"white\\\"},\\\"colorscale\\\":{\\\"sequential\\\":[[0.0,\\\"#0d0887\\\"],[0.1111111111111111,\\\"#46039f\\\"],[0.2222222222222222,\\\"#7201a8\\\"],[0.3333333333333333,\\\"#9c179e\\\"],[0.4444444444444444,\\\"#bd3786\\\"],[0.5555555555555556,\\\"#d8576b\\\"],[0.6666666666666666,\\\"#ed7953\\\"],[0.7777777777777778,\\\"#fb9f3a\\\"],[0.8888888888888888,\\\"#fdca26\\\"],[1.0,\\\"#f0f921\\\"]],\\\"diverging\\\":[[0,\\\"#8e0152\\\"],[0.1,\\\"#c51b7d\\\"],[0.2,\\\"#de77ae\\\"],[0.3,\\\"#f1b6da\\\"],[0.4,\\\"#fde0ef\\\"],[0.5,\\\"#f7f7f7\\\"],[0.6,\\\"#e6f5d0\\\"],[0.7,\\\"#b8e186\\\"],[0.8,\\\"#7fbc41\\\"],[0.9,\\\"#4d9221\\\"],[1,\\\"#276419\\\"]],\\\"sequentialminus\\\":[[0.0,\\\"#0d0887\\\"],[0.1111111111111111,\\\"#46039f\\\"],[0.2222222222222222,\\\"#7201a8\\\"],[0.3333333333333333,\\\"#9c179e\\\"],[0.4444444444444444,\\\"#bd3786\\\"],[0.5555555555555556,\\\"#d8576b\\\"],[0.6666666666666666,\\\"#ed7953\\\"],[0.7777777777777778,\\\"#fb9f3a\\\"],[0.8888888888888888,\\\"#fdca26\\\"],[1.0,\\\"#f0f921\\\"]]},\\\"yaxis\\\":{\\\"gridcolor\\\":\\\"white\\\",\\\"zerolinewidth\\\":2,\\\"title\\\":{\\\"standoff\\\":15},\\\"ticks\\\":\\\"\\\",\\\"zerolinecolor\\\":\\\"white\\\",\\\"automargin\\\":true,\\\"linecolor\\\":\\\"white\\\"},\\\"shapedefaults\\\":{\\\"line\\\":{\\\"color\\\":\\\"#2a3f5f\\\"}},\\\"hoverlabel\\\":{\\\"align\\\":\\\"left\\\"},\\\"mapbox\\\":{\\\"style\\\":\\\"light\\\"},\\\"polar\\\":{\\\"angularaxis\\\":{\\\"gridcolor\\\":\\\"white\\\",\\\"ticks\\\":\\\"\\\",\\\"linecolor\\\":\\\"white\\\"},\\\"bgcolor\\\":\\\"#E5ECF6\\\",\\\"radialaxis\\\":{\\\"gridcolor\\\":\\\"white\\\",\\\"ticks\\\":\\\"\\\",\\\"linecolor\\\":\\\"white\\\"}},\\\"autotypenumbers\\\":\\\"strict\\\",\\\"font\\\":{\\\"color\\\":\\\"#2a3f5f\\\"},\\\"ternary\\\":{\\\"baxis\\\":{\\\"gridcolor\\\":\\\"white\\\",\\\"ticks\\\":\\\"\\\",\\\"linecolor\\\":\\\"white\\\"},\\\"bgcolor\\\":\\\"#E5ECF6\\\",\\\"caxis\\\":{\\\"gridcolor\\\":\\\"white\\\",\\\"ticks\\\":\\\"\\\",\\\"linecolor\\\":\\\"white\\\"},\\\"aaxis\\\":{\\\"gridcolor\\\":\\\"white\\\",\\\"ticks\\\":\\\"\\\",\\\"linecolor\\\":\\\"white\\\"}},\\\"annotationdefaults\\\":{\\\"arrowhead\\\":0,\\\"arrowwidth\\\":1,\\\"arrowcolor\\\":\\\"#2a3f5f\\\"},\\\"plot_bgcolor\\\":\\\"#E5ECF6\\\",\\\"title\\\":{\\\"x\\\":0.05},\\\"scene\\\":{\\\"xaxis\\\":{\\\"gridcolor\\\":\\\"white\\\",\\\"gridwidth\\\":2,\\\"backgroundcolor\\\":\\\"#E5ECF6\\\",\\\"ticks\\\":\\\"\\\",\\\"showbackground\\\":true,\\\"zerolinecolor\\\":\\\"white\\\",\\\"linecolor\\\":\\\"white\\\"},\\\"zaxis\\\":{\\\"gridcolor\\\":\\\"white\\\",\\\"gridwidth\\\":2,\\\"backgroundcolor\\\":\\\"#E5ECF6\\\",\\\"ticks\\\":\\\"\\\",\\\"showbackground\\\":true,\\\"zerolinecolor\\\":\\\"white\\\",\\\"linecolor\\\":\\\"white\\\"},\\\"yaxis\\\":{\\\"gridcolor\\\":\\\"white\\\",\\\"gridwidth\\\":2,\\\"backgroundcolor\\\":\\\"#E5ECF6\\\",\\\"ticks\\\":\\\"\\\",\\\"showbackground\\\":true,\\\"zerolinecolor\\\":\\\"white\\\",\\\"linecolor\\\":\\\"white\\\"}},\\\"colorway\\\":[\\\"#636efa\\\",\\\"#EF553B\\\",\\\"#00cc96\\\",\\\"#ab63fa\\\",\\\"#FFA15A\\\",\\\"#19d3f3\\\",\\\"#FF6692\\\",\\\"#B6E880\\\",\\\"#FF97FF\\\",\\\"#FECB52\\\"]},\\\"data\\\":{\\\"barpolar\\\":[{\\\"type\\\":\\\"barpolar\\\",\\\"marker\\\":{\\\"line\\\":{\\\"color\\\":\\\"#E5ECF6\\\",\\\"width\\\":0.5}}}],\\\"carpet\\\":[{\\\"aaxis\\\":{\\\"gridcolor\\\":\\\"white\\\",\\\"endlinecolor\\\":\\\"#2a3f5f\\\",\\\"minorgridcolor\\\":\\\"white\\\",\\\"startlinecolor\\\":\\\"#2a3f5f\\\",\\\"linecolor\\\":\\\"white\\\"},\\\"type\\\":\\\"carpet\\\",\\\"baxis\\\":{\\\"gridcolor\\\":\\\"white\\\",\\\"endlinecolor\\\":\\\"#2a3f5f\\\",\\\"minorgridcolor\\\":\\\"white\\\",\\\"startlinecolor\\\":\\\"#2a3f5f\\\",\\\"linecolor\\\":\\\"white\\\"}}],\\\"scatterpolar\\\":[{\\\"type\\\":\\\"scatterpolar\\\",\\\"marker\\\":{\\\"colorbar\\\":{\\\"ticks\\\":\\\"\\\",\\\"outlinewidth\\\":0}}}],\\\"parcoords\\\":[{\\\"line\\\":{\\\"colorbar\\\":{\\\"ticks\\\":\\\"\\\",\\\"outlinewidth\\\":0}},\\\"type\\\":\\\"parcoords\\\"}],\\\"scatter\\\":[{\\\"type\\\":\\\"scatter\\\",\\\"marker\\\":{\\\"colorbar\\\":{\\\"ticks\\\":\\\"\\\",\\\"outlinewidth\\\":0}}}],\\\"histogram2dcontour\\\":[{\\\"colorbar\\\":{\\\"ticks\\\":\\\"\\\",\\\"outlinewidth\\\":0},\\\"type\\\":\\\"histogram2dcontour\\\",\\\"colorscale\\\":[[0.0,\\\"#0d0887\\\"],[0.1111111111111111,\\\"#46039f\\\"],[0.2222222222222222,\\\"#7201a8\\\"],[0.3333333333333333,\\\"#9c179e\\\"],[0.4444444444444444,\\\"#bd3786\\\"],[0.5555555555555556,\\\"#d8576b\\\"],[0.6666666666666666,\\\"#ed7953\\\"],[0.7777777777777778,\\\"#fb9f3a\\\"],[0.8888888888888888,\\\"#fdca26\\\"],[1.0,\\\"#f0f921\\\"]]}],\\\"contour\\\":[{\\\"colorbar\\\":{\\\"ticks\\\":\\\"\\\",\\\"outlinewidth\\\":0},\\\"type\\\":\\\"contour\\\",\\\"colorscale\\\":[[0.0,\\\"#0d0887\\\"],[0.1111111111111111,\\\"#46039f\\\"],[0.2222222222222222,\\\"#7201a8\\\"],[0.3333333333333333,\\\"#9c179e\\\"],[0.4444444444444444,\\\"#bd3786\\\"],[0.5555555555555556,\\\"#d8576b\\\"],[0.6666666666666666,\\\"#ed7953\\\"],[0.7777777777777778,\\\"#fb9f3a\\\"],[0.8888888888888888,\\\"#fdca26\\\"],[1.0,\\\"#f0f921\\\"]]}],\\\"scattercarpet\\\":[{\\\"type\\\":\\\"scattercarpet\\\",\\\"marker\\\":{\\\"colorbar\\\":{\\\"ticks\\\":\\\"\\\",\\\"outlinewidth\\\":0}}}],\\\"mesh3d\\\":[{\\\"colorbar\\\":{\\\"ticks\\\":\\\"\\\",\\\"outlinewidth\\\":0},\\\"type\\\":\\\"mesh3d\\\"}],\\\"surface\\\":[{\\\"colorbar\\\":{\\\"ticks\\\":\\\"\\\",\\\"outlinewidth\\\":0},\\\"type\\\":\\\"surface\\\",\\\"colorscale\\\":[[0.0,\\\"#0d0887\\\"],[0.1111111111111111,\\\"#46039f\\\"],[0.2222222222222222,\\\"#7201a8\\\"],[0.3333333333333333,\\\"#9c179e\\\"],[0.4444444444444444,\\\"#bd3786\\\"],[0.5555555555555556,\\\"#d8576b\\\"],[0.6666666666666666,\\\"#ed7953\\\"],[0.7777777777777778,\\\"#fb9f3a\\\"],[0.8888888888888888,\\\"#fdca26\\\"],[1.0,\\\"#f0f921\\\"]]}],\\\"scattermapbox\\\":[{\\\"type\\\":\\\"scattermapbox\\\",\\\"marker\\\":{\\\"colorbar\\\":{\\\"ticks\\\":\\\"\\\",\\\"outlinewidth\\\":0}}}],\\\"scattergeo\\\":[{\\\"type\\\":\\\"scattergeo\\\",\\\"marker\\\":{\\\"colorbar\\\":{\\\"ticks\\\":\\\"\\\",\\\"outlinewidth\\\":0}}}],\\\"histogram\\\":[{\\\"type\\\":\\\"histogram\\\",\\\"marker\\\":{\\\"colorbar\\\":{\\\"ticks\\\":\\\"\\\",\\\"outlinewidth\\\":0}}}],\\\"pie\\\":[{\\\"type\\\":\\\"pie\\\",\\\"automargin\\\":true}],\\\"choropleth\\\":[{\\\"colorbar\\\":{\\\"ticks\\\":\\\"\\\",\\\"outlinewidth\\\":0},\\\"type\\\":\\\"choropleth\\\"}],\\\"heatmapgl\\\":[{\\\"colorbar\\\":{\\\"ticks\\\":\\\"\\\",\\\"outlinewidth\\\":0},\\\"type\\\":\\\"heatmapgl\\\",\\\"colorscale\\\":[[0.0,\\\"#0d0887\\\"],[0.1111111111111111,\\\"#46039f\\\"],[0.2222222222222222,\\\"#7201a8\\\"],[0.3333333333333333,\\\"#9c179e\\\"],[0.4444444444444444,\\\"#bd3786\\\"],[0.5555555555555556,\\\"#d8576b\\\"],[0.6666666666666666,\\\"#ed7953\\\"],[0.7777777777777778,\\\"#fb9f3a\\\"],[0.8888888888888888,\\\"#fdca26\\\"],[1.0,\\\"#f0f921\\\"]]}],\\\"bar\\\":[{\\\"type\\\":\\\"bar\\\",\\\"error_y\\\":{\\\"color\\\":\\\"#2a3f5f\\\"},\\\"error_x\\\":{\\\"color\\\":\\\"#2a3f5f\\\"},\\\"marker\\\":{\\\"line\\\":{\\\"color\\\":\\\"#E5ECF6\\\",\\\"width\\\":0.5}}}],\\\"heatmap\\\":[{\\\"colorbar\\\":{\\\"ticks\\\":\\\"\\\",\\\"outlinewidth\\\":0},\\\"type\\\":\\\"heatmap\\\",\\\"colorscale\\\":[[0.0,\\\"#0d0887\\\"],[0.1111111111111111,\\\"#46039f\\\"],[0.2222222222222222,\\\"#7201a8\\\"],[0.3333333333333333,\\\"#9c179e\\\"],[0.4444444444444444,\\\"#bd3786\\\"],[0.5555555555555556,\\\"#d8576b\\\"],[0.6666666666666666,\\\"#ed7953\\\"],[0.7777777777777778,\\\"#fb9f3a\\\"],[0.8888888888888888,\\\"#fdca26\\\"],[1.0,\\\"#f0f921\\\"]]}],\\\"contourcarpet\\\":[{\\\"colorbar\\\":{\\\"ticks\\\":\\\"\\\",\\\"outlinewidth\\\":0},\\\"type\\\":\\\"contourcarpet\\\"}],\\\"table\\\":[{\\\"type\\\":\\\"table\\\",\\\"header\\\":{\\\"line\\\":{\\\"color\\\":\\\"white\\\"},\\\"fill\\\":{\\\"color\\\":\\\"#C8D4E3\\\"}},\\\"cells\\\":{\\\"line\\\":{\\\"color\\\":\\\"white\\\"},\\\"fill\\\":{\\\"color\\\":\\\"#EBF0F8\\\"}}}],\\\"scatter3d\\\":[{\\\"line\\\":{\\\"colorbar\\\":{\\\"ticks\\\":\\\"\\\",\\\"outlinewidth\\\":0}},\\\"type\\\":\\\"scatter3d\\\",\\\"marker\\\":{\\\"colorbar\\\":{\\\"ticks\\\":\\\"\\\",\\\"outlinewidth\\\":0}}}],\\\"scattergl\\\":[{\\\"type\\\":\\\"scattergl\\\",\\\"marker\\\":{\\\"colorbar\\\":{\\\"ticks\\\":\\\"\\\",\\\"outlinewidth\\\":0}}}],\\\"histogram2d\\\":[{\\\"colorbar\\\":{\\\"ticks\\\":\\\"\\\",\\\"outlinewidth\\\":0},\\\"type\\\":\\\"histogram2d\\\",\\\"colorscale\\\":[[0.0,\\\"#0d0887\\\"],[0.1111111111111111,\\\"#46039f\\\"],[0.2222222222222222,\\\"#7201a8\\\"],[0.3333333333333333,\\\"#9c179e\\\"],[0.4444444444444444,\\\"#bd3786\\\"],[0.5555555555555556,\\\"#d8576b\\\"],[0.6666666666666666,\\\"#ed7953\\\"],[0.7777777777777778,\\\"#fb9f3a\\\"],[0.8888888888888888,\\\"#fdca26\\\"],[1.0,\\\"#f0f921\\\"]]}],\\\"scatterternary\\\":[{\\\"type\\\":\\\"scatterternary\\\",\\\"marker\\\":{\\\"colorbar\\\":{\\\"ticks\\\":\\\"\\\",\\\"outlinewidth\\\":0}}}],\\\"scatterpolargl\\\":[{\\\"type\\\":\\\"scatterpolargl\\\",\\\"marker\\\":{\\\"colorbar\\\":{\\\"ticks\\\":\\\"\\\",\\\"outlinewidth\\\":0}}}]}},\\\"margin\\\":{\\\"l\\\":50,\\\"b\\\":50,\\\"r\\\":50,\\\"t\\\":60}},{\\\"showLink\\\":false,\\\"editable\\\":false,\\\"responsive\\\":true,\\\"staticPlot\\\":false,\\\"scrollZoom\\\":true}); gd.on(\\\"plotly_hover\\\",(function (data){var filtered_data=WebIO.PlotlyCommands.filterEventData(gd,data,\\\"hover\\\"); return !(filtered_data.isnil) ? (WebIO.setval({\\\"name\\\":\\\"hover\\\",\\\"scope\\\":\\\"4071348683520895551\\\",\\\"id\\\":\\\"481590459167114612\\\",\\\"type\\\":\\\"observable\\\"},filtered_data.out)) : undefined})); gd.on(\\\"plotly_unhover\\\",(function (){return WebIO.setval({\\\"name\\\":\\\"hover\\\",\\\"scope\\\":\\\"4071348683520895551\\\",\\\"id\\\":\\\"481590459167114612\\\",\\\"type\\\":\\\"observable\\\"},{})})); gd.on(\\\"plotly_selected\\\",(function (data){var filtered_data=WebIO.PlotlyCommands.filterEventData(gd,data,\\\"selected\\\"); return !(filtered_data.isnil) ? (WebIO.setval({\\\"name\\\":\\\"selected\\\",\\\"scope\\\":\\\"4071348683520895551\\\",\\\"id\\\":\\\"17380987987276132576\\\",\\\"type\\\":\\\"observable\\\"},filtered_data.out)) : undefined})); gd.on(\\\"plotly_deselect\\\",(function (){return WebIO.setval({\\\"name\\\":\\\"selected\\\",\\\"scope\\\":\\\"4071348683520895551\\\",\\\"id\\\":\\\"17380987987276132576\\\",\\\"type\\\":\\\"observable\\\"},{})})); gd.on(\\\"plotly_relayout\\\",(function (data){var filtered_data=WebIO.PlotlyCommands.filterEventData(gd,data,\\\"relayout\\\"); return !(filtered_data.isnil) ? (WebIO.setval({\\\"name\\\":\\\"relayout\\\",\\\"scope\\\":\\\"4071348683520895551\\\",\\\"id\\\":\\\"18052220266327463979\\\",\\\"type\\\":\\\"observable\\\"},filtered_data.out)) : undefined})); return gd.on(\\\"plotly_click\\\",(function (data){var filtered_data=WebIO.PlotlyCommands.filterEventData(gd,data,\\\"click\\\"); return !(filtered_data.isnil) ? (WebIO.setval({\\\"name\\\":\\\"click\\\",\\\"scope\\\":\\\"4071348683520895551\\\",\\\"id\\\":\\\"4799908427066965307\\\",\\\"type\\\":\\\"observable\\\"},filtered_data.out)) : undefined}))}));\\n    (WebIO.importBlock({\\\"data\\\":[{\\\"name\\\":\\\"Plotly\\\",\\\"type\\\":\\\"js\\\",\\\"url\\\":\\\"\\/assetserver\\/58896c7d350a17df3fba382767f4c006d30efb73-plotly.min.js\\\"},{\\\"name\\\":null,\\\"type\\\":\\\"js\\\",\\\"url\\\":\\\"\\/assetserver\\/e59749eb0875c5743424754ad42cec2a2a785410-plotly_webio.bundle.js\\\"}],\\\"type\\\":\\\"async_block\\\"})).then((imports) => handler.apply(this, imports));\\n}\\n\"],\"observables\":{\"_toImage\":{\"sync\":false,\"id\":\"7010188114326178223\",\"value\":{}},\"hover\":{\"sync\":false,\"id\":\"481590459167114612\",\"value\":{}},\"selected\":{\"sync\":false,\"id\":\"17380987987276132576\",\"value\":{}},\"__gd_contents\":{\"sync\":false,\"id\":\"16039785294860578840\",\"value\":{}},\"click\":{\"sync\":false,\"id\":\"4799908427066965307\",\"value\":{}},\"image\":{\"sync\":true,\"id\":\"14325130825754724037\",\"value\":\"\"},\"__get_gd_contents\":{\"sync\":false,\"id\":\"10398673721230386508\",\"value\":\"\"},\"_downloadImage\":{\"sync\":false,\"id\":\"9727041445432142498\",\"value\":{}},\"relayout\":{\"sync\":false,\"id\":\"18052220266327463979\",\"value\":{}},\"_commands\":{\"sync\":false,\"id\":\"13177965203855550089\",\"value\":[]}}},\"children\":[{\"props\":{\"id\":\"plot-30c11681-74b1-4298-a5c3-2e78c7d4708a\"},\"nodeType\":\"DOM\",\"type\":\"node\",\"instanceArgs\":{\"namespace\":\"html\",\"tag\":\"div\"},\"children\":[]}]},\n",
       "        window,\n",
       "    );\n",
       "    })()\n",
       "    </script>\n",
       "</div>\n"
      ],
      "text/plain": [
       "data: [\n",
       "  \"scatter3d with fields mode, type, x, y, and z\",\n",
       "  \"scatter3d with fields mode, type, x, y, and z\",\n",
       "  \"scatter3d with fields mode, type, x, y, and z\",\n",
       "  \"scatter3d with fields mode, type, x, y, and z\",\n",
       "  \"scatter3d with fields mode, type, x, y, and z\",\n",
       "  \"scatter3d with fields mode, type, x, y, and z\",\n",
       "  \"scatter3d with fields mode, type, x, y, and z\",\n",
       "  \"scatter3d with fields mode, type, x, y, and z\",\n",
       "  \"scatter3d with fields mode, type, x, y, and z\"\n",
       "]\n",
       "\n",
       "layout: \"layout with fields margin and template\"\n",
       "\n"
      ]
     },
     "execution_count": 15,
     "metadata": {},
     "output_type": "execute_result"
    }
   ],
   "source": [
    "vectorPoints=rand(0:100.,100,3);\n",
    "\n",
    "println(vectorPoints);\n",
    "pointsHull=conicHull(vectorPoints)\n",
    "grapher(vectorPoints,pointsHull,3)"
   ]
  },
  {
   "cell_type": "markdown",
   "metadata": {},
   "source": [
    "# 3. Verificar que el conjunto de soluciones de un conjunto de desigualdades de matrices lineales es convexa."
   ]
  },
  {
   "cell_type": "markdown",
   "metadata": {},
   "source": [
    "Dado que es un conjunto de desigualdades se pueden escribir como:\n",
    "$$C=\\{x\\in \\mathbb{R}^n| Ax\\preceq b\\}$$\n",
    "Así tomemos $x,y\\in C$ entonces para la $i$-esima fila de la matriz $A$ se tiene que:\n",
    "\n",
    "$$\\sum_{i=0}^n a_{i,j} x_i\\leq b_i\\quad \\sum_{i=0}^n a_{i,j} y_i\\leq b_i$$\n",
    "\n",
    "Y después, tomando $\\theta x+(1-theta)y$ en la $i$-esima coordenada del vector  $A(\\theta x+(1-theta)y)$ se tiene que:\n",
    "\n",
    "$$\\begin{align*}\n",
    "\\sum_{i=1}^n a_{i,j} (\\theta x_i+(1-\\theta) y_i)&=\\theta\\sum_{i=0}^n a_{i,j} x_i+(1-\\theta) \\sum_{i=1}^n a_{i,j}y_i\\\\\n",
    "&\\leq \\theta b_i+(1-\\theta)b_i=b_i\n",
    "\\end{align*}$$\n",
    "\n",
    "Entonces $A(\\theta x+(1-theta)y)\\preceq b$ y por lo tanto $C$ es convexo"
   ]
  }
 ],
 "metadata": {
  "@webio": {
   "lastCommId": "0ff3c79d2060420d8e16f61b628d285d",
   "lastKernelId": "0257a12a-604e-4dd6-a748-07a0efc85840"
  },
  "celltoolbar": "Raw Cell Format",
  "kernelspec": {
   "display_name": "Julia 1.7.2",
   "language": "julia",
   "name": "julia-1.7"
  },
  "language_info": {
   "file_extension": ".jl",
   "mimetype": "application/julia",
   "name": "julia",
   "version": "1.7.2"
  }
 },
 "nbformat": 4,
 "nbformat_minor": 4
}
